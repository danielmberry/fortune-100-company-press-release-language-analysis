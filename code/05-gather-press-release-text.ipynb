{
 "cells": [
  {
   "cell_type": "markdown",
   "id": "partial-writer",
   "metadata": {},
   "source": [
    "# Gather Press Release Text\n",
    "\n"
   ]
  },
  {
   "cell_type": "markdown",
   "id": "liberal-compilation",
   "metadata": {},
   "source": [
    "## Imports"
   ]
  },
  {
   "cell_type": "code",
   "execution_count": 2,
   "id": "needed-thursday",
   "metadata": {
    "ExecuteTime": {
     "end_time": "2021-03-16T18:13:26.780410Z",
     "start_time": "2021-03-16T18:13:26.119377Z"
    }
   },
   "outputs": [],
   "source": [
    "import pandas as pd\n",
    "\n",
    "import time\n",
    "from tqdm import tqdm\n",
    "\n",
    "import os\n",
    "\n",
    "import requests\n",
    "from bs4 import BeautifulSoup\n",
    "\n",
    "import warnings\n",
    "warnings.filterwarnings('ignore')"
   ]
  },
  {
   "cell_type": "code",
   "execution_count": 3,
   "id": "buried-hopkins",
   "metadata": {
    "ExecuteTime": {
     "end_time": "2021-03-16T18:13:28.189894Z",
     "start_time": "2021-03-16T18:13:28.178411Z"
    }
   },
   "outputs": [
    {
     "data": {
      "text/plain": [
       "['apple_links.csv',\n",
       " 'walmart_links.csv',\n",
       " 'cvs_health_links.csv',\n",
       " 'amazon_links.csv',\n",
       " 'exxon_mobil_links.csv']"
      ]
     },
     "execution_count": 3,
     "metadata": {},
     "output_type": "execute_result"
    }
   ],
   "source": [
    "files = [f for f in os.listdir('../data/links/') if 'csv' in f]\n",
    "files"
   ]
  },
  {
   "cell_type": "markdown",
   "id": "perceived-mentor",
   "metadata": {},
   "source": [
    "The below provides a rough estimate of how long the code in the cell that follows will take to run."
   ]
  },
  {
   "cell_type": "code",
   "execution_count": 4,
   "id": "unlikely-constraint",
   "metadata": {
    "ExecuteTime": {
     "end_time": "2021-03-16T18:13:29.274443Z",
     "start_time": "2021-03-16T18:13:29.247531Z"
    }
   },
   "outputs": [
    {
     "name": "stdout",
     "output_type": "stream",
     "text": [
      "Files: ['apple_links.csv', 'walmart_links.csv', 'cvs_health_links.csv', 'amazon_links.csv', 'exxon_mobil_links.csv']\n",
      "Lengths: [263, 437, 767, 449, 143]\n",
      "Time: 133.83 minutes\n"
     ]
    }
   ],
   "source": [
    "lengths = [len(pd.read_csv(f'../data/links/{file}')) for file in files]\n",
    "time = (sum(lengths)*3.9)/60\n",
    "print('Files:',files)\n",
    "print('Lengths:',lengths)\n",
    "print('Time: %0.2f minutes'%(time))"
   ]
  },
  {
   "cell_type": "markdown",
   "id": "gross-picking",
   "metadata": {},
   "source": [
    "For each file, iterate through the rows and use either the link by itself or the base + the link with the `requests` library to gather press release text. These files are then saved in the press_releases folder."
   ]
  },
  {
   "cell_type": "code",
   "execution_count": 5,
   "id": "stock-guatemala",
   "metadata": {
    "ExecuteTime": {
     "end_time": "2021-03-16T18:13:43.357095Z",
     "start_time": "2021-03-16T18:13:31.339217Z"
    }
   },
   "outputs": [
    {
     "name": "stderr",
     "output_type": "stream",
     "text": [
      " 50%|█████     | 2/4 [00:00<00:00,  4.09it/s]"
     ]
    },
    {
     "name": "stdout",
     "output_type": "stream",
     "text": [
      "Error: apple_links.csv | https://www.apple.com/newsroom/2021/03/apple-earns-historic-academy-award-nominations-for-wolfwalkers-and-greyhound/ | 0 | <Response [200]>\n",
      "Error: apple_links.csv | https://www.apple.com/newsroom/2021/03/apple-womens-health-study-releases-preliminary-data-to-help-destigmatize-menstrual-symptoms/ | 1 | <Response [200]>\n"
     ]
    },
    {
     "name": "stderr",
     "output_type": "stream",
     "text": [
      "\r",
      " 75%|███████▌  | 3/4 [00:00<00:00,  4.03it/s]"
     ]
    },
    {
     "name": "stdout",
     "output_type": "stream",
     "text": [
      "Error: apple_links.csv | https://www.apple.com/newsroom/2021/03/apple-tv-plus-announces-programming-partnership-with-nobel-laureate-malala-yousafzai/ | 2 | <Response [200]>\n"
     ]
    },
    {
     "name": "stderr",
     "output_type": "stream",
     "text": [
      "100%|██████████| 4/4 [00:01<00:00,  3.68it/s]\n",
      "  0%|          | 0/4 [00:00<?, ?it/s]"
     ]
    },
    {
     "name": "stdout",
     "output_type": "stream",
     "text": [
      "Error: apple_links.csv | https://www.apple.com/newsroom/2021/03/apple-hearing-study-shares-new-insights-on-hearing-health/ | 3 | <Response [200]>\n"
     ]
    },
    {
     "name": "stderr",
     "output_type": "stream",
     "text": [
      "\r",
      " 25%|██▌       | 1/4 [00:00<00:01,  2.15it/s]"
     ]
    },
    {
     "name": "stdout",
     "output_type": "stream",
     "text": [
      "Error: walmart_links.csv | https://corporate.walmart.com/newsroom/2021/03/12/walmart-investment-to-accelerate-growth-of-rakutens-global-ecosystem | 0 | <Response [200]>\n"
     ]
    },
    {
     "name": "stderr",
     "output_type": "stream",
     "text": [
      "\r",
      " 50%|█████     | 2/4 [00:00<00:00,  2.15it/s]"
     ]
    },
    {
     "name": "stdout",
     "output_type": "stream",
     "text": [
      "Error: walmart_links.csv | https://corporate.walmart.com/newsroom/2021/03/09/walmart-doubles-down-on-tiktok-shopping-hosts-all-new-live-stream-shopping-event | 1 | <Response [200]>\n"
     ]
    },
    {
     "name": "stderr",
     "output_type": "stream",
     "text": [
      "\r",
      " 75%|███████▌  | 3/4 [00:01<00:00,  2.16it/s]"
     ]
    },
    {
     "name": "stdout",
     "output_type": "stream",
     "text": [
      "Error: walmart_links.csv | https://corporate.walmart.com/newsroom/2021/03/05/walmart-board-of-directors-adds-former-at-t-chairman-and-ceo-randall-stephenson | 2 | <Response [200]>\n"
     ]
    },
    {
     "name": "stderr",
     "output_type": "stream",
     "text": [
      "100%|██████████| 4/4 [00:01<00:00,  2.17it/s]\n",
      "  0%|          | 0/4 [00:00<?, ?it/s]"
     ]
    },
    {
     "name": "stdout",
     "output_type": "stream",
     "text": [
      "Error: walmart_links.csv | https://corporate.walmart.com/newsroom/2021/03/04/walmart-maintains-relentless-focus-on-growing-frontline-associates-in-the-pandemic-and-beyond | 3 | <Response [200]>\n"
     ]
    },
    {
     "name": "stderr",
     "output_type": "stream",
     "text": [
      " 50%|█████     | 2/4 [00:02<00:01,  1.15it/s]"
     ]
    },
    {
     "name": "stdout",
     "output_type": "stream",
     "text": [
      "Error: cvs_health_links.csv | https://www.cvshealth.com/news-and-insights/press-releases/cvs-health-invests-114-million-in-affordable-housing-across-the | 0 | <Response [200]>\n",
      "Error: cvs_health_links.csv | https://www.cvshealth.com/news-and-insights/press-releases/cvs-health-now-offering-covid-19-vaccines-in-29-states | 1 | <Response [200]>\n"
     ]
    },
    {
     "name": "stderr",
     "output_type": "stream",
     "text": [
      "\r",
      " 75%|███████▌  | 3/4 [00:03<00:01,  1.34s/it]"
     ]
    },
    {
     "name": "stdout",
     "output_type": "stream",
     "text": [
      "Error: cvs_health_links.csv | https://www.cvshealth.com/news-and-insights/press-releases/cvs-health-completes-first-round-of-covid-19-vaccine-doses-at | 2 | <Response [200]>\n"
     ]
    },
    {
     "name": "stderr",
     "output_type": "stream",
     "text": [
      "100%|██████████| 4/4 [00:05<00:00,  1.44s/it]\n",
      "  0%|          | 0/4 [00:00<?, ?it/s]"
     ]
    },
    {
     "name": "stdout",
     "output_type": "stream",
     "text": [
      "Error: cvs_health_links.csv | https://www.cvshealth.com/news-and-insights/press-releases/cvs-health-launches-symphonytm-to-support-senior-safety-at-home | 3 | <Response [200]>\n"
     ]
    },
    {
     "name": "stderr",
     "output_type": "stream",
     "text": [
      " 50%|█████     | 2/4 [00:00<00:00,  3.20it/s]"
     ]
    },
    {
     "name": "stdout",
     "output_type": "stream",
     "text": [
      "Error: amazon_links.csv | https://press.aboutamazon.com/news-releases/news-release-details/amazon-continues-investment-florida-deltona-fulfillment-center | 0 | <Response [200]>\n",
      "Error: amazon_links.csv | https://press.aboutamazon.com/news-releases/news-release-details/customers-shopped-record-levels-holiday-season-billions-items | 1 | <Response [200]>\n"
     ]
    },
    {
     "name": "stderr",
     "output_type": "stream",
     "text": [
      "\r",
      " 75%|███████▌  | 3/4 [00:01<00:00,  2.31it/s]"
     ]
    },
    {
     "name": "stdout",
     "output_type": "stream",
     "text": [
      "Error: amazon_links.csv | https://press.aboutamazon.com/news-releases/news-release-details/amazon-has-enabled-hundreds-small-businesses-and-created-over | 2 | <Response [200]>\n"
     ]
    },
    {
     "name": "stderr",
     "output_type": "stream",
     "text": [
      "100%|██████████| 4/4 [00:01<00:00,  2.12it/s]\n",
      "  0%|          | 0/4 [00:00<?, ?it/s]"
     ]
    },
    {
     "name": "stdout",
     "output_type": "stream",
     "text": [
      "Error: amazon_links.csv | https://press.aboutamazon.com/news-releases/news-release-details/amazon-makes-returns-even-easier-holiday-free-returns-millions | 3 | <Response [200]>\n"
     ]
    },
    {
     "name": "stderr",
     "output_type": "stream",
     "text": [
      "\r",
      " 25%|██▌       | 1/4 [00:00<00:01,  1.81it/s]"
     ]
    },
    {
     "name": "stdout",
     "output_type": "stream",
     "text": [
      "Error: exxon_mobil_links.csv | https://corporate.exxonmobil.com/News/Newsroom/News-releases/2021/0311_Darren-Woods-shares-strategy-for-long-term-growth-in-lower-carbon-future-with-employees | 0 | <Response [200]>\n"
     ]
    },
    {
     "name": "stderr",
     "output_type": "stream",
     "text": [
      "\r",
      " 50%|█████     | 2/4 [00:00<00:00,  2.65it/s]"
     ]
    },
    {
     "name": "stdout",
     "output_type": "stream",
     "text": [
      "Error: exxon_mobil_links.csv | https://corporate.exxonmobil.com/News/Newsroom/News-releases/2021/0303_ExxonMobil-outlines-plans-to-grow-long-term-shareholder-value-in-lower-carbon-future | 1 | <Response [200]>\n"
     ]
    },
    {
     "name": "stderr",
     "output_type": "stream",
     "text": [
      "\r",
      " 75%|███████▌  | 3/4 [00:01<00:00,  3.10it/s]"
     ]
    },
    {
     "name": "stdout",
     "output_type": "stream",
     "text": [
      "Error: exxon_mobil_links.csv | https://corporate.exxonmobil.com/News/Newsroom/News-releases/2021/0302_ExxonMobil-announces-Singapore-workforce-reductions | 2 | <Response [200]>\n"
     ]
    },
    {
     "name": "stderr",
     "output_type": "stream",
     "text": [
      "100%|██████████| 4/4 [00:01<00:00,  2.89it/s]"
     ]
    },
    {
     "name": "stdout",
     "output_type": "stream",
     "text": [
      "Error: exxon_mobil_links.csv | https://corporate.exxonmobil.com/News/Newsroom/News-releases/2021/0301_Neil-Duffin-to-retire-as-president-of-ExxonMobil-Global-Projects-Company_Jon-Gibbs-elected | 3 | <Response [200]>\n"
     ]
    },
    {
     "name": "stderr",
     "output_type": "stream",
     "text": [
      "\n"
     ]
    }
   ],
   "source": [
    "for file in files:\n",
    "    # create new file name that can be used later\n",
    "    new_file_name = file.replace('links.csv', 'press_releases.csv')\n",
    "\n",
    "    # read in the file as a data frame\n",
    "    df = pd.read_csv(f'../data/links/{file}')\n",
    "\n",
    "    # create list that dictionaries (created in for loop) can be appended to\n",
    "    press_releases = []\n",
    "\n",
    "    try:\n",
    "        # iterate through each row in the data frame\n",
    "        # range(len(df))\n",
    "        for i in tqdm(range(4)):\n",
    "            try:\n",
    "\n",
    "                # create dictionary for each row and the results it returns\n",
    "                press_release = {}\n",
    "\n",
    "                # for those files that have a base string, get the url, otherwise\n",
    "                # just use the link column\n",
    "                if type(df.loc[i, 'base']) == str:\n",
    "                    url = df.loc[i, 'base'] + df.loc[i, 'link']\n",
    "                else:\n",
    "                    url = df.loc[i, 'link']\n",
    "\n",
    "                req = requests.get(url)\n",
    "\n",
    "                soup = BeautifulSoup(req.content, 'lxml')\n",
    "\n",
    "                press_release['full_link'] = url\n",
    "                press_release['title'] = soup.title.text\n",
    "                press_release['body'] = soup.body.text\n",
    "                press_release['html'] = soup\n",
    "                \n",
    "                if 'amazon' in file:\n",
    "                    press_release['year'] = df.loc[i,'year']\n",
    "                else:\n",
    "                    pass\n",
    "                    \n",
    "                press_releases.append(press_release)\n",
    "                time.sleep(3)\n",
    "\n",
    "            except:\n",
    "                print(f'Error: {file} | {url} | {i} | {req}')\n",
    "\n",
    "    except:\n",
    "        print(f'Error: {file} | {url}')\n",
    "\n",
    "    pr_df = pd.DataFrame(press_releases)\n",
    "#     pr_df.to_csv(f'../data/press_releases/{new_file_name}', index=False)"
   ]
  },
  {
   "cell_type": "code",
   "execution_count": null,
   "id": "pointed-shelter",
   "metadata": {
    "ExecuteTime": {
     "start_time": "2021-03-16T16:31:37.594Z"
    }
   },
   "outputs": [],
   "source": [
    "pr_df"
   ]
  }
 ],
 "metadata": {
  "kernelspec": {
   "display_name": "Python 3",
   "language": "python",
   "name": "python3"
  },
  "language_info": {
   "codemirror_mode": {
    "name": "ipython",
    "version": 3
   },
   "file_extension": ".py",
   "mimetype": "text/x-python",
   "name": "python",
   "nbconvert_exporter": "python",
   "pygments_lexer": "ipython3",
   "version": "3.8.5"
  },
  "toc": {
   "base_numbering": 1,
   "nav_menu": {},
   "number_sections": true,
   "sideBar": true,
   "skip_h1_title": false,
   "title_cell": "Table of Contents",
   "title_sidebar": "Contents",
   "toc_cell": false,
   "toc_position": {},
   "toc_section_display": true,
   "toc_window_display": false
  },
  "varInspector": {
   "cols": {
    "lenName": 16,
    "lenType": 16,
    "lenVar": 40
   },
   "kernels_config": {
    "python": {
     "delete_cmd_postfix": "",
     "delete_cmd_prefix": "del ",
     "library": "var_list.py",
     "varRefreshCmd": "print(var_dic_list())"
    },
    "r": {
     "delete_cmd_postfix": ") ",
     "delete_cmd_prefix": "rm(",
     "library": "var_list.r",
     "varRefreshCmd": "cat(var_dic_list()) "
    }
   },
   "types_to_exclude": [
    "module",
    "function",
    "builtin_function_or_method",
    "instance",
    "_Feature"
   ],
   "window_display": false
  }
 },
 "nbformat": 4,
 "nbformat_minor": 5
}
