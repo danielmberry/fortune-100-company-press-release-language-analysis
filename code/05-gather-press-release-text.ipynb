{
 "cells": [
  {
   "cell_type": "markdown",
   "id": "partial-writer",
   "metadata": {},
   "source": [
    "# Gather Press Release Text\n",
    "\n"
   ]
  },
  {
   "cell_type": "markdown",
   "id": "liberal-compilation",
   "metadata": {},
   "source": [
    "## Imports"
   ]
  },
  {
   "cell_type": "code",
   "execution_count": 1,
   "id": "needed-thursday",
   "metadata": {
    "ExecuteTime": {
     "end_time": "2021-03-16T19:33:32.179680Z",
     "start_time": "2021-03-16T19:33:30.546216Z"
    }
   },
   "outputs": [],
   "source": [
    "import pandas as pd\n",
    "\n",
    "import time\n",
    "from tqdm import tqdm\n",
    "\n",
    "import os\n",
    "\n",
    "import requests\n",
    "from bs4 import BeautifulSoup\n",
    "\n",
    "import warnings\n",
    "warnings.filterwarnings('ignore')"
   ]
  },
  {
   "cell_type": "code",
   "execution_count": 2,
   "id": "buried-hopkins",
   "metadata": {
    "ExecuteTime": {
     "end_time": "2021-03-16T19:33:32.208513Z",
     "start_time": "2021-03-16T19:33:32.187186Z"
    }
   },
   "outputs": [
    {
     "data": {
      "text/plain": [
       "['apple_links.csv',\n",
       " 'walmart_links.csv',\n",
       " 'cvs_health_links.csv',\n",
       " 'amazon_links.csv',\n",
       " 'exxon_mobil_links.csv']"
      ]
     },
     "execution_count": 2,
     "metadata": {},
     "output_type": "execute_result"
    }
   ],
   "source": [
    "files = [f for f in os.listdir('../data/links/') if 'csv' in f]\n",
    "files"
   ]
  },
  {
   "cell_type": "markdown",
   "id": "perceived-mentor",
   "metadata": {},
   "source": [
    "The below provides a rough estimate of how long the code in the cell that follows will take to run."
   ]
  },
  {
   "cell_type": "code",
   "execution_count": 3,
   "id": "unlikely-constraint",
   "metadata": {
    "ExecuteTime": {
     "end_time": "2021-03-16T19:33:32.281154Z",
     "start_time": "2021-03-16T19:33:32.214505Z"
    }
   },
   "outputs": [
    {
     "name": "stdout",
     "output_type": "stream",
     "text": [
      "Files: ['apple_links.csv', 'walmart_links.csv', 'cvs_health_links.csv', 'amazon_links.csv', 'exxon_mobil_links.csv']\n",
      "Lengths: [263, 437, 767, 449, 143]\n",
      "Time: 133.83 minutes\n"
     ]
    }
   ],
   "source": [
    "lengths = [len(pd.read_csv(f'../data/links/{file}')) for file in files]\n",
    "run_time = (sum(lengths)*3.9)/60\n",
    "print('Files:',files)\n",
    "print('Lengths:',lengths)\n",
    "print('Time: %0.2f minutes'%(run_time))"
   ]
  },
  {
   "cell_type": "markdown",
   "id": "gross-picking",
   "metadata": {},
   "source": [
    "For each file, iterate through the rows and use either the link by itself or the base + the link with the `requests` library to gather press release text. These files are then saved in the press_releases folder."
   ]
  },
  {
   "cell_type": "code",
   "execution_count": 6,
   "id": "stock-guatemala",
   "metadata": {
    "ExecuteTime": {
     "end_time": "2021-03-16T22:04:01.172902Z",
     "start_time": "2021-03-16T19:46:38.233273Z"
    }
   },
   "outputs": [
    {
     "name": "stderr",
     "output_type": "stream",
     "text": [
      "100%|██████████| 263/263 [14:46<00:00,  3.37s/it]\n",
      "100%|██████████| 437/437 [26:06<00:00,  3.58s/it]\n",
      "100%|██████████| 767/767 [1:01:20<00:00,  4.80s/it]\n",
      "100%|██████████| 449/449 [26:18<00:00,  3.51s/it]\n",
      "100%|██████████| 143/143 [08:09<00:00,  3.43s/it]\n"
     ]
    }
   ],
   "source": [
    "for file in files:\n",
    "    # create new file name that can be used later\n",
    "    new_file_name = file.replace('links.csv', 'press_releases.csv')\n",
    "\n",
    "    # read in the file as a data frame\n",
    "    df = pd.read_csv(f'../data/links/{file}')\n",
    "\n",
    "    # create list that dictionaries (created in for loop) can be appended to\n",
    "    press_releases = []\n",
    "\n",
    "    try:\n",
    "        # iterate through each row in the data frame\n",
    "        for i in tqdm(range(len(df))):\n",
    "            time.sleep(3)\n",
    "            try:\n",
    "                \n",
    "                # create dictionary for each row and the results it returns\n",
    "                press_release = {}\n",
    "\n",
    "                # for those files that have a base string, get the url, otherwise\n",
    "                # just use the link column\n",
    "                if type(df.loc[i, 'base']) == str:\n",
    "                    url = df.loc[i, 'base'] + df.loc[i, 'link']\n",
    "                else:\n",
    "                    url = df.loc[i, 'link']\n",
    "\n",
    "                req = requests.get(url)\n",
    "\n",
    "                soup = BeautifulSoup(req.content, 'lxml')\n",
    "\n",
    "                press_release['full_link'] = url\n",
    "                press_release['title'] = soup.title.text\n",
    "                press_release['body'] = soup.body.text\n",
    "                press_release['html'] = soup\n",
    "                \n",
    "                if 'amazon' in file:\n",
    "                    press_release['year'] = df.loc[i,'year']\n",
    "                else:\n",
    "                    pass\n",
    "                    \n",
    "                press_releases.append(press_release)\n",
    "                \n",
    "\n",
    "            except:\n",
    "                print(f'Error: {file} | {url} | {i} | {req}')\n",
    "            \n",
    "    except:\n",
    "        print(f'Error: {file} | {url}')\n",
    "\n",
    "    pr_df = pd.DataFrame(press_releases)\n",
    "    pr_df.to_csv(f'../data/press_releases/{new_file_name}', index=False)"
   ]
  }
 ],
 "metadata": {
  "kernelspec": {
   "display_name": "Python 3",
   "language": "python",
   "name": "python3"
  },
  "language_info": {
   "codemirror_mode": {
    "name": "ipython",
    "version": 3
   },
   "file_extension": ".py",
   "mimetype": "text/x-python",
   "name": "python",
   "nbconvert_exporter": "python",
   "pygments_lexer": "ipython3",
   "version": "3.8.5"
  },
  "toc": {
   "base_numbering": 1,
   "nav_menu": {},
   "number_sections": true,
   "sideBar": true,
   "skip_h1_title": false,
   "title_cell": "Table of Contents",
   "title_sidebar": "Contents",
   "toc_cell": false,
   "toc_position": {},
   "toc_section_display": true,
   "toc_window_display": false
  },
  "varInspector": {
   "cols": {
    "lenName": 16,
    "lenType": 16,
    "lenVar": 40
   },
   "kernels_config": {
    "python": {
     "delete_cmd_postfix": "",
     "delete_cmd_prefix": "del ",
     "library": "var_list.py",
     "varRefreshCmd": "print(var_dic_list())"
    },
    "r": {
     "delete_cmd_postfix": ") ",
     "delete_cmd_prefix": "rm(",
     "library": "var_list.r",
     "varRefreshCmd": "cat(var_dic_list()) "
    }
   },
   "types_to_exclude": [
    "module",
    "function",
    "builtin_function_or_method",
    "instance",
    "_Feature"
   ],
   "window_display": false
  }
 },
 "nbformat": 4,
 "nbformat_minor": 5
}
