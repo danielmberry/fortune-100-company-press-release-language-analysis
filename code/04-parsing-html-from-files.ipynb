{
 "cells": [
  {
   "cell_type": "markdown",
   "id": "fitting-extraction",
   "metadata": {},
   "source": [
    "# Parse the Newsroom HTML\n",
    "\n",
    "Now that we've collected all of the HTML we needed from each of the company's newsrooms, we can begin to parse the HTML to gather all of the links, filter out the links that don't lead to press releases."
   ]
  },
  {
   "cell_type": "markdown",
   "id": "liberal-compilation",
   "metadata": {},
   "source": [
    "## Imports"
   ]
  },
  {
   "cell_type": "code",
   "execution_count": 1,
   "id": "needed-thursday",
   "metadata": {
    "ExecuteTime": {
     "end_time": "2021-03-15T19:30:50.049887Z",
     "start_time": "2021-03-15T19:30:48.344995Z"
    }
   },
   "outputs": [],
   "source": [
    "import pandas as pd\n",
    "import numpy as np\n",
    "import matplotlib.pyplot as plt\n",
    "import seaborn as sns\n",
    "\n",
    "from tqdm import tqdm \n",
    "\n",
    "import matplotlib.pyplot as plt\n",
    "\n",
    "from bs4 import BeautifulSoup\n",
    "\n",
    "import os\n",
    "\n",
    "import warnings\n",
    "warnings.filterwarnings('ignore')"
   ]
  },
  {
   "cell_type": "markdown",
   "id": "smaller-mediterranean",
   "metadata": {},
   "source": [
    "## Get a list of all the HTML files"
   ]
  },
  {
   "cell_type": "code",
   "execution_count": 2,
   "id": "fatal-iceland",
   "metadata": {
    "ExecuteTime": {
     "end_time": "2021-03-15T19:30:50.057479Z",
     "start_time": "2021-03-15T19:30:50.052374Z"
    }
   },
   "outputs": [
    {
     "data": {
      "text/plain": [
       "['exxon_mobil_html.csv',\n",
       " 'walmart_html.csv',\n",
       " 'amazon_html.csv',\n",
       " 'cvs_health_html.csv',\n",
       " 'apple_html.csv']"
      ]
     },
     "execution_count": 2,
     "metadata": {},
     "output_type": "execute_result"
    }
   ],
   "source": [
    "files = os.listdir('../data/html/')\n",
    "html_files = [f for f in files if 'html' in f]\n",
    "html_files"
   ]
  },
  {
   "cell_type": "markdown",
   "id": "continental-interim",
   "metadata": {},
   "source": [
    "### Get all the links from each block of html in each of the files "
   ]
  },
  {
   "cell_type": "markdown",
   "id": "alleged-evolution",
   "metadata": {},
   "source": [
    "For each file in the html folder, parse the HTML in each row to gather all of the links from the webpage, which are then saved as new files in the links folder."
   ]
  },
  {
   "cell_type": "code",
   "execution_count": 3,
   "id": "nuclear-robinson",
   "metadata": {
    "ExecuteTime": {
     "end_time": "2021-03-15T19:31:04.777940Z",
     "start_time": "2021-03-15T19:30:50.059616Z"
    }
   },
   "outputs": [
    {
     "name": "stderr",
     "output_type": "stream",
     "text": [
      "100%|██████████| 5/5 [00:14<00:00,  2.94s/it]\n"
     ]
    }
   ],
   "source": [
    "# iterate through all the files in the folder\n",
    "for file in tqdm(html_files):\n",
    "\n",
    "    # create a new file name for later\n",
    "    new_file_name = file.replace('html.csv', 'links.csv')\n",
    "    link_files = os.listdir('../data/links/')\n",
    "    \n",
    "    # create a dataframe from the csv file\n",
    "    df = pd.read_csv(f'../data/html/{file}')\n",
    "\n",
    "    # start a list that information can be appended to\n",
    "    hrefs = []\n",
    "\n",
    "    for row in range(len(df)):\n",
    "\n",
    "        # get html from each row of the dataframe\n",
    "        html = df.loc[row, 'html']\n",
    "\n",
    "        # use BeautifulSoup to read in the html\n",
    "        soup = BeautifulSoup(html, 'lxml')\n",
    "\n",
    "        # get a list of all the tags on that page\n",
    "        tags = set([tag.name for tag in soup.find_all()])\n",
    "\n",
    "        # iterate through all of the possible tags to get\n",
    "        # all of the links, regardless of how it is tagged\n",
    "        for tag in tags:\n",
    "\n",
    "            # iterate through all of the elements with that tag\n",
    "            for element in soup.find_all(tag):\n",
    "                # open a dictionary to append to the hrefs list\n",
    "                href = {}\n",
    "                # only append if the element has a link\n",
    "                if 'href' in element.attrs:\n",
    "                    href['company'] = df.loc[row, 'company']\n",
    "                    href['newsroom_page'] = row\n",
    "                    href['tag'] = tag\n",
    "                    href['link'] = element.attrs['href']\n",
    "                    hrefs.append(href)\n",
    "\n",
    "    links = pd.DataFrame(hrefs).drop_duplicates(subset=['link']).dropna()\n",
    "    links.to_csv(f'../data/links/{new_file_name}', index=False)"
   ]
  },
  {
   "cell_type": "markdown",
   "id": "improving-administration",
   "metadata": {},
   "source": [
    "## Editing `links` files"
   ]
  },
  {
   "cell_type": "markdown",
   "id": "planned-michigan",
   "metadata": {},
   "source": [
    "Knowing "
   ]
  },
  {
   "cell_type": "code",
   "execution_count": 4,
   "id": "rubber-magic",
   "metadata": {
    "ExecuteTime": {
     "end_time": "2021-03-15T19:31:04.785604Z",
     "start_time": "2021-03-15T19:31:04.780506Z"
    }
   },
   "outputs": [
    {
     "data": {
      "text/plain": [
       "['apple_links.csv',\n",
       " 'walmart_links.csv',\n",
       " 'cvs_health_links.csv',\n",
       " 'amazon_links.csv',\n",
       " 'exxon_mobil_links.csv']"
      ]
     },
     "execution_count": 4,
     "metadata": {},
     "output_type": "execute_result"
    }
   ],
   "source": [
    "link_files = [f for f in os.listdir('../data/links/') if 'csv' in f]\n",
    "link_files"
   ]
  },
  {
   "cell_type": "code",
   "execution_count": 5,
   "id": "attractive-nepal",
   "metadata": {
    "ExecuteTime": {
     "end_time": "2021-03-15T19:31:04.825376Z",
     "start_time": "2021-03-15T19:31:04.787506Z"
    }
   },
   "outputs": [],
   "source": [
    "prior_lengths = []\n",
    "\n",
    "for file in link_files:\n",
    "    info = {}\n",
    "    df = pd.read_csv(f'../data/links/{file}')\n",
    "    info['company'] = df['company'][0]\n",
    "    info['prior_length'] = len(df)\n",
    "    prior_lengths.append(info)\n",
    "    \n",
    "priors = pd.DataFrame(prior_lengths)"
   ]
  },
  {
   "cell_type": "markdown",
   "id": "republican-transmission",
   "metadata": {},
   "source": [
    "Due to the volume of unnecessary/irrelevant links obtained by just grabbing all of the HTML from the webpage, the below filters out anything that *isn't* a link to a press release using a loop and saving the filtered DataFrame back to the links file. "
   ]
  },
  {
   "cell_type": "code",
   "execution_count": 6,
   "id": "mental-berry",
   "metadata": {
    "ExecuteTime": {
     "end_time": "2021-03-15T19:31:04.830189Z",
     "start_time": "2021-03-15T19:31:04.827051Z"
    }
   },
   "outputs": [],
   "source": [
    "pr_links_dict = {\n",
    "    'Apple': {\n",
    "        'link': '/newsroom/20(21|20|19)',\n",
    "        'base': 'https://www.apple.com'\n",
    "    },\n",
    "    'Walmart': {\n",
    "        'link': 'https://corporate.walmart.com/newsroom/20(21|20|19)',\n",
    "        'base': ''\n",
    "    },\n",
    "    'CVS Health': {\n",
    "        'link': '/(newsroom|news-and-insights)/press-releases/',\n",
    "        'base': 'https://www.cvshealth.com'\n",
    "    },\n",
    "    'Amazon': {\n",
    "        'link': '/news-releases/news-release-details/',\n",
    "        'base': 'https://press.aboutamazon.com'\n",
    "    },\n",
    "    'Exxon Mobil': {\n",
    "        'link': '/News/Newsroom/News-releases/20(21|20|19)',\n",
    "        'base': 'https://corporate.exxonmobil.com'\n",
    "    }\n",
    "}"
   ]
  },
  {
   "cell_type": "code",
   "execution_count": 7,
   "id": "damaged-russia",
   "metadata": {
    "ExecuteTime": {
     "end_time": "2021-03-15T19:31:04.896134Z",
     "start_time": "2021-03-15T19:31:04.835032Z"
    }
   },
   "outputs": [],
   "source": [
    "# filter the links based on the filter string and add the base url\n",
    "for file in link_files:\n",
    "    df = pd.read_csv(f'../data/links/{file}').dropna()\n",
    "    company = df.company[0]\n",
    "    filter_string = pr_links_dict[company]['link']\n",
    "    df = df[df['link'].str.contains(filter_string)]\n",
    "    df['base'] = pr_links_dict[company]['base']\n",
    "    df.to_csv(f'../data/links/{file}', index=False)\n"
   ]
  },
  {
   "cell_type": "code",
   "execution_count": 8,
   "id": "necessary-traveler",
   "metadata": {
    "ExecuteTime": {
     "end_time": "2021-03-15T19:31:04.917703Z",
     "start_time": "2021-03-15T19:31:04.899159Z"
    }
   },
   "outputs": [],
   "source": [
    "post_lengths = []\n",
    "\n",
    "for file in link_files:\n",
    "    info = {}\n",
    "    df = pd.read_csv(f'../data/links/{file}')\n",
    "    info['company'] = df['company'][0]\n",
    "    info['post_length'] = len(df)\n",
    "    post_lengths.append(info)\n",
    "\n",
    "posts = pd.DataFrame(post_lengths)"
   ]
  },
  {
   "cell_type": "code",
   "execution_count": 9,
   "id": "diverse-seminar",
   "metadata": {
    "ExecuteTime": {
     "end_time": "2021-03-15T19:31:04.932497Z",
     "start_time": "2021-03-15T19:31:04.919764Z"
    }
   },
   "outputs": [
    {
     "data": {
      "text/html": [
       "<div>\n",
       "<style scoped>\n",
       "    .dataframe tbody tr th:only-of-type {\n",
       "        vertical-align: middle;\n",
       "    }\n",
       "\n",
       "    .dataframe tbody tr th {\n",
       "        vertical-align: top;\n",
       "    }\n",
       "\n",
       "    .dataframe thead th {\n",
       "        text-align: right;\n",
       "    }\n",
       "</style>\n",
       "<table border=\"1\" class=\"dataframe\">\n",
       "  <thead>\n",
       "    <tr style=\"text-align: right;\">\n",
       "      <th></th>\n",
       "      <th>company</th>\n",
       "      <th>prior_length</th>\n",
       "      <th>post_length</th>\n",
       "    </tr>\n",
       "  </thead>\n",
       "  <tbody>\n",
       "    <tr>\n",
       "      <th>0</th>\n",
       "      <td>Apple</td>\n",
       "      <td>5242</td>\n",
       "      <td>263</td>\n",
       "    </tr>\n",
       "    <tr>\n",
       "      <th>1</th>\n",
       "      <td>Walmart</td>\n",
       "      <td>1105</td>\n",
       "      <td>437</td>\n",
       "    </tr>\n",
       "    <tr>\n",
       "      <th>2</th>\n",
       "      <td>CVS Health</td>\n",
       "      <td>997</td>\n",
       "      <td>767</td>\n",
       "    </tr>\n",
       "    <tr>\n",
       "      <th>3</th>\n",
       "      <td>Amazon</td>\n",
       "      <td>548</td>\n",
       "      <td>449</td>\n",
       "    </tr>\n",
       "    <tr>\n",
       "      <th>4</th>\n",
       "      <td>Exxon Mobil</td>\n",
       "      <td>255</td>\n",
       "      <td>143</td>\n",
       "    </tr>\n",
       "  </tbody>\n",
       "</table>\n",
       "</div>"
      ],
      "text/plain": [
       "       company  prior_length  post_length\n",
       "0        Apple          5242          263\n",
       "1      Walmart          1105          437\n",
       "2   CVS Health           997          767\n",
       "3       Amazon           548          449\n",
       "4  Exxon Mobil           255          143"
      ]
     },
     "execution_count": 9,
     "metadata": {},
     "output_type": "execute_result"
    }
   ],
   "source": [
    "lengths = priors.merge(posts,on='company')\n",
    "\n",
    "lengths"
   ]
  },
  {
   "cell_type": "code",
   "execution_count": 10,
   "id": "capital-fellowship",
   "metadata": {
    "ExecuteTime": {
     "end_time": "2021-03-15T19:31:05.126332Z",
     "start_time": "2021-03-15T19:31:04.934210Z"
    }
   },
   "outputs": [
    {
     "data": {
      "image/png": "[encoded data removed]",
      "text/plain": [
       "<Figure size 432x288 with 1 Axes>"
      ]
     },
     "metadata": {
      "needs_background": "light"
     },
     "output_type": "display_data"
    }
   ],
   "source": [
    "fig, ax = plt.subplots()\n",
    "\n",
    "ax.bar(lengths.company,lengths.prior_length, label = 'Pre-Data Cleaning')\n",
    "ax.bar(lengths.company,lengths.post_length, label = 'Post-Data Cleaning')\n",
    "ax.legend();"
   ]
  }
 ],
 "metadata": {
  "kernelspec": {
   "display_name": "Python 3",
   "language": "python",
   "name": "python3"
  },
  "language_info": {
   "codemirror_mode": {
    "name": "ipython",
    "version": 3
   },
   "file_extension": ".py",
   "mimetype": "text/x-python",
   "name": "python",
   "nbconvert_exporter": "python",
   "pygments_lexer": "ipython3",
   "version": "3.8.5"
  },
  "toc": {
   "base_numbering": 1,
   "nav_menu": {},
   "number_sections": true,
   "sideBar": true,
   "skip_h1_title": false,
   "title_cell": "Table of Contents",
   "title_sidebar": "Contents",
   "toc_cell": false,
   "toc_position": {},
   "toc_section_display": true,
   "toc_window_display": false
  },
  "varInspector": {
   "cols": {
    "lenName": 16,
    "lenType": 16,
    "lenVar": 40
   },
   "kernels_config": {
    "python": {
     "delete_cmd_postfix": "",
     "delete_cmd_prefix": "del ",
     "library": "var_list.py",
     "varRefreshCmd": "print(var_dic_list())"
    },
    "r": {
     "delete_cmd_postfix": ") ",
     "delete_cmd_prefix": "rm(",
     "library": "var_list.r",
     "varRefreshCmd": "cat(var_dic_list()) "
    }
   },
   "types_to_exclude": [
    "module",
    "function",
    "builtin_function_or_method",
    "instance",
    "_Feature"
   ],
   "window_display": false
  }
 },
 "nbformat": 4,
 "nbformat_minor": 5
}
