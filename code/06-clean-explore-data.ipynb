{
 "cells": [
  {
   "cell_type": "markdown",
   "id": "worthy-trick",
   "metadata": {},
   "source": [
    "# Clean & Explore the Data\n",
    "\n",
    "After five notebooks worth of code, we finally have the press releases available to us. However, before I can start modeling, I first have to know when each press release was published so that I can determine whether it was before or after the start of the pandemic and assign it a label. Because each company's website is different, for some companies I extracted the dates from the website links (e.g., Apple, Walmart), while others I had to parse from the text of the press releases themselves (e.g., CVS, Exxon Mobil). Remember, we already have the year information for Amazon from when we were gathering the HTML from the newsroom.\n",
    "\n",
    "Additionally, I created a `full_text` column, which is the combination of the `title` column and the `body` column. From the `full_text` column, I removed words that could leak the target variable (i.e., 2019, 2021, COVID, pandemic), as well as words I expected or found to have been unnecessary and removed for the sake of cleaning (e.g., company names, 'newsroom', 'menu', 'blog', 'press').\n",
    "\n",
    "I also assigned the label in this notebook. For the purposes of this project, all press releases published before January 2020 are categorized as `before`, while all press releases published starting January 1, 2020 until present day are categorized as `after`. I chose January 2020 as the start date of the pandemic because, although lockdowns in the U.S. did not start until March, many companies were beginning to have supply chain issues as lockdowns in China caused significant manufacturing delays. \n",
    "\n",
    "Finally, I conduct some EDA on the final data at the end of this notebook."
   ]
  },
  {
   "cell_type": "markdown",
   "id": "instructional-airport",
   "metadata": {},
   "source": [
    "## Imports"
   ]
  },
  {
   "cell_type": "code",
   "execution_count": 66,
   "id": "contrary-reaction",
   "metadata": {
    "ExecuteTime": {
     "end_time": "2021-03-19T14:50:48.919580Z",
     "start_time": "2021-03-19T14:50:48.916375Z"
    }
   },
   "outputs": [],
   "source": [
    "import pandas as pd\n",
    "import numpy as np\n",
    "import matplotlib.pyplot as plt\n",
    "import matplotlib.ticker as mticker\n",
    "import seaborn as sns\n",
    "\n",
    "from tqdm import tqdm\n",
    "\n",
    "import datetime as dt\n",
    "\n",
    "import os\n",
    "\n",
    "import warnings\n",
    "warnings.filterwarnings('ignore')"
   ]
  },
  {
   "cell_type": "code",
   "execution_count": 3,
   "id": "behind-tonight",
   "metadata": {
    "ExecuteTime": {
     "end_time": "2021-03-19T13:45:12.828381Z",
     "start_time": "2021-03-19T13:45:12.822838Z"
    }
   },
   "outputs": [
    {
     "data": {
      "text/plain": [
       "['apple_press_releases.csv',\n",
       " 'cvs_health_press_releases.csv',\n",
       " 'exxon_mobil_press_releases.csv',\n",
       " 'walmart_press_releases.csv',\n",
       " 'amazon_press_releases.csv']"
      ]
     },
     "execution_count": 3,
     "metadata": {},
     "output_type": "execute_result"
    }
   ],
   "source": [
    "files = [f for f in os.listdir('../data/press_releases/') if 'csv' in f]\n",
    "files"
   ]
  },
  {
   "cell_type": "markdown",
   "id": "average-bookmark",
   "metadata": {},
   "source": [
    "## Finding the dates for each file and assigning the label"
   ]
  },
  {
   "cell_type": "markdown",
   "id": "clean-nurse",
   "metadata": {},
   "source": [
    "### Apple"
   ]
  },
  {
   "cell_type": "markdown",
   "id": "broken-kernel",
   "metadata": {},
   "source": [
    "For Apple, I extracted the year and month information from the link itself, converted this into the datetime format, and used that to get the year in the `year` column. I also added the `full_text` column, which is what the models will ultimately be trained on."
   ]
  },
  {
   "cell_type": "code",
   "execution_count": 3,
   "id": "attractive-priest",
   "metadata": {
    "ExecuteTime": {
     "end_time": "2021-03-17T21:58:56.327992Z",
     "start_time": "2021-03-17T21:58:55.858563Z"
    },
    "scrolled": true
   },
   "outputs": [
    {
     "data": {
      "text/html": [
       "<div>\n",
       "<style scoped>\n",
       "    .dataframe tbody tr th:only-of-type {\n",
       "        vertical-align: middle;\n",
       "    }\n",
       "\n",
       "    .dataframe tbody tr th {\n",
       "        vertical-align: top;\n",
       "    }\n",
       "\n",
       "    .dataframe thead th {\n",
       "        text-align: right;\n",
       "    }\n",
       "</style>\n",
       "<table border=\"1\" class=\"dataframe\">\n",
       "  <thead>\n",
       "    <tr style=\"text-align: right;\">\n",
       "      <th></th>\n",
       "      <th>full_link</th>\n",
       "      <th>title</th>\n",
       "      <th>body</th>\n",
       "      <th>html</th>\n",
       "      <th>date</th>\n",
       "      <th>full_text</th>\n",
       "      <th>year</th>\n",
       "      <th>label</th>\n",
       "    </tr>\n",
       "  </thead>\n",
       "  <tbody>\n",
       "    <tr>\n",
       "      <th>0</th>\n",
       "      <td>https://www.apple.com/newsroom/2021/03/apple-e...</td>\n",
       "      <td>Apple earns historic Academy Award nominations...</td>\n",
       "      <td>\\n\\n\\n\\n\\n\\n\\n\\n\\n\\n\\n\\n\\n\\n\\n\\n\\n\\nGlobal Nav...</td>\n",
       "      <td>&lt;!DOCTYPE html&gt;\\n&lt;html class=\"no-js\" dir=\"ltr\"...</td>\n",
       "      <td>2021-03-01</td>\n",
       "      <td>Apple earns historic Academy Award nominations...</td>\n",
       "      <td>2021</td>\n",
       "      <td>after</td>\n",
       "    </tr>\n",
       "    <tr>\n",
       "      <th>1</th>\n",
       "      <td>https://www.apple.com/newsroom/2021/03/apple-w...</td>\n",
       "      <td>Apple Women’s Health Study releases preliminar...</td>\n",
       "      <td>\\n\\n\\n\\n\\n\\n\\n\\n\\n\\n\\n\\n\\n\\n\\n\\n\\n\\nGlobal Nav...</td>\n",
       "      <td>&lt;!DOCTYPE html&gt;\\n&lt;html class=\"no-js\" dir=\"ltr\"...</td>\n",
       "      <td>2021-03-01</td>\n",
       "      <td>Apple Women’s Health Study releases preliminar...</td>\n",
       "      <td>2021</td>\n",
       "      <td>after</td>\n",
       "    </tr>\n",
       "    <tr>\n",
       "      <th>2</th>\n",
       "      <td>https://www.apple.com/newsroom/2021/03/apple-t...</td>\n",
       "      <td>Apple TV+ announces programming partnership wi...</td>\n",
       "      <td>\\n\\n\\n\\n\\n\\n\\n\\n\\n\\n\\n\\n\\n\\n\\n\\n\\n\\nGlobal Nav...</td>\n",
       "      <td>&lt;!DOCTYPE html&gt;\\n&lt;html class=\"no-js\" dir=\"ltr\"...</td>\n",
       "      <td>2021-03-01</td>\n",
       "      <td>Apple TV+ announces programming partnership wi...</td>\n",
       "      <td>2021</td>\n",
       "      <td>after</td>\n",
       "    </tr>\n",
       "    <tr>\n",
       "      <th>3</th>\n",
       "      <td>https://www.apple.com/newsroom/2021/03/apple-h...</td>\n",
       "      <td>Apple Hearing Study shares new insights on hea...</td>\n",
       "      <td>\\n\\n\\n\\n\\n\\n\\n\\n\\n\\n\\n\\n\\n\\n\\n\\n\\n\\nGlobal Nav...</td>\n",
       "      <td>&lt;!DOCTYPE html&gt;\\n&lt;html class=\"no-js\" dir=\"ltr\"...</td>\n",
       "      <td>2021-03-01</td>\n",
       "      <td>Apple Hearing Study shares new insights on hea...</td>\n",
       "      <td>2021</td>\n",
       "      <td>after</td>\n",
       "    </tr>\n",
       "    <tr>\n",
       "      <th>4</th>\n",
       "      <td>https://www.apple.com/newsroom/2021/03/new-zea...</td>\n",
       "      <td>New Zealand students prototype their own Samoa...</td>\n",
       "      <td>\\n\\n\\n\\n\\n\\n\\n\\n\\n\\n\\n\\n\\n\\n\\n\\n\\n\\nGlobal Nav...</td>\n",
       "      <td>&lt;!DOCTYPE html&gt;\\n&lt;html class=\"no-js\" dir=\"ltr\"...</td>\n",
       "      <td>2021-03-01</td>\n",
       "      <td>New Zealand students prototype their own Samoa...</td>\n",
       "      <td>2021</td>\n",
       "      <td>after</td>\n",
       "    </tr>\n",
       "  </tbody>\n",
       "</table>\n",
       "</div>"
      ],
      "text/plain": [
       "                                           full_link  \\\n",
       "0  https://www.apple.com/newsroom/2021/03/apple-e...   \n",
       "1  https://www.apple.com/newsroom/2021/03/apple-w...   \n",
       "2  https://www.apple.com/newsroom/2021/03/apple-t...   \n",
       "3  https://www.apple.com/newsroom/2021/03/apple-h...   \n",
       "4  https://www.apple.com/newsroom/2021/03/new-zea...   \n",
       "\n",
       "                                               title  \\\n",
       "0  Apple earns historic Academy Award nominations...   \n",
       "1  Apple Women’s Health Study releases preliminar...   \n",
       "2  Apple TV+ announces programming partnership wi...   \n",
       "3  Apple Hearing Study shares new insights on hea...   \n",
       "4  New Zealand students prototype their own Samoa...   \n",
       "\n",
       "                                                body  \\\n",
       "0  \\n\\n\\n\\n\\n\\n\\n\\n\\n\\n\\n\\n\\n\\n\\n\\n\\n\\nGlobal Nav...   \n",
       "1  \\n\\n\\n\\n\\n\\n\\n\\n\\n\\n\\n\\n\\n\\n\\n\\n\\n\\nGlobal Nav...   \n",
       "2  \\n\\n\\n\\n\\n\\n\\n\\n\\n\\n\\n\\n\\n\\n\\n\\n\\n\\nGlobal Nav...   \n",
       "3  \\n\\n\\n\\n\\n\\n\\n\\n\\n\\n\\n\\n\\n\\n\\n\\n\\n\\nGlobal Nav...   \n",
       "4  \\n\\n\\n\\n\\n\\n\\n\\n\\n\\n\\n\\n\\n\\n\\n\\n\\n\\nGlobal Nav...   \n",
       "\n",
       "                                                html       date  \\\n",
       "0  <!DOCTYPE html>\\n<html class=\"no-js\" dir=\"ltr\"... 2021-03-01   \n",
       "1  <!DOCTYPE html>\\n<html class=\"no-js\" dir=\"ltr\"... 2021-03-01   \n",
       "2  <!DOCTYPE html>\\n<html class=\"no-js\" dir=\"ltr\"... 2021-03-01   \n",
       "3  <!DOCTYPE html>\\n<html class=\"no-js\" dir=\"ltr\"... 2021-03-01   \n",
       "4  <!DOCTYPE html>\\n<html class=\"no-js\" dir=\"ltr\"... 2021-03-01   \n",
       "\n",
       "                                           full_text  year  label  \n",
       "0  Apple earns historic Academy Award nominations...  2021  after  \n",
       "1  Apple Women’s Health Study releases preliminar...  2021  after  \n",
       "2  Apple TV+ announces programming partnership wi...  2021  after  \n",
       "3  Apple Hearing Study shares new insights on hea...  2021  after  \n",
       "4  New Zealand students prototype their own Samoa...  2021  after  "
      ]
     },
     "execution_count": 3,
     "metadata": {},
     "output_type": "execute_result"
    }
   ],
   "source": [
    "# find the dates\n",
    "file = [f for f in files if 'apple' in f]\n",
    "file\n",
    "df = pd.read_csv(f'../data/press_releases/{file[0]}')\n",
    "\n",
    "for row in range(len(df)):\n",
    "    link_list = [i.strip() for i in df.loc[row,'full_link'].split('/') if i.strip() != '']\n",
    "    df.loc[row,'date'] = '-'.join(link_list[3:5])\n",
    "\n",
    "df['full_text'] = df['title'] + df['body']\n",
    "\n",
    "df.date = df.date.map(lambda x: dt.datetime.strptime(x,'%Y-%m'))\n",
    "df['year'] = df.date.map(lambda x: x.year)\n",
    "\n",
    "df.head()"
   ]
  },
  {
   "cell_type": "code",
   "execution_count": 5,
   "id": "promising-tension",
   "metadata": {
    "ExecuteTime": {
     "end_time": "2021-03-16T22:22:02.539387Z",
     "start_time": "2021-03-16T22:22:02.535903Z"
    }
   },
   "outputs": [],
   "source": [
    "# assign the label\n",
    "\n",
    "df['label'] = df.year.map(lambda x: 'after' if x >= 2020 else 'before')"
   ]
  },
  {
   "cell_type": "code",
   "execution_count": 6,
   "id": "military-business",
   "metadata": {
    "ExecuteTime": {
     "end_time": "2021-03-16T22:22:10.942720Z",
     "start_time": "2021-03-16T22:22:10.130633Z"
    }
   },
   "outputs": [],
   "source": [
    "# save it back\n",
    "\n",
    "df.to_csv(f'../data/press_releases/{file[0]}', index = False)"
   ]
  },
  {
   "cell_type": "markdown",
   "id": "turned-cursor",
   "metadata": {},
   "source": [
    "### CVS Health"
   ]
  },
  {
   "cell_type": "markdown",
   "id": "affected-tomato",
   "metadata": {},
   "source": [
    "CVS was slightly more challenging to work with because the company does not put any publication date information into the link url for its press releases. In order to find the dates, I first split the text up and looked for patterns as to where in the text the company had the date, and then I used this information to create the function below that extracted the date from the press and converted it into a datetime object."
   ]
  },
  {
   "cell_type": "code",
   "execution_count": 20,
   "id": "literary-timber",
   "metadata": {
    "ExecuteTime": {
     "end_time": "2021-03-16T22:29:50.816206Z",
     "start_time": "2021-03-16T22:29:49.103043Z"
    },
    "scrolled": true
   },
   "outputs": [
    {
     "data": {
      "text/html": [
       "<div>\n",
       "<style scoped>\n",
       "    .dataframe tbody tr th:only-of-type {\n",
       "        vertical-align: middle;\n",
       "    }\n",
       "\n",
       "    .dataframe tbody tr th {\n",
       "        vertical-align: top;\n",
       "    }\n",
       "\n",
       "    .dataframe thead th {\n",
       "        text-align: right;\n",
       "    }\n",
       "</style>\n",
       "<table border=\"1\" class=\"dataframe\">\n",
       "  <thead>\n",
       "    <tr style=\"text-align: right;\">\n",
       "      <th></th>\n",
       "      <th>full_link</th>\n",
       "      <th>title</th>\n",
       "      <th>body</th>\n",
       "      <th>html</th>\n",
       "      <th>date</th>\n",
       "      <th>full_text</th>\n",
       "      <th>year</th>\n",
       "    </tr>\n",
       "  </thead>\n",
       "  <tbody>\n",
       "    <tr>\n",
       "      <th>0</th>\n",
       "      <td>https://www.cvshealth.com/news-and-insights/pr...</td>\n",
       "      <td>CVS Health invests $114 million in affordable ...</td>\n",
       "      <td>\\n\\n\\n\\n\\n\\n\\n\\n        Skip to main content\\n...</td>\n",
       "      <td>&lt;!DOCTYPE html&gt;\\n&lt;html dir=\"ltr\" lang=\"en\" pre...</td>\n",
       "      <td>2021-02-23</td>\n",
       "      <td>CVS Health invests $114 million in affordable ...</td>\n",
       "      <td>2021</td>\n",
       "    </tr>\n",
       "    <tr>\n",
       "      <th>1</th>\n",
       "      <td>https://www.cvshealth.com/news-and-insights/pr...</td>\n",
       "      <td>CVS Health now offering COVID-19 vaccines in 2...</td>\n",
       "      <td>\\n\\n\\n\\n\\n\\n\\n\\n        Skip to main content\\n...</td>\n",
       "      <td>&lt;!DOCTYPE html&gt;\\n&lt;html dir=\"ltr\" lang=\"en\" pre...</td>\n",
       "      <td>2021-03-11</td>\n",
       "      <td>CVS Health now offering COVID-19 vaccines in 2...</td>\n",
       "      <td>2021</td>\n",
       "    </tr>\n",
       "    <tr>\n",
       "      <th>2</th>\n",
       "      <td>https://www.cvshealth.com/news-and-insights/pr...</td>\n",
       "      <td>CVS Health completes first round of COVID-19 v...</td>\n",
       "      <td>\\n\\n\\n\\n\\n\\n\\n\\n        Skip to main content\\n...</td>\n",
       "      <td>&lt;!DOCTYPE html&gt;\\n&lt;html dir=\"ltr\" lang=\"en\" pre...</td>\n",
       "      <td>2021-01-25</td>\n",
       "      <td>CVS Health completes first round of COVID-19 v...</td>\n",
       "      <td>2021</td>\n",
       "    </tr>\n",
       "    <tr>\n",
       "      <th>3</th>\n",
       "      <td>https://www.cvshealth.com/news-and-insights/pr...</td>\n",
       "      <td>CVS Health launches Symphony™ to support senio...</td>\n",
       "      <td>\\n\\n\\n\\n\\n\\n\\n\\n        Skip to main content\\n...</td>\n",
       "      <td>&lt;!DOCTYPE html&gt;\\n&lt;html dir=\"ltr\" lang=\"en\" pre...</td>\n",
       "      <td>2021-01-14</td>\n",
       "      <td>CVS Health launches Symphony™ to support senio...</td>\n",
       "      <td>2021</td>\n",
       "    </tr>\n",
       "    <tr>\n",
       "      <th>4</th>\n",
       "      <td>https://www.cvshealth.com/news-and-insights/pr...</td>\n",
       "      <td>CVS Health names Kyu Rhee, M.D., MPP, as Senio...</td>\n",
       "      <td>\\n\\n\\n\\n\\n\\n\\n\\n        Skip to main content\\n...</td>\n",
       "      <td>&lt;!DOCTYPE html&gt;\\n&lt;html dir=\"ltr\" lang=\"en\" pre...</td>\n",
       "      <td>2021-01-21</td>\n",
       "      <td>CVS Health names Kyu Rhee, M.D., MPP, as Senio...</td>\n",
       "      <td>2021</td>\n",
       "    </tr>\n",
       "  </tbody>\n",
       "</table>\n",
       "</div>"
      ],
      "text/plain": [
       "                                           full_link  \\\n",
       "0  https://www.cvshealth.com/news-and-insights/pr...   \n",
       "1  https://www.cvshealth.com/news-and-insights/pr...   \n",
       "2  https://www.cvshealth.com/news-and-insights/pr...   \n",
       "3  https://www.cvshealth.com/news-and-insights/pr...   \n",
       "4  https://www.cvshealth.com/news-and-insights/pr...   \n",
       "\n",
       "                                               title  \\\n",
       "0  CVS Health invests $114 million in affordable ...   \n",
       "1  CVS Health now offering COVID-19 vaccines in 2...   \n",
       "2  CVS Health completes first round of COVID-19 v...   \n",
       "3  CVS Health launches Symphony™ to support senio...   \n",
       "4  CVS Health names Kyu Rhee, M.D., MPP, as Senio...   \n",
       "\n",
       "                                                body  \\\n",
       "0  \\n\\n\\n\\n\\n\\n\\n\\n        Skip to main content\\n...   \n",
       "1  \\n\\n\\n\\n\\n\\n\\n\\n        Skip to main content\\n...   \n",
       "2  \\n\\n\\n\\n\\n\\n\\n\\n        Skip to main content\\n...   \n",
       "3  \\n\\n\\n\\n\\n\\n\\n\\n        Skip to main content\\n...   \n",
       "4  \\n\\n\\n\\n\\n\\n\\n\\n        Skip to main content\\n...   \n",
       "\n",
       "                                                html       date  \\\n",
       "0  <!DOCTYPE html>\\n<html dir=\"ltr\" lang=\"en\" pre... 2021-02-23   \n",
       "1  <!DOCTYPE html>\\n<html dir=\"ltr\" lang=\"en\" pre... 2021-03-11   \n",
       "2  <!DOCTYPE html>\\n<html dir=\"ltr\" lang=\"en\" pre... 2021-01-25   \n",
       "3  <!DOCTYPE html>\\n<html dir=\"ltr\" lang=\"en\" pre... 2021-01-14   \n",
       "4  <!DOCTYPE html>\\n<html dir=\"ltr\" lang=\"en\" pre... 2021-01-21   \n",
       "\n",
       "                                           full_text  year  \n",
       "0  CVS Health invests $114 million in affordable ...  2021  \n",
       "1  CVS Health now offering COVID-19 vaccines in 2...  2021  \n",
       "2  CVS Health completes first round of COVID-19 v...  2021  \n",
       "3  CVS Health launches Symphony™ to support senio...  2021  \n",
       "4  CVS Health names Kyu Rhee, M.D., MPP, as Senio...  2021  "
      ]
     },
     "execution_count": 20,
     "metadata": {},
     "output_type": "execute_result"
    }
   ],
   "source": [
    "file = [f for f in files if 'cvs' in f]\n",
    "df = pd.read_csv(f'../data/press_releases/{file[0]}')\n",
    "\n",
    "years = [str(i) for i in range(2019,2022)]\n",
    "\n",
    "for row in range(len(df)):\n",
    "    para_list = [i.strip() for i in df.loc[row,'body'].split('\\n') if i.strip() != '']\n",
    "    df.loc[row,'date'] = '-'.join(para_list[3:6])\n",
    "    \n",
    "    for year in years:\n",
    "        if (year in para_list[324]) & (len(para_list[324])<30):\n",
    "            df.loc[row,'date'] = ','.join(para_list[324].split(',')[-2:]).strip()\n",
    "            break\n",
    "        \n",
    "        elif (year in para_list[334]) & (len(para_list[334])<30):\n",
    "            df.loc[row,'date'] = ','.join(para_list[334].split(',')[-2:]).strip()\n",
    "            break\n",
    "        \n",
    "        else:\n",
    "            df.loc[row,'date'] = None\n",
    "\n",
    "df = df.dropna().reset_index(drop = True)\n",
    "\n",
    "df['full_text'] = df.title + df.body\n",
    "\n",
    "df.date = df.date.map(lambda x: dt.datetime.strptime(x,'%B %d, %Y'))\n",
    "df['year'] = df.date.map(lambda x: x.year)\n",
    "\n",
    "df.head()"
   ]
  },
  {
   "cell_type": "code",
   "execution_count": 21,
   "id": "cheap-register",
   "metadata": {
    "ExecuteTime": {
     "end_time": "2021-03-16T22:29:55.068994Z",
     "start_time": "2021-03-16T22:29:55.065577Z"
    }
   },
   "outputs": [],
   "source": [
    "# assign the label\n",
    "\n",
    "df['label'] = df.year.map(lambda x: 'after' if x >= 2020 else 'before')"
   ]
  },
  {
   "cell_type": "code",
   "execution_count": 22,
   "id": "early-apparel",
   "metadata": {
    "ExecuteTime": {
     "end_time": "2021-03-16T22:29:58.265991Z",
     "start_time": "2021-03-16T22:29:57.180574Z"
    }
   },
   "outputs": [],
   "source": [
    "# save it back\n",
    "\n",
    "df.to_csv(f'../data/press_releases/{file[0]}', index = False)"
   ]
  },
  {
   "cell_type": "markdown",
   "id": "powered-liberia",
   "metadata": {},
   "source": [
    "### Exxon Mobil"
   ]
  },
  {
   "cell_type": "markdown",
   "id": "looking-plain",
   "metadata": {},
   "source": [
    "I followed a similar process for Exxon Mobil and found the date in the text of the press release and used this information to find the year and assign the label."
   ]
  },
  {
   "cell_type": "code",
   "execution_count": 41,
   "id": "strange-merchant",
   "metadata": {
    "ExecuteTime": {
     "end_time": "2021-03-16T22:40:05.862735Z",
     "start_time": "2021-03-16T22:40:05.228649Z"
    },
    "scrolled": true
   },
   "outputs": [
    {
     "data": {
      "text/html": [
       "<div>\n",
       "<style scoped>\n",
       "    .dataframe tbody tr th:only-of-type {\n",
       "        vertical-align: middle;\n",
       "    }\n",
       "\n",
       "    .dataframe tbody tr th {\n",
       "        vertical-align: top;\n",
       "    }\n",
       "\n",
       "    .dataframe thead th {\n",
       "        text-align: right;\n",
       "    }\n",
       "</style>\n",
       "<table border=\"1\" class=\"dataframe\">\n",
       "  <thead>\n",
       "    <tr style=\"text-align: right;\">\n",
       "      <th></th>\n",
       "      <th>full_link</th>\n",
       "      <th>title</th>\n",
       "      <th>body</th>\n",
       "      <th>html</th>\n",
       "      <th>date</th>\n",
       "      <th>full_text</th>\n",
       "      <th>year</th>\n",
       "    </tr>\n",
       "  </thead>\n",
       "  <tbody>\n",
       "    <tr>\n",
       "      <th>0</th>\n",
       "      <td>https://corporate.exxonmobil.com/News/Newsroom...</td>\n",
       "      <td>Darren Woods shares strategy for long term gro...</td>\n",
       "      <td>\\n\\nSkip to content\\n\\n\\n\\n\\n\\n\\n\\n\\n\\n\\n\\n\\n\\...</td>\n",
       "      <td>&lt;!DOCTYPE html&gt;\\n&lt;!--[if IE 9]&gt;&lt;html lang=\"en\"...</td>\n",
       "      <td>2021-03-11</td>\n",
       "      <td>Darren Woods shares strategy for long term gro...</td>\n",
       "      <td>2021</td>\n",
       "    </tr>\n",
       "    <tr>\n",
       "      <th>1</th>\n",
       "      <td>https://corporate.exxonmobil.com/News/Newsroom...</td>\n",
       "      <td>ExxonMobil outlines plans to grow long-term sh...</td>\n",
       "      <td>\\n\\nSkip to content\\n\\n\\n\\nImportant Additiona...</td>\n",
       "      <td>&lt;!DOCTYPE html&gt;\\n&lt;!--[if IE 9]&gt;&lt;html lang=\"en\"...</td>\n",
       "      <td>2021-03-03</td>\n",
       "      <td>ExxonMobil outlines plans to grow long-term sh...</td>\n",
       "      <td>2021</td>\n",
       "    </tr>\n",
       "    <tr>\n",
       "      <th>2</th>\n",
       "      <td>https://corporate.exxonmobil.com/News/Newsroom...</td>\n",
       "      <td>ExxonMobil announces Singapore workforce reduc...</td>\n",
       "      <td>\\n\\nSkip to content\\n\\n\\n\\n\\n\\n\\n\\n\\n\\n\\n\\n\\n\\...</td>\n",
       "      <td>&lt;!DOCTYPE html&gt;\\n&lt;!--[if IE 9]&gt;&lt;html lang=\"en\"...</td>\n",
       "      <td>2021-03-02</td>\n",
       "      <td>ExxonMobil announces Singapore workforce reduc...</td>\n",
       "      <td>2021</td>\n",
       "    </tr>\n",
       "    <tr>\n",
       "      <th>3</th>\n",
       "      <td>https://corporate.exxonmobil.com/News/Newsroom...</td>\n",
       "      <td>Neil Duffin to retire as president of ExxonMob...</td>\n",
       "      <td>\\n\\nSkip to content\\n\\n\\n\\nImportant Additiona...</td>\n",
       "      <td>&lt;!DOCTYPE html&gt;\\n&lt;!--[if IE 9]&gt;&lt;html lang=\"en\"...</td>\n",
       "      <td>2021-03-01</td>\n",
       "      <td>Neil Duffin to retire as president of ExxonMob...</td>\n",
       "      <td>2021</td>\n",
       "    </tr>\n",
       "    <tr>\n",
       "      <th>4</th>\n",
       "      <td>https://corporate.exxonmobil.com/News/Newsroom...</td>\n",
       "      <td>Michael Angelakis and Jeffrey Ubben join Exxon...</td>\n",
       "      <td>\\n\\nSkip to content\\n\\n\\n\\nImportant Additiona...</td>\n",
       "      <td>&lt;!DOCTYPE html&gt;\\n&lt;!--[if IE 9]&gt;&lt;html lang=\"en\"...</td>\n",
       "      <td>2021-03-01</td>\n",
       "      <td>Michael Angelakis and Jeffrey Ubben join Exxon...</td>\n",
       "      <td>2021</td>\n",
       "    </tr>\n",
       "  </tbody>\n",
       "</table>\n",
       "</div>"
      ],
      "text/plain": [
       "                                           full_link  \\\n",
       "0  https://corporate.exxonmobil.com/News/Newsroom...   \n",
       "1  https://corporate.exxonmobil.com/News/Newsroom...   \n",
       "2  https://corporate.exxonmobil.com/News/Newsroom...   \n",
       "3  https://corporate.exxonmobil.com/News/Newsroom...   \n",
       "4  https://corporate.exxonmobil.com/News/Newsroom...   \n",
       "\n",
       "                                               title  \\\n",
       "0  Darren Woods shares strategy for long term gro...   \n",
       "1  ExxonMobil outlines plans to grow long-term sh...   \n",
       "2  ExxonMobil announces Singapore workforce reduc...   \n",
       "3  Neil Duffin to retire as president of ExxonMob...   \n",
       "4  Michael Angelakis and Jeffrey Ubben join Exxon...   \n",
       "\n",
       "                                                body  \\\n",
       "0  \\n\\nSkip to content\\n\\n\\n\\n\\n\\n\\n\\n\\n\\n\\n\\n\\n\\...   \n",
       "1  \\n\\nSkip to content\\n\\n\\n\\nImportant Additiona...   \n",
       "2  \\n\\nSkip to content\\n\\n\\n\\n\\n\\n\\n\\n\\n\\n\\n\\n\\n\\...   \n",
       "3  \\n\\nSkip to content\\n\\n\\n\\nImportant Additiona...   \n",
       "4  \\n\\nSkip to content\\n\\n\\n\\nImportant Additiona...   \n",
       "\n",
       "                                                html       date  \\\n",
       "0  <!DOCTYPE html>\\n<!--[if IE 9]><html lang=\"en\"... 2021-03-11   \n",
       "1  <!DOCTYPE html>\\n<!--[if IE 9]><html lang=\"en\"... 2021-03-03   \n",
       "2  <!DOCTYPE html>\\n<!--[if IE 9]><html lang=\"en\"... 2021-03-02   \n",
       "3  <!DOCTYPE html>\\n<!--[if IE 9]><html lang=\"en\"... 2021-03-01   \n",
       "4  <!DOCTYPE html>\\n<!--[if IE 9]><html lang=\"en\"... 2021-03-01   \n",
       "\n",
       "                                           full_text  year  \n",
       "0  Darren Woods shares strategy for long term gro...  2021  \n",
       "1  ExxonMobil outlines plans to grow long-term sh...  2021  \n",
       "2  ExxonMobil announces Singapore workforce reduc...  2021  \n",
       "3  Neil Duffin to retire as president of ExxonMob...  2021  \n",
       "4  Michael Angelakis and Jeffrey Ubben join Exxon...  2021  "
      ]
     },
     "execution_count": 41,
     "metadata": {},
     "output_type": "execute_result"
    }
   ],
   "source": [
    "file = [f for f in files if 'exxon' in f]\n",
    "df = pd.read_csv(f'../data/press_releases/{file[0]}')\n",
    "\n",
    "for row in range(len(df)):\n",
    "\n",
    "    para_list = [i.strip() for i in df.loc[row,'body'].split('\\n') if i.strip() != '']\n",
    "\n",
    "    for year in years:\n",
    "        \n",
    "        if (year in para_list[78]) & (len(para_list[78])<20):\n",
    "            df.loc[row,'date'] = ','.join(para_list[78].split(',')[-2:]).strip()\n",
    "            break\n",
    "        \n",
    "        elif (year in para_list[75]) & (len(para_list[75])<20):\n",
    "            df.loc[row,'date'] = ','.join(para_list[75].split(',')[-2:]).strip()\n",
    "            break\n",
    "        \n",
    "        else:\n",
    "            df.loc[row,'date'] = None\n",
    "\n",
    "            \n",
    "df['full_text'] = df.title + df.body\n",
    "\n",
    "\n",
    "months = {\n",
    "    'Jan.':'January',\n",
    "    'Feb.':'February',\n",
    "    'Mar.':'March',\n",
    "    'Apr.':'April',\n",
    "    'Jun.':'June',\n",
    "    'Jul.':'July',\n",
    "    'Aug.':'August',\n",
    "    'Sept.':'September',\n",
    "    'Oct.':'October',\n",
    "    'Nov.': 'November',\n",
    "    'Dec.':'December'\n",
    "}\n",
    "\n",
    "for row in range(len(df)):\n",
    "    for old,new in months.items():\n",
    "        df.loc[row,'date']=df.loc[row,'date'].replace(old,new).replace('   •','')\n",
    "\n",
    "        \n",
    "df['date'] = df['date'].map(lambda x: dt.datetime.strptime(x,'%B %d, %Y'))\n",
    "df['year'] = df['date'].map(lambda x: x.year)\n",
    "\n",
    "df.head()"
   ]
  },
  {
   "cell_type": "code",
   "execution_count": 42,
   "id": "vocal-wireless",
   "metadata": {
    "ExecuteTime": {
     "end_time": "2021-03-16T22:40:19.037024Z",
     "start_time": "2021-03-16T22:40:19.033808Z"
    }
   },
   "outputs": [],
   "source": [
    "# assign the label\n",
    "\n",
    "df['label'] = df.year.map(lambda x: 'after' if x >= 2020 else 'before')"
   ]
  },
  {
   "cell_type": "code",
   "execution_count": 43,
   "id": "cooked-bernard",
   "metadata": {
    "ExecuteTime": {
     "end_time": "2021-03-16T22:40:22.212531Z",
     "start_time": "2021-03-16T22:40:21.721157Z"
    }
   },
   "outputs": [],
   "source": [
    "# save it back\n",
    "\n",
    "df.to_csv(f'../data/press_releases/{file[0]}', index = False)"
   ]
  },
  {
   "cell_type": "markdown",
   "id": "worth-trader",
   "metadata": {},
   "source": [
    "### Walmart"
   ]
  },
  {
   "cell_type": "markdown",
   "id": "turkish-player",
   "metadata": {},
   "source": [
    "For Walmart, similar to the process I used for Apple, I extracted the date from the link itself and turned that into a datetime object, which I then used to find the year and assign the label."
   ]
  },
  {
   "cell_type": "code",
   "execution_count": 46,
   "id": "smooth-wagon",
   "metadata": {
    "ExecuteTime": {
     "end_time": "2021-03-16T22:43:41.795325Z",
     "start_time": "2021-03-16T22:43:41.400019Z"
    },
    "scrolled": true
   },
   "outputs": [
    {
     "data": {
      "text/html": [
       "<div>\n",
       "<style scoped>\n",
       "    .dataframe tbody tr th:only-of-type {\n",
       "        vertical-align: middle;\n",
       "    }\n",
       "\n",
       "    .dataframe tbody tr th {\n",
       "        vertical-align: top;\n",
       "    }\n",
       "\n",
       "    .dataframe thead th {\n",
       "        text-align: right;\n",
       "    }\n",
       "</style>\n",
       "<table border=\"1\" class=\"dataframe\">\n",
       "  <thead>\n",
       "    <tr style=\"text-align: right;\">\n",
       "      <th></th>\n",
       "      <th>full_link</th>\n",
       "      <th>title</th>\n",
       "      <th>body</th>\n",
       "      <th>html</th>\n",
       "      <th>date</th>\n",
       "      <th>full_text</th>\n",
       "      <th>year</th>\n",
       "    </tr>\n",
       "  </thead>\n",
       "  <tbody>\n",
       "    <tr>\n",
       "      <th>0</th>\n",
       "      <td>https://corporate.walmart.com/newsroom/2021/03...</td>\n",
       "      <td>Walmart Investment to Accelerate Growth of Rak...</td>\n",
       "      <td>\\n\\n\\n\\n\\n\\n\\n\\n\\n\\n\\n\\n\\n\\n\\n\\n\\n\\n© 2021 Wal...</td>\n",
       "      <td>&lt;!DOCTYPE html&gt;\\n&lt;html class=\"PressReleasePage...</td>\n",
       "      <td>2021-03-12</td>\n",
       "      <td>Walmart Investment to Accelerate Growth of Rak...</td>\n",
       "      <td>2021</td>\n",
       "    </tr>\n",
       "    <tr>\n",
       "      <th>1</th>\n",
       "      <td>https://corporate.walmart.com/newsroom/2021/03...</td>\n",
       "      <td>Walmart Doubles Down on TikTok Shopping, Hosts...</td>\n",
       "      <td>\\n\\n\\n\\n\\n\\n\\n\\n\\n\\n\\n\\n\\n\\n\\n\\n\\n\\n© 2021 Wal...</td>\n",
       "      <td>&lt;!DOCTYPE html&gt;\\n&lt;html class=\"PressReleasePage...</td>\n",
       "      <td>2021-03-09</td>\n",
       "      <td>Walmart Doubles Down on TikTok Shopping, Hosts...</td>\n",
       "      <td>2021</td>\n",
       "    </tr>\n",
       "    <tr>\n",
       "      <th>2</th>\n",
       "      <td>https://corporate.walmart.com/newsroom/2021/03...</td>\n",
       "      <td>Walmart Board of Directors Adds Former AT&amp;T Ch...</td>\n",
       "      <td>\\n\\n\\n\\n\\n\\n\\n\\n\\n\\n\\n\\n\\n\\n\\n\\n\\n\\n© 2021 Wal...</td>\n",
       "      <td>&lt;!DOCTYPE html&gt;\\n&lt;html class=\"PressReleasePage...</td>\n",
       "      <td>2021-03-05</td>\n",
       "      <td>Walmart Board of Directors Adds Former AT&amp;T Ch...</td>\n",
       "      <td>2021</td>\n",
       "    </tr>\n",
       "    <tr>\n",
       "      <th>3</th>\n",
       "      <td>https://corporate.walmart.com/newsroom/2021/03...</td>\n",
       "      <td>Walmart Maintains Relentless Focus on Growing ...</td>\n",
       "      <td>\\n\\n\\n\\n\\n\\n\\n\\n\\n\\n\\n\\n\\n\\n\\n\\n\\n\\n© 2021 Wal...</td>\n",
       "      <td>&lt;!DOCTYPE html&gt;\\n&lt;html class=\"PressReleasePage...</td>\n",
       "      <td>2021-03-04</td>\n",
       "      <td>Walmart Maintains Relentless Focus on Growing ...</td>\n",
       "      <td>2021</td>\n",
       "    </tr>\n",
       "    <tr>\n",
       "      <th>4</th>\n",
       "      <td>https://corporate.walmart.com/newsroom/2021/03...</td>\n",
       "      <td>Walmart to Present at Bank of America 2021 Con...</td>\n",
       "      <td>\\n\\n\\n\\n\\n\\n\\n\\n\\n\\n\\n\\n\\n\\n\\n\\n\\n\\n© 2021 Wal...</td>\n",
       "      <td>&lt;!DOCTYPE html&gt;\\n&lt;html class=\"PressReleasePage...</td>\n",
       "      <td>2021-03-04</td>\n",
       "      <td>Walmart to Present at Bank of America 2021 Con...</td>\n",
       "      <td>2021</td>\n",
       "    </tr>\n",
       "  </tbody>\n",
       "</table>\n",
       "</div>"
      ],
      "text/plain": [
       "                                           full_link  \\\n",
       "0  https://corporate.walmart.com/newsroom/2021/03...   \n",
       "1  https://corporate.walmart.com/newsroom/2021/03...   \n",
       "2  https://corporate.walmart.com/newsroom/2021/03...   \n",
       "3  https://corporate.walmart.com/newsroom/2021/03...   \n",
       "4  https://corporate.walmart.com/newsroom/2021/03...   \n",
       "\n",
       "                                               title  \\\n",
       "0  Walmart Investment to Accelerate Growth of Rak...   \n",
       "1  Walmart Doubles Down on TikTok Shopping, Hosts...   \n",
       "2  Walmart Board of Directors Adds Former AT&T Ch...   \n",
       "3  Walmart Maintains Relentless Focus on Growing ...   \n",
       "4  Walmart to Present at Bank of America 2021 Con...   \n",
       "\n",
       "                                                body  \\\n",
       "0  \\n\\n\\n\\n\\n\\n\\n\\n\\n\\n\\n\\n\\n\\n\\n\\n\\n\\n© 2021 Wal...   \n",
       "1  \\n\\n\\n\\n\\n\\n\\n\\n\\n\\n\\n\\n\\n\\n\\n\\n\\n\\n© 2021 Wal...   \n",
       "2  \\n\\n\\n\\n\\n\\n\\n\\n\\n\\n\\n\\n\\n\\n\\n\\n\\n\\n© 2021 Wal...   \n",
       "3  \\n\\n\\n\\n\\n\\n\\n\\n\\n\\n\\n\\n\\n\\n\\n\\n\\n\\n© 2021 Wal...   \n",
       "4  \\n\\n\\n\\n\\n\\n\\n\\n\\n\\n\\n\\n\\n\\n\\n\\n\\n\\n© 2021 Wal...   \n",
       "\n",
       "                                                html       date  \\\n",
       "0  <!DOCTYPE html>\\n<html class=\"PressReleasePage... 2021-03-12   \n",
       "1  <!DOCTYPE html>\\n<html class=\"PressReleasePage... 2021-03-09   \n",
       "2  <!DOCTYPE html>\\n<html class=\"PressReleasePage... 2021-03-05   \n",
       "3  <!DOCTYPE html>\\n<html class=\"PressReleasePage... 2021-03-04   \n",
       "4  <!DOCTYPE html>\\n<html class=\"PressReleasePage... 2021-03-04   \n",
       "\n",
       "                                           full_text  year  \n",
       "0  Walmart Investment to Accelerate Growth of Rak...  2021  \n",
       "1  Walmart Doubles Down on TikTok Shopping, Hosts...  2021  \n",
       "2  Walmart Board of Directors Adds Former AT&T Ch...  2021  \n",
       "3  Walmart Maintains Relentless Focus on Growing ...  2021  \n",
       "4  Walmart to Present at Bank of America 2021 Con...  2021  "
      ]
     },
     "execution_count": 46,
     "metadata": {},
     "output_type": "execute_result"
    }
   ],
   "source": [
    "file = [f for f in files if 'walmart' in f]\n",
    "df = pd.read_csv(f'../data/press_releases/{file[0]}')\n",
    "\n",
    "for row in range(len(df)):\n",
    "    para_list = [i.strip() for i in df.loc[row,'full_link'].split('/') if i.strip() != '']\n",
    "    df.loc[row,'date'] = '-'.join(para_list[3:6])\n",
    "\n",
    "df['full_text'] = df.title + df.body\n",
    "\n",
    "df['date'] = df['date'].map(lambda x: dt.datetime.strptime(x,'%Y-%m-%d'))\n",
    "df['year'] = df['date'].map(lambda x: x.year)\n",
    "\n",
    "df.head()"
   ]
  },
  {
   "cell_type": "code",
   "execution_count": 47,
   "id": "interim-depression",
   "metadata": {
    "ExecuteTime": {
     "end_time": "2021-03-16T22:43:50.079964Z",
     "start_time": "2021-03-16T22:43:50.075960Z"
    }
   },
   "outputs": [],
   "source": [
    "# assign the label\n",
    "\n",
    "df['label'] = df.year.map(lambda x: 'after' if x >= 2020 else 'before')"
   ]
  },
  {
   "cell_type": "code",
   "execution_count": 48,
   "id": "monthly-advance",
   "metadata": {
    "ExecuteTime": {
     "end_time": "2021-03-16T22:43:52.849226Z",
     "start_time": "2021-03-16T22:43:52.213608Z"
    }
   },
   "outputs": [],
   "source": [
    "# save it back\n",
    "\n",
    "df.to_csv(f'../data/press_releases/{file[0]}', index = False)"
   ]
  },
  {
   "cell_type": "markdown",
   "id": "neither-relations",
   "metadata": {},
   "source": [
    "### Amazon"
   ]
  },
  {
   "cell_type": "markdown",
   "id": "improving-prototype",
   "metadata": {},
   "source": [
    "Because of how Amazon structures its news room, I was able to bring the year with me and simply used that to assign the label. I also added the full text column. "
   ]
  },
  {
   "cell_type": "code",
   "execution_count": 60,
   "id": "artistic-recognition",
   "metadata": {
    "ExecuteTime": {
     "end_time": "2021-03-16T22:53:29.688203Z",
     "start_time": "2021-03-16T22:53:29.217106Z"
    }
   },
   "outputs": [
    {
     "data": {
      "text/html": [
       "<div>\n",
       "<style scoped>\n",
       "    .dataframe tbody tr th:only-of-type {\n",
       "        vertical-align: middle;\n",
       "    }\n",
       "\n",
       "    .dataframe tbody tr th {\n",
       "        vertical-align: top;\n",
       "    }\n",
       "\n",
       "    .dataframe thead th {\n",
       "        text-align: right;\n",
       "    }\n",
       "</style>\n",
       "<table border=\"1\" class=\"dataframe\">\n",
       "  <thead>\n",
       "    <tr style=\"text-align: right;\">\n",
       "      <th></th>\n",
       "      <th>full_link</th>\n",
       "      <th>title</th>\n",
       "      <th>body</th>\n",
       "      <th>html</th>\n",
       "      <th>year</th>\n",
       "      <th>label</th>\n",
       "      <th>full_text</th>\n",
       "    </tr>\n",
       "  </thead>\n",
       "  <tbody>\n",
       "    <tr>\n",
       "      <th>0</th>\n",
       "      <td>https://press.aboutamazon.com/news-releases/ne...</td>\n",
       "      <td>Amazon Continues Investment in Florida with De...</td>\n",
       "      <td>\\n\\n\\n\\n\\n\\n\\n\\n        Skip to main navigatio...</td>\n",
       "      <td>&lt;!DOCTYPE html&gt;\\n&lt;html dir=\"ltr\" lang=\"en\" pre...</td>\n",
       "      <td>2019</td>\n",
       "      <td>before</td>\n",
       "      <td>Amazon Continues Investment in Florida with De...</td>\n",
       "    </tr>\n",
       "    <tr>\n",
       "      <th>1</th>\n",
       "      <td>https://press.aboutamazon.com/news-releases/ne...</td>\n",
       "      <td>Customers Shopped at Record Levels this Holida...</td>\n",
       "      <td>\\n\\n\\n\\n\\n\\n\\n\\n        Skip to main navigatio...</td>\n",
       "      <td>&lt;!DOCTYPE html&gt;\\n&lt;html dir=\"ltr\" lang=\"en\" pre...</td>\n",
       "      <td>2019</td>\n",
       "      <td>before</td>\n",
       "      <td>Customers Shopped at Record Levels this Holida...</td>\n",
       "    </tr>\n",
       "    <tr>\n",
       "      <th>2</th>\n",
       "      <td>https://press.aboutamazon.com/news-releases/ne...</td>\n",
       "      <td>Amazon Has Enabled Hundreds of Small Businesse...</td>\n",
       "      <td>\\n\\n\\n\\n\\n\\n\\n\\n        Skip to main navigatio...</td>\n",
       "      <td>&lt;!DOCTYPE html&gt;\\n&lt;html dir=\"ltr\" lang=\"en\" pre...</td>\n",
       "      <td>2019</td>\n",
       "      <td>before</td>\n",
       "      <td>Amazon Has Enabled Hundreds of Small Businesse...</td>\n",
       "    </tr>\n",
       "    <tr>\n",
       "      <th>3</th>\n",
       "      <td>https://press.aboutamazon.com/news-releases/ne...</td>\n",
       "      <td>Amazon Makes Returns Even Easier This Holiday ...</td>\n",
       "      <td>\\n\\n\\n\\n\\n\\n\\n\\n        Skip to main navigatio...</td>\n",
       "      <td>&lt;!DOCTYPE html&gt;\\n&lt;html dir=\"ltr\" lang=\"en\" pre...</td>\n",
       "      <td>2019</td>\n",
       "      <td>before</td>\n",
       "      <td>Amazon Makes Returns Even Easier This Holiday ...</td>\n",
       "    </tr>\n",
       "    <tr>\n",
       "      <th>4</th>\n",
       "      <td>https://press.aboutamazon.com/news-releases/ne...</td>\n",
       "      <td>Amazon Helps Keep the Holidays ‘Spoiler Free’ ...</td>\n",
       "      <td>\\n\\n\\n\\n\\n\\n\\n\\n        Skip to main navigatio...</td>\n",
       "      <td>&lt;!DOCTYPE html&gt;\\n&lt;html dir=\"ltr\" lang=\"en\" pre...</td>\n",
       "      <td>2019</td>\n",
       "      <td>before</td>\n",
       "      <td>Amazon Helps Keep the Holidays ‘Spoiler Free’ ...</td>\n",
       "    </tr>\n",
       "  </tbody>\n",
       "</table>\n",
       "</div>"
      ],
      "text/plain": [
       "                                           full_link  \\\n",
       "0  https://press.aboutamazon.com/news-releases/ne...   \n",
       "1  https://press.aboutamazon.com/news-releases/ne...   \n",
       "2  https://press.aboutamazon.com/news-releases/ne...   \n",
       "3  https://press.aboutamazon.com/news-releases/ne...   \n",
       "4  https://press.aboutamazon.com/news-releases/ne...   \n",
       "\n",
       "                                               title  \\\n",
       "0  Amazon Continues Investment in Florida with De...   \n",
       "1  Customers Shopped at Record Levels this Holida...   \n",
       "2  Amazon Has Enabled Hundreds of Small Businesse...   \n",
       "3  Amazon Makes Returns Even Easier This Holiday ...   \n",
       "4  Amazon Helps Keep the Holidays ‘Spoiler Free’ ...   \n",
       "\n",
       "                                                body  \\\n",
       "0  \\n\\n\\n\\n\\n\\n\\n\\n        Skip to main navigatio...   \n",
       "1  \\n\\n\\n\\n\\n\\n\\n\\n        Skip to main navigatio...   \n",
       "2  \\n\\n\\n\\n\\n\\n\\n\\n        Skip to main navigatio...   \n",
       "3  \\n\\n\\n\\n\\n\\n\\n\\n        Skip to main navigatio...   \n",
       "4  \\n\\n\\n\\n\\n\\n\\n\\n        Skip to main navigatio...   \n",
       "\n",
       "                                                html  year   label  \\\n",
       "0  <!DOCTYPE html>\\n<html dir=\"ltr\" lang=\"en\" pre...  2019  before   \n",
       "1  <!DOCTYPE html>\\n<html dir=\"ltr\" lang=\"en\" pre...  2019  before   \n",
       "2  <!DOCTYPE html>\\n<html dir=\"ltr\" lang=\"en\" pre...  2019  before   \n",
       "3  <!DOCTYPE html>\\n<html dir=\"ltr\" lang=\"en\" pre...  2019  before   \n",
       "4  <!DOCTYPE html>\\n<html dir=\"ltr\" lang=\"en\" pre...  2019  before   \n",
       "\n",
       "                                           full_text  \n",
       "0  Amazon Continues Investment in Florida with De...  \n",
       "1  Customers Shopped at Record Levels this Holida...  \n",
       "2  Amazon Has Enabled Hundreds of Small Businesse...  \n",
       "3  Amazon Makes Returns Even Easier This Holiday ...  \n",
       "4  Amazon Helps Keep the Holidays ‘Spoiler Free’ ...  "
      ]
     },
     "execution_count": 60,
     "metadata": {},
     "output_type": "execute_result"
    }
   ],
   "source": [
    "file = [f for f in files if 'amazon' in f]\n",
    "df = pd.read_csv(f'../data/press_releases/{file[0]}')\n",
    "\n",
    "df['full_text'] = df['title'] + df['body']\n",
    "\n",
    "df.head()"
   ]
  },
  {
   "cell_type": "code",
   "execution_count": 52,
   "id": "intermediate-violin",
   "metadata": {
    "ExecuteTime": {
     "end_time": "2021-03-16T22:46:42.655005Z",
     "start_time": "2021-03-16T22:46:42.651503Z"
    }
   },
   "outputs": [],
   "source": [
    "# assign the label\n",
    "\n",
    "df['label'] = df.year.map(lambda x: 'after' if x >= 2020 else 'before')"
   ]
  },
  {
   "cell_type": "code",
   "execution_count": 61,
   "id": "single-barrier",
   "metadata": {
    "ExecuteTime": {
     "end_time": "2021-03-16T22:53:42.694043Z",
     "start_time": "2021-03-16T22:53:41.423051Z"
    }
   },
   "outputs": [],
   "source": [
    "# save it back\n",
    "\n",
    "df.to_csv(f'../data/press_releases/{file[0]}', index = False)"
   ]
  },
  {
   "cell_type": "markdown",
   "id": "hybrid-sterling",
   "metadata": {},
   "source": [
    "## Removing potential leak words"
   ]
  },
  {
   "cell_type": "markdown",
   "id": "suburban-cartridge",
   "metadata": {},
   "source": [
    "Although the target variables are `before` and `after`, other potential words are likely to be highly correlated with the target, such as the year (i.e., 2019, 2020, 2021) and words related to the pandemic (e.g., pandemic, coronavirus, COVID). Additionally, the companies' names are mostly filler but are likely to be in the text often, as are words related to the website. \n",
    "\n",
    "In the cell below, I've created a loop that first goes through every file, and then for each word in the `leak_words` list, removes that word from the full text of the DataFrame and saves it back before moving on to the next word. "
   ]
  },
  {
   "cell_type": "code",
   "execution_count": 4,
   "id": "behavioral-timing",
   "metadata": {
    "ExecuteTime": {
     "end_time": "2021-03-19T13:45:23.019229Z",
     "start_time": "2021-03-19T13:45:16.749026Z"
    }
   },
   "outputs": [
    {
     "name": "stderr",
     "output_type": "stream",
     "text": [
      "100%|██████████| 5/5 [00:06<00:00,  1.25s/it]\n"
     ]
    }
   ],
   "source": [
    "leak_words = [\n",
    "    '2021', '2020', '2019', 'Covid-19', 'Covid', 'COVID-19', 'COVID',\n",
    "    'Coronavirus', 'coronavirus', 'pandemic', 'Amazon', 'Apple', 'Walmart', \n",
    "    'CVS Health', 'CVS', 'Exxon Mobil', 'Exxon', 'menu','newsroom',\n",
    "    'amazon.com', 'blog', 'press', '\\n', '\\r', '\\t'\n",
    "]\n",
    "\n",
    "for file in tqdm(files):\n",
    "    df = pd.read_csv(f'../data/press_releases/{file}')\n",
    "    \n",
    "    for word in leak_words:\n",
    "        df.full_text = df.full_text.map(lambda x: x.replace(word,''))\n",
    "    \n",
    "    df.to_csv(f'../data/press_releases/{file}', index = False)"
   ]
  },
  {
   "cell_type": "markdown",
   "id": "solid-taylor",
   "metadata": {},
   "source": [
    "## EDA"
   ]
  },
  {
   "cell_type": "markdown",
   "id": "polyphonic-jurisdiction",
   "metadata": {},
   "source": [
    "Below, I've created graphs to get a better look at the data I'll be working with. I look at the number of press releases published by each company, the average word count for press releases by each company and the average character length for press releases published by each company. For each of these, in addition to splitting up the graphs by company, I've also split them up by their label, `before` and `after`."
   ]
  },
  {
   "cell_type": "code",
   "execution_count": 5,
   "id": "fifteen-teaching",
   "metadata": {
    "ExecuteTime": {
     "end_time": "2021-03-19T13:45:26.916251Z",
     "start_time": "2021-03-19T13:45:25.260084Z"
    }
   },
   "outputs": [
    {
     "data": {
      "text/html": [
       "<div>\n",
       "<style scoped>\n",
       "    .dataframe tbody tr th:only-of-type {\n",
       "        vertical-align: middle;\n",
       "    }\n",
       "\n",
       "    .dataframe tbody tr th {\n",
       "        vertical-align: top;\n",
       "    }\n",
       "\n",
       "    .dataframe thead th {\n",
       "        text-align: right;\n",
       "    }\n",
       "</style>\n",
       "<table border=\"1\" class=\"dataframe\">\n",
       "  <thead>\n",
       "    <tr style=\"text-align: right;\">\n",
       "      <th></th>\n",
       "      <th>full_link</th>\n",
       "      <th>title</th>\n",
       "      <th>body</th>\n",
       "      <th>html</th>\n",
       "      <th>date</th>\n",
       "      <th>full_text</th>\n",
       "      <th>year</th>\n",
       "      <th>label</th>\n",
       "    </tr>\n",
       "  </thead>\n",
       "  <tbody>\n",
       "    <tr>\n",
       "      <th>0</th>\n",
       "      <td>https://www.apple.com/newsroom/2021/03/apple-e...</td>\n",
       "      <td>Apple earns historic Academy Award nominations...</td>\n",
       "      <td>\\n\\n\\n\\n\\n\\n\\n\\n\\n\\n\\n\\n\\n\\n\\n\\n\\n\\nGlobal Nav...</td>\n",
       "      <td>&lt;!DOCTYPE html&gt;\\n&lt;html class=\"no-js\" dir=\"ltr\"...</td>\n",
       "      <td>2021-03-01</td>\n",
       "      <td>earns historic Academy Award nominations for ...</td>\n",
       "      <td>2021</td>\n",
       "      <td>after</td>\n",
       "    </tr>\n",
       "    <tr>\n",
       "      <th>1</th>\n",
       "      <td>https://www.apple.com/newsroom/2021/03/apple-w...</td>\n",
       "      <td>Apple Women’s Health Study releases preliminar...</td>\n",
       "      <td>\\n\\n\\n\\n\\n\\n\\n\\n\\n\\n\\n\\n\\n\\n\\n\\n\\n\\nGlobal Nav...</td>\n",
       "      <td>&lt;!DOCTYPE html&gt;\\n&lt;html class=\"no-js\" dir=\"ltr\"...</td>\n",
       "      <td>2021-03-01</td>\n",
       "      <td>Women’s Health Study releases preliminary dat...</td>\n",
       "      <td>2021</td>\n",
       "      <td>after</td>\n",
       "    </tr>\n",
       "    <tr>\n",
       "      <th>2</th>\n",
       "      <td>https://www.apple.com/newsroom/2021/03/apple-t...</td>\n",
       "      <td>Apple TV+ announces programming partnership wi...</td>\n",
       "      <td>\\n\\n\\n\\n\\n\\n\\n\\n\\n\\n\\n\\n\\n\\n\\n\\n\\n\\nGlobal Nav...</td>\n",
       "      <td>&lt;!DOCTYPE html&gt;\\n&lt;html class=\"no-js\" dir=\"ltr\"...</td>\n",
       "      <td>2021-03-01</td>\n",
       "      <td>TV+ announces programming partnership with No...</td>\n",
       "      <td>2021</td>\n",
       "      <td>after</td>\n",
       "    </tr>\n",
       "  </tbody>\n",
       "</table>\n",
       "</div>"
      ],
      "text/plain": [
       "                                           full_link  \\\n",
       "0  https://www.apple.com/newsroom/2021/03/apple-e...   \n",
       "1  https://www.apple.com/newsroom/2021/03/apple-w...   \n",
       "2  https://www.apple.com/newsroom/2021/03/apple-t...   \n",
       "\n",
       "                                               title  \\\n",
       "0  Apple earns historic Academy Award nominations...   \n",
       "1  Apple Women’s Health Study releases preliminar...   \n",
       "2  Apple TV+ announces programming partnership wi...   \n",
       "\n",
       "                                                body  \\\n",
       "0  \\n\\n\\n\\n\\n\\n\\n\\n\\n\\n\\n\\n\\n\\n\\n\\n\\n\\nGlobal Nav...   \n",
       "1  \\n\\n\\n\\n\\n\\n\\n\\n\\n\\n\\n\\n\\n\\n\\n\\n\\n\\nGlobal Nav...   \n",
       "2  \\n\\n\\n\\n\\n\\n\\n\\n\\n\\n\\n\\n\\n\\n\\n\\n\\n\\nGlobal Nav...   \n",
       "\n",
       "                                                html        date  \\\n",
       "0  <!DOCTYPE html>\\n<html class=\"no-js\" dir=\"ltr\"...  2021-03-01   \n",
       "1  <!DOCTYPE html>\\n<html class=\"no-js\" dir=\"ltr\"...  2021-03-01   \n",
       "2  <!DOCTYPE html>\\n<html class=\"no-js\" dir=\"ltr\"...  2021-03-01   \n",
       "\n",
       "                                           full_text  year  label  \n",
       "0   earns historic Academy Award nominations for ...  2021  after  \n",
       "1   Women’s Health Study releases preliminary dat...  2021  after  \n",
       "2   TV+ announces programming partnership with No...  2021  after  "
      ]
     },
     "execution_count": 5,
     "metadata": {},
     "output_type": "execute_result"
    }
   ],
   "source": [
    "# getting the full dataframe from the csv files\n",
    "\n",
    "files = [f for f in os.listdir('../data/press_releases/') if 'csv' in f]\n",
    "\n",
    "full = pd.DataFrame()\n",
    "\n",
    "for file in files:\n",
    "    new = pd.read_csv(f'../data/press_releases/{file}')\n",
    "    full = pd.concat([full,new],ignore_index=True)\n",
    "\n",
    "full.head(3)"
   ]
  },
  {
   "cell_type": "code",
   "execution_count": 7,
   "id": "ignored-albert",
   "metadata": {
    "ExecuteTime": {
     "end_time": "2021-03-19T13:48:39.009969Z",
     "start_time": "2021-03-19T13:48:38.130304Z"
    }
   },
   "outputs": [
    {
     "data": {
      "text/html": [
       "<div>\n",
       "<style scoped>\n",
       "    .dataframe tbody tr th:only-of-type {\n",
       "        vertical-align: middle;\n",
       "    }\n",
       "\n",
       "    .dataframe tbody tr th {\n",
       "        vertical-align: top;\n",
       "    }\n",
       "\n",
       "    .dataframe thead th {\n",
       "        text-align: right;\n",
       "    }\n",
       "</style>\n",
       "<table border=\"1\" class=\"dataframe\">\n",
       "  <thead>\n",
       "    <tr style=\"text-align: right;\">\n",
       "      <th></th>\n",
       "      <th>company</th>\n",
       "      <th>char_lengths</th>\n",
       "      <th>word_counts</th>\n",
       "      <th>label</th>\n",
       "    </tr>\n",
       "  </thead>\n",
       "  <tbody>\n",
       "    <tr>\n",
       "      <th>0</th>\n",
       "      <td>Apple</td>\n",
       "      <td>9589</td>\n",
       "      <td>1305</td>\n",
       "      <td>after</td>\n",
       "    </tr>\n",
       "    <tr>\n",
       "      <th>1</th>\n",
       "      <td>Apple</td>\n",
       "      <td>8579</td>\n",
       "      <td>1106</td>\n",
       "      <td>after</td>\n",
       "    </tr>\n",
       "    <tr>\n",
       "      <th>2</th>\n",
       "      <td>Apple</td>\n",
       "      <td>6371</td>\n",
       "      <td>796</td>\n",
       "      <td>after</td>\n",
       "    </tr>\n",
       "    <tr>\n",
       "      <th>3</th>\n",
       "      <td>Apple</td>\n",
       "      <td>9401</td>\n",
       "      <td>1267</td>\n",
       "      <td>after</td>\n",
       "    </tr>\n",
       "    <tr>\n",
       "      <th>4</th>\n",
       "      <td>Apple</td>\n",
       "      <td>10458</td>\n",
       "      <td>1441</td>\n",
       "      <td>after</td>\n",
       "    </tr>\n",
       "  </tbody>\n",
       "</table>\n",
       "</div>"
      ],
      "text/plain": [
       "  company  char_lengths  word_counts  label\n",
       "0   Apple          9589         1305  after\n",
       "1   Apple          8579         1106  after\n",
       "2   Apple          6371          796  after\n",
       "3   Apple          9401         1267  after\n",
       "4   Apple         10458         1441  after"
      ]
     },
     "execution_count": 7,
     "metadata": {},
     "output_type": "execute_result"
    }
   ],
   "source": [
    "# setting up a dataframe I can use to conduct some eda \n",
    "# with just the information I need\n",
    "\n",
    "eda = pd.DataFrame()\n",
    "\n",
    "# iterate through each row and assign the company name based on the link\n",
    "for row in range(len(full)):\n",
    "    if 'www.apple.com' in full.loc[row, 'full_link']:\n",
    "        eda.loc[row, 'company'] = 'Apple'\n",
    "    elif 'www.cvshealth.com' in full.loc[row, 'full_link']:\n",
    "        eda.loc[row, 'company'] = 'CVS Health'\n",
    "    elif 'exxonmobil.com' in full.loc[row, 'full_link']:\n",
    "        eda.loc[row, 'company'] = 'Exxon Mobil'\n",
    "    elif 'walmart.com' in full.loc[row, 'full_link']:\n",
    "        eda.loc[row, 'company'] = 'Walmart'\n",
    "    elif 'press.aboutamazon.com' in full.loc[row, 'full_link']:\n",
    "        eda.loc[row, 'company'] = 'Amazon'\n",
    "        \n",
    "eda['char_lengths'] = full.full_text.map(lambda x: len(x))\n",
    "eda['word_counts'] = full.full_text.map(lambda x: len(x.split()))\n",
    "eda['label'] = full.label\n",
    "eda.head()"
   ]
  },
  {
   "cell_type": "code",
   "execution_count": 74,
   "id": "designed-operations",
   "metadata": {
    "ExecuteTime": {
     "end_time": "2021-03-19T15:47:09.078894Z",
     "start_time": "2021-03-19T15:47:09.074933Z"
    }
   },
   "outputs": [],
   "source": [
    "# splitting up the eda dataframe by label\n",
    "\n",
    "after = eda[eda.label == 'after']\n",
    "before = eda[eda.label == 'before']"
   ]
  },
  {
   "cell_type": "code",
   "execution_count": 77,
   "id": "diagnostic-trauma",
   "metadata": {
    "ExecuteTime": {
     "end_time": "2021-03-19T16:05:46.070682Z",
     "start_time": "2021-03-19T16:05:46.061356Z"
    }
   },
   "outputs": [
    {
     "data": {
      "text/html": [
       "<div>\n",
       "<style scoped>\n",
       "    .dataframe tbody tr th:only-of-type {\n",
       "        vertical-align: middle;\n",
       "    }\n",
       "\n",
       "    .dataframe tbody tr th {\n",
       "        vertical-align: top;\n",
       "    }\n",
       "\n",
       "    .dataframe thead th {\n",
       "        text-align: right;\n",
       "    }\n",
       "</style>\n",
       "<table border=\"1\" class=\"dataframe\">\n",
       "  <thead>\n",
       "    <tr style=\"text-align: right;\">\n",
       "      <th></th>\n",
       "      <th>char_lengths</th>\n",
       "      <th>word_counts</th>\n",
       "    </tr>\n",
       "    <tr>\n",
       "      <th>company</th>\n",
       "      <th></th>\n",
       "      <th></th>\n",
       "    </tr>\n",
       "  </thead>\n",
       "  <tbody>\n",
       "    <tr>\n",
       "      <th>Amazon</th>\n",
       "      <td>10863.260465</td>\n",
       "      <td>1426.967442</td>\n",
       "    </tr>\n",
       "    <tr>\n",
       "      <th>Apple</th>\n",
       "      <td>8184.698529</td>\n",
       "      <td>1100.794118</td>\n",
       "    </tr>\n",
       "    <tr>\n",
       "      <th>CVS Health</th>\n",
       "      <td>15324.016260</td>\n",
       "      <td>1855.040650</td>\n",
       "    </tr>\n",
       "    <tr>\n",
       "      <th>Exxon Mobil</th>\n",
       "      <td>8395.685714</td>\n",
       "      <td>1062.785714</td>\n",
       "    </tr>\n",
       "    <tr>\n",
       "      <th>Walmart</th>\n",
       "      <td>6393.106952</td>\n",
       "      <td>902.486631</td>\n",
       "    </tr>\n",
       "  </tbody>\n",
       "</table>\n",
       "</div>"
      ],
      "text/plain": [
       "             char_lengths  word_counts\n",
       "company                               \n",
       "Amazon       10863.260465  1426.967442\n",
       "Apple         8184.698529  1100.794118\n",
       "CVS Health   15324.016260  1855.040650\n",
       "Exxon Mobil   8395.685714  1062.785714\n",
       "Walmart       6393.106952   902.486631"
      ]
     },
     "execution_count": 77,
     "metadata": {},
     "output_type": "execute_result"
    }
   ],
   "source": [
    "before.groupby('company').mean()"
   ]
  },
  {
   "cell_type": "code",
   "execution_count": 78,
   "id": "detected-still",
   "metadata": {
    "ExecuteTime": {
     "end_time": "2021-03-19T16:05:49.386480Z",
     "start_time": "2021-03-19T16:05:49.377900Z"
    }
   },
   "outputs": [
    {
     "data": {
      "text/html": [
       "<div>\n",
       "<style scoped>\n",
       "    .dataframe tbody tr th:only-of-type {\n",
       "        vertical-align: middle;\n",
       "    }\n",
       "\n",
       "    .dataframe tbody tr th {\n",
       "        vertical-align: top;\n",
       "    }\n",
       "\n",
       "    .dataframe thead th {\n",
       "        text-align: right;\n",
       "    }\n",
       "</style>\n",
       "<table border=\"1\" class=\"dataframe\">\n",
       "  <thead>\n",
       "    <tr style=\"text-align: right;\">\n",
       "      <th></th>\n",
       "      <th>char_lengths</th>\n",
       "      <th>word_counts</th>\n",
       "    </tr>\n",
       "    <tr>\n",
       "      <th>company</th>\n",
       "      <th></th>\n",
       "      <th></th>\n",
       "    </tr>\n",
       "  </thead>\n",
       "  <tbody>\n",
       "    <tr>\n",
       "      <th>Amazon</th>\n",
       "      <td>11124.290598</td>\n",
       "      <td>1504.623932</td>\n",
       "    </tr>\n",
       "    <tr>\n",
       "      <th>Apple</th>\n",
       "      <td>10607.842520</td>\n",
       "      <td>1471.496063</td>\n",
       "    </tr>\n",
       "    <tr>\n",
       "      <th>CVS Health</th>\n",
       "      <td>14260.385965</td>\n",
       "      <td>1706.239766</td>\n",
       "    </tr>\n",
       "    <tr>\n",
       "      <th>Exxon Mobil</th>\n",
       "      <td>9627.835616</td>\n",
       "      <td>1232.958904</td>\n",
       "    </tr>\n",
       "    <tr>\n",
       "      <th>Walmart</th>\n",
       "      <td>5853.428000</td>\n",
       "      <td>818.244000</td>\n",
       "    </tr>\n",
       "  </tbody>\n",
       "</table>\n",
       "</div>"
      ],
      "text/plain": [
       "             char_lengths  word_counts\n",
       "company                               \n",
       "Amazon       11124.290598  1504.623932\n",
       "Apple        10607.842520  1471.496063\n",
       "CVS Health   14260.385965  1706.239766\n",
       "Exxon Mobil   9627.835616  1232.958904\n",
       "Walmart       5853.428000   818.244000"
      ]
     },
     "execution_count": 78,
     "metadata": {},
     "output_type": "execute_result"
    }
   ],
   "source": [
    "after.groupby('company').mean()"
   ]
  },
  {
   "cell_type": "markdown",
   "id": "polyphonic-closing",
   "metadata": {},
   "source": [
    "The graph below shows that most companies have published more press releases since the start of the pandemic than they did in the year before. This makes sense, given there are two additional months in the `after` category than there are in the `before` category. The exception in this case is Apple, which has published 9 fewer press releases since January 2020 than it did in all of 2019."
   ]
  },
  {
   "cell_type": "code",
   "execution_count": 72,
   "id": "developmental-scanner",
   "metadata": {
    "ExecuteTime": {
     "end_time": "2021-03-19T15:06:56.443559Z",
     "start_time": "2021-03-19T15:06:56.128559Z"
    }
   },
   "outputs": [
    {
     "data": {
      "image/png": "[encoded data removed]",
      "text/plain": [
       "<Figure size 1080x576 with 1 Axes>"
      ]
     },
     "metadata": {
      "needs_background": "light"
     },
     "output_type": "display_data"
    }
   ],
   "source": [
    "# create a graph showing the number of of press releases published\n",
    "# before and after the pandemic per company\n",
    "\n",
    "xlabels = np.arange(5)\n",
    "width = .35\n",
    "companies = before.groupby(by='company')['label'].count().index\n",
    "\n",
    "fig, ax = plt.subplots(figsize=(15, 8))\n",
    "\n",
    "ax.bar(xlabels - width / 2,\n",
    "       before.groupby(by='company')['label'].count(),\n",
    "       width,\n",
    "       label='Before',\n",
    "       color='mediumblue')\n",
    "\n",
    "ax.bar(xlabels + width / 2,\n",
    "       after.groupby(by='company')['label'].count(),\n",
    "       width,\n",
    "       label='After',\n",
    "       color='cornflowerblue')\n",
    "\n",
    "ax.set_xticks(ax.get_xticks().tolist()[1:6])\n",
    "ax.set_xticklabels(companies, fontdict={'fontsize': 12})\n",
    "ax.set_xlabel('Company', fontdict={'fontsize': 14})\n",
    "\n",
    "ax.set_yticklabels(range(0, 260, 50), fontdict={'fontsize': 12})\n",
    "ax.set_ylabel('Number of Press Releases', fontdict={'fontsize': 14})\n",
    "\n",
    "ax.set_title(\n",
    "    'Number of Press Releases Published by Company\\nBefore & After the Start of the Pandemic',\n",
    "    fontdict={'fontsize': 18})\n",
    "\n",
    "ax.legend();\n",
    "# fig.savefig('../assets/press_release_count_by_company.png')"
   ]
  },
  {
   "cell_type": "markdown",
   "id": "brutal-tucson",
   "metadata": {},
   "source": [
    "The graph below shows that three of the five companies have, on average, published longer press releases after the pandemic than before. Apple saw the biggest jump, with press releases that are, on average, 300 words longer than they were before the pandemic."
   ]
  },
  {
   "cell_type": "code",
   "execution_count": 60,
   "id": "atmospheric-above",
   "metadata": {
    "ExecuteTime": {
     "end_time": "2021-03-19T14:44:57.188370Z",
     "start_time": "2021-03-19T14:44:56.853509Z"
    },
    "scrolled": false
   },
   "outputs": [
    {
     "name": "stderr",
     "output_type": "stream",
     "text": [
      "<ipython-input-60-e6600919ef1c>:23: UserWarning: FixedFormatter should only be used together with FixedLocator\n",
      "  ax.set_yticklabels(range(0,2000,250),fontdict={'fontsize': 12})\n"
     ]
    },
    {
     "data": {
      "image/png": "[encoded data removed]",
      "text/plain": [
       "<Figure size 1080x576 with 1 Axes>"
      ]
     },
     "metadata": {
      "needs_background": "light"
     },
     "output_type": "display_data"
    }
   ],
   "source": [
    "# create a graph showing whether or not the word count of press releases changed\n",
    "# before and after the pandemic\n",
    "\n",
    "xlabels = np.arange(5)\n",
    "width = .35\n",
    "companies = before.groupby(by='company').mean()['word_counts'].index\n",
    "\n",
    "fig, ax = plt.subplots(figsize=(15, 8))\n",
    "\n",
    "ax.bar(xlabels - width / 2,\n",
    "       before.groupby(by='company').mean()['word_counts'],\n",
    "       width,\n",
    "       label='Before',\n",
    "       color='mediumblue')\n",
    "\n",
    "ax.bar(xlabels + width / 2,\n",
    "       after.groupby(by='company').mean()['word_counts'],\n",
    "       width,\n",
    "       label='After',\n",
    "       color='cornflowerblue')\n",
    "\n",
    "ax.set_xticks(ax.get_xticks().tolist()[1:6])\n",
    "ax.set_xticklabels(companies, fontdict={'fontsize': 12})\n",
    "ax.set_xlabel('Company', fontdict={'fontsize': 14})\n",
    "\n",
    "ax.set_yticklabels(range(0, 2000, 250), fontdict={'fontsize': 12})\n",
    "ax.set_ylabel('Word Count', fontdict={'fontsize': 14})\n",
    "\n",
    "ax.set_title(\n",
    "    'Average Word Count of Company Press Releases\\nBefore & After the Start of the Pandemic',\n",
    "    fontdict={'fontsize': 18})\n",
    "\n",
    "ax.legend();\n",
    "# fig.savefig('../assets/avg_word_count_per_press_release_by_company.png')"
   ]
  },
  {
   "cell_type": "markdown",
   "id": "listed-least",
   "metadata": {},
   "source": [
    "The graph below shows that the same three companies that have longer press releases post-pandemic also have a higher average character count than they did before the pandemic, which makes sense, given they are using more words. Here, Apple once again saw the biggest jump, with press releases that have roughly 2,400 more characters on average since the start of the pandemic. "
   ]
  },
  {
   "cell_type": "code",
   "execution_count": 64,
   "id": "infrared-worthy",
   "metadata": {
    "ExecuteTime": {
     "end_time": "2021-03-19T14:47:52.422227Z",
     "start_time": "2021-03-19T14:47:52.076380Z"
    }
   },
   "outputs": [
    {
     "name": "stderr",
     "output_type": "stream",
     "text": [
      "<ipython-input-64-61eb0ff441aa>:23: UserWarning: FixedFormatter should only be used together with FixedLocator\n",
      "  ax.set_yticklabels(range(0, 17000, 2000), fontdict={'fontsize': 12})\n"
     ]
    },
    {
     "data": {
      "image/png": "[encoded data removed]",
      "text/plain": [
       "<Figure size 1080x576 with 1 Axes>"
      ]
     },
     "metadata": {
      "needs_background": "light"
     },
     "output_type": "display_data"
    }
   ],
   "source": [
    "# create a graph showing whether or not the character count of press releases changed\n",
    "# before and after the pandemic\n",
    "\n",
    "xlabels = np.arange(5)\n",
    "width = .35\n",
    "companies = before.groupby(by='company').mean()['char_lengths'].index\n",
    "\n",
    "fig, ax = plt.subplots(figsize=(15, 8))\n",
    "\n",
    "ax.bar(xlabels - width / 2,\n",
    "       before.groupby(by='company').mean()['char_lengths'],\n",
    "       width,\n",
    "       label='Before',\n",
    "       color='mediumblue')\n",
    "\n",
    "ax.bar(xlabels + width / 2,\n",
    "       after.groupby(by='company').mean()['char_lengths'],\n",
    "       width,\n",
    "       label='After',\n",
    "       color='cornflowerblue')\n",
    "\n",
    "ax.set_xticks(ax.get_xticks().tolist()[1:6])\n",
    "ax.set_xticklabels(companies, fontdict={'fontsize': 12})\n",
    "ax.set_xlabel('Company', fontdict={'fontsize': 14})\n",
    "\n",
    "ax.set_yticklabels(range(0, 17000, 2000), fontdict={'fontsize': 12})\n",
    "ax.set_ylabel('Character Length', fontdict={'fontsize': 14})\n",
    "\n",
    "ax.set_title(\n",
    "    'Average Character Length of Company Press Releases\\nBefore & After the Start of the Pandemic',\n",
    "    fontdict={'fontsize': 18})\n",
    "\n",
    "ax.legend();\n",
    "# fig.savefig('../assets/avg_char_count_per_press_release_by_company.png')"
   ]
  }
 ],
 "metadata": {
  "kernelspec": {
   "display_name": "Python 3",
   "language": "python",
   "name": "python3"
  },
  "language_info": {
   "codemirror_mode": {
    "name": "ipython",
    "version": 3
   },
   "file_extension": ".py",
   "mimetype": "text/x-python",
   "name": "python",
   "nbconvert_exporter": "python",
   "pygments_lexer": "ipython3",
   "version": "3.8.5"
  },
  "toc": {
   "base_numbering": 1,
   "nav_menu": {},
   "number_sections": true,
   "sideBar": true,
   "skip_h1_title": false,
   "title_cell": "Table of Contents",
   "title_sidebar": "Contents",
   "toc_cell": false,
   "toc_position": {},
   "toc_section_display": true,
   "toc_window_display": false
  },
  "varInspector": {
   "cols": {
    "lenName": 16,
    "lenType": 16,
    "lenVar": 40
   },
   "kernels_config": {
    "python": {
     "delete_cmd_postfix": "",
     "delete_cmd_prefix": "del ",
     "library": "var_list.py",
     "varRefreshCmd": "print(var_dic_list())"
    },
    "r": {
     "delete_cmd_postfix": ") ",
     "delete_cmd_prefix": "rm(",
     "library": "var_list.r",
     "varRefreshCmd": "cat(var_dic_list()) "
    }
   },
   "types_to_exclude": [
    "module",
    "function",
    "builtin_function_or_method",
    "instance",
    "_Feature"
   ],
   "window_display": false
  }
 },
 "nbformat": 4,
 "nbformat_minor": 5
}
