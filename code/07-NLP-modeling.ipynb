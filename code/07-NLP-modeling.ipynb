{
 "cells": [
  {
   "cell_type": "markdown",
   "id": "instructional-airport",
   "metadata": {},
   "source": [
    "## Imports"
   ]
  },
  {
   "cell_type": "code",
   "execution_count": 1,
   "id": "contrary-reaction",
   "metadata": {
    "ExecuteTime": {
     "end_time": "2021-03-17T20:27:00.966876Z",
     "start_time": "2021-03-17T20:26:57.064212Z"
    }
   },
   "outputs": [],
   "source": [
    "import pandas as pd\n",
    "import numpy as np\n",
    "import matplotlib.pyplot as plt\n",
    "\n",
    "import os\n",
    "\n",
    "from sklearn.model_selection import train_test_split\n",
    "from sklearn.base import TransformerMixin\n",
    "from sklearn.pipeline import Pipeline\n",
    "from sklearn.linear_model import LogisticRegression\n",
    "from sklearn.neighbors import KNeighborsClassifier\n",
    "from sklearn.feature_extraction.text import TfidfVectorizer\n",
    "from sklearn import metrics as metrics\n",
    "\n",
    "from nltk.stem import PorterStemmer, WordNetLemmatizer\n",
    "from nltk.corpus import stopwords\n",
    "from nltk.tokenize import word_tokenize\n",
    "\n",
    "import spacy\n",
    "from spacy.lang.en.stop_words import STOP_WORDS\n",
    "from spacy.lang.en import English\n",
    "\n",
    "import string\n",
    "\n",
    "import warnings\n",
    "warnings.filterwarnings('ignore')"
   ]
  },
  {
   "cell_type": "code",
   "execution_count": 2,
   "id": "twelve-success",
   "metadata": {
    "ExecuteTime": {
     "end_time": "2021-03-17T20:27:00.974032Z",
     "start_time": "2021-03-17T20:27:00.969787Z"
    }
   },
   "outputs": [],
   "source": [
    "files = [f for f in os.listdir('../data/press_releases/') if 'csv' in f]"
   ]
  },
  {
   "cell_type": "code",
   "execution_count": 3,
   "id": "overall-police",
   "metadata": {
    "ExecuteTime": {
     "end_time": "2021-03-17T20:27:02.846608Z",
     "start_time": "2021-03-17T20:27:00.976286Z"
    },
    "code_folding": []
   },
   "outputs": [
    {
     "data": {
      "text/html": [
       "<div>\n",
       "<style scoped>\n",
       "    .dataframe tbody tr th:only-of-type {\n",
       "        vertical-align: middle;\n",
       "    }\n",
       "\n",
       "    .dataframe tbody tr th {\n",
       "        vertical-align: top;\n",
       "    }\n",
       "\n",
       "    .dataframe thead th {\n",
       "        text-align: right;\n",
       "    }\n",
       "</style>\n",
       "<table border=\"1\" class=\"dataframe\">\n",
       "  <thead>\n",
       "    <tr style=\"text-align: right;\">\n",
       "      <th></th>\n",
       "      <th>full_link</th>\n",
       "      <th>title</th>\n",
       "      <th>body</th>\n",
       "      <th>html</th>\n",
       "      <th>date</th>\n",
       "      <th>full_text</th>\n",
       "      <th>year</th>\n",
       "      <th>label</th>\n",
       "    </tr>\n",
       "  </thead>\n",
       "  <tbody>\n",
       "    <tr>\n",
       "      <th>0</th>\n",
       "      <td>https://www.apple.com/newsroom/2021/03/apple-e...</td>\n",
       "      <td>Apple earns historic Academy Award nominations...</td>\n",
       "      <td>\\n\\n\\n\\n\\n\\n\\n\\n\\n\\n\\n\\n\\n\\n\\n\\n\\n\\nGlobal Nav...</td>\n",
       "      <td>&lt;!DOCTYPE html&gt;\\n&lt;html class=\"no-js\" dir=\"ltr\"...</td>\n",
       "      <td>2021-03-01</td>\n",
       "      <td>earns historic Academy Award nominations for ...</td>\n",
       "      <td>2021</td>\n",
       "      <td>after</td>\n",
       "    </tr>\n",
       "    <tr>\n",
       "      <th>1</th>\n",
       "      <td>https://www.apple.com/newsroom/2021/03/apple-w...</td>\n",
       "      <td>Apple Women’s Health Study releases preliminar...</td>\n",
       "      <td>\\n\\n\\n\\n\\n\\n\\n\\n\\n\\n\\n\\n\\n\\n\\n\\n\\n\\nGlobal Nav...</td>\n",
       "      <td>&lt;!DOCTYPE html&gt;\\n&lt;html class=\"no-js\" dir=\"ltr\"...</td>\n",
       "      <td>2021-03-01</td>\n",
       "      <td>Women’s Health Study releases preliminary dat...</td>\n",
       "      <td>2021</td>\n",
       "      <td>after</td>\n",
       "    </tr>\n",
       "    <tr>\n",
       "      <th>2</th>\n",
       "      <td>https://www.apple.com/newsroom/2021/03/apple-t...</td>\n",
       "      <td>Apple TV+ announces programming partnership wi...</td>\n",
       "      <td>\\n\\n\\n\\n\\n\\n\\n\\n\\n\\n\\n\\n\\n\\n\\n\\n\\n\\nGlobal Nav...</td>\n",
       "      <td>&lt;!DOCTYPE html&gt;\\n&lt;html class=\"no-js\" dir=\"ltr\"...</td>\n",
       "      <td>2021-03-01</td>\n",
       "      <td>TV+ announces programming partnership with No...</td>\n",
       "      <td>2021</td>\n",
       "      <td>after</td>\n",
       "    </tr>\n",
       "    <tr>\n",
       "      <th>3</th>\n",
       "      <td>https://www.apple.com/newsroom/2021/03/apple-h...</td>\n",
       "      <td>Apple Hearing Study shares new insights on hea...</td>\n",
       "      <td>\\n\\n\\n\\n\\n\\n\\n\\n\\n\\n\\n\\n\\n\\n\\n\\n\\n\\nGlobal Nav...</td>\n",
       "      <td>&lt;!DOCTYPE html&gt;\\n&lt;html class=\"no-js\" dir=\"ltr\"...</td>\n",
       "      <td>2021-03-01</td>\n",
       "      <td>Hearing Study shares new insights on hearing ...</td>\n",
       "      <td>2021</td>\n",
       "      <td>after</td>\n",
       "    </tr>\n",
       "    <tr>\n",
       "      <th>4</th>\n",
       "      <td>https://www.apple.com/newsroom/2021/03/new-zea...</td>\n",
       "      <td>New Zealand students prototype their own Samoa...</td>\n",
       "      <td>\\n\\n\\n\\n\\n\\n\\n\\n\\n\\n\\n\\n\\n\\n\\n\\n\\n\\nGlobal Nav...</td>\n",
       "      <td>&lt;!DOCTYPE html&gt;\\n&lt;html class=\"no-js\" dir=\"ltr\"...</td>\n",
       "      <td>2021-03-01</td>\n",
       "      <td>New Zealand students prototype their own Samoa...</td>\n",
       "      <td>2021</td>\n",
       "      <td>after</td>\n",
       "    </tr>\n",
       "  </tbody>\n",
       "</table>\n",
       "</div>"
      ],
      "text/plain": [
       "                                           full_link  \\\n",
       "0  https://www.apple.com/newsroom/2021/03/apple-e...   \n",
       "1  https://www.apple.com/newsroom/2021/03/apple-w...   \n",
       "2  https://www.apple.com/newsroom/2021/03/apple-t...   \n",
       "3  https://www.apple.com/newsroom/2021/03/apple-h...   \n",
       "4  https://www.apple.com/newsroom/2021/03/new-zea...   \n",
       "\n",
       "                                               title  \\\n",
       "0  Apple earns historic Academy Award nominations...   \n",
       "1  Apple Women’s Health Study releases preliminar...   \n",
       "2  Apple TV+ announces programming partnership wi...   \n",
       "3  Apple Hearing Study shares new insights on hea...   \n",
       "4  New Zealand students prototype their own Samoa...   \n",
       "\n",
       "                                                body  \\\n",
       "0  \\n\\n\\n\\n\\n\\n\\n\\n\\n\\n\\n\\n\\n\\n\\n\\n\\n\\nGlobal Nav...   \n",
       "1  \\n\\n\\n\\n\\n\\n\\n\\n\\n\\n\\n\\n\\n\\n\\n\\n\\n\\nGlobal Nav...   \n",
       "2  \\n\\n\\n\\n\\n\\n\\n\\n\\n\\n\\n\\n\\n\\n\\n\\n\\n\\nGlobal Nav...   \n",
       "3  \\n\\n\\n\\n\\n\\n\\n\\n\\n\\n\\n\\n\\n\\n\\n\\n\\n\\nGlobal Nav...   \n",
       "4  \\n\\n\\n\\n\\n\\n\\n\\n\\n\\n\\n\\n\\n\\n\\n\\n\\n\\nGlobal Nav...   \n",
       "\n",
       "                                                html        date  \\\n",
       "0  <!DOCTYPE html>\\n<html class=\"no-js\" dir=\"ltr\"...  2021-03-01   \n",
       "1  <!DOCTYPE html>\\n<html class=\"no-js\" dir=\"ltr\"...  2021-03-01   \n",
       "2  <!DOCTYPE html>\\n<html class=\"no-js\" dir=\"ltr\"...  2021-03-01   \n",
       "3  <!DOCTYPE html>\\n<html class=\"no-js\" dir=\"ltr\"...  2021-03-01   \n",
       "4  <!DOCTYPE html>\\n<html class=\"no-js\" dir=\"ltr\"...  2021-03-01   \n",
       "\n",
       "                                           full_text  year  label  \n",
       "0   earns historic Academy Award nominations for ...  2021  after  \n",
       "1   Women’s Health Study releases preliminary dat...  2021  after  \n",
       "2   TV+ announces programming partnership with No...  2021  after  \n",
       "3   Hearing Study shares new insights on hearing ...  2021  after  \n",
       "4  New Zealand students prototype their own Samoa...  2021  after  "
      ]
     },
     "execution_count": 3,
     "metadata": {},
     "output_type": "execute_result"
    }
   ],
   "source": [
    "df = pd.DataFrame()\n",
    "\n",
    "for file in files:\n",
    "    new = pd.read_csv(f'../data/press_releases/{file}')\n",
    "    df = pd.concat([df,new],ignore_index=True)\n",
    "\n",
    "df.head()"
   ]
  },
  {
   "cell_type": "code",
   "execution_count": 4,
   "id": "intense-batman",
   "metadata": {
    "ExecuteTime": {
     "end_time": "2021-03-17T20:27:02.861545Z",
     "start_time": "2021-03-17T20:27:02.848705Z"
    }
   },
   "outputs": [
    {
     "data": {
      "text/plain": [
       "after     0.539092\n",
       "before    0.460908\n",
       "Name: label, dtype: float64"
      ]
     },
     "execution_count": 4,
     "metadata": {},
     "output_type": "execute_result"
    }
   ],
   "source": [
    "df.label.value_counts(normalize=True)\n",
    "\n",
    "# baseline is 0.539092"
   ]
  },
  {
   "cell_type": "markdown",
   "id": "minute-conversation",
   "metadata": {},
   "source": [
    "## Vectorizing"
   ]
  },
  {
   "cell_type": "code",
   "execution_count": 5,
   "id": "hungry-module",
   "metadata": {
    "ExecuteTime": {
     "end_time": "2021-03-17T20:27:03.500828Z",
     "start_time": "2021-03-17T20:27:02.863432Z"
    }
   },
   "outputs": [],
   "source": [
    "# https://python.plainenglish.io/text-classification-using-python-spacy-7a414abcc83a\n",
    "\n",
    "# Load English tokenizer, tagger, parser, NER and word vectors\n",
    "# Create list of punctuation marks\n",
    "punctuations = string.punctuation\n",
    "\n",
    "# Create list of stopwords\n",
    "nlp = spacy.load('en_core_web_sm')\n",
    "stop_words = spacy.lang.en.stop_words.STOP_WORDS\n",
    "\n",
    "\n",
    "# Creating our tokenizer function\n",
    "def spacy_tokenizer(text):\n",
    "    # Creating our token object, which is used to create\n",
    "    # documents with linguistic annotations.\n",
    "    mytokens = nlp(text)\n",
    "\n",
    "    # Lemmatizing each token and converting each token into lowercase\n",
    "    mytokens = [\n",
    "        word.lemma_.lower().strip() if word.lemma_ != \"-PRON-\" else word.lower_\n",
    "        for word in mytokens\n",
    "    ]\n",
    "\n",
    "    # Removing stop words\n",
    "    mytokens = [\n",
    "        word for word in mytokens\n",
    "        if word not in stop_words and word not in punctuations\n",
    "    ]\n",
    "\n",
    "    # return preprocessed list of tokens\n",
    "    return mytokens\n",
    "\n",
    "# Custom transformer using spaCy\n",
    "\n",
    "class predictors(TransformerMixin): \n",
    "    \n",
    "    def transform(self, X, **transform_params):\n",
    "        # Basic function to clean the text\n",
    "        def clean_text(text):\n",
    "            # Removing spaces and converting text into lowercase\n",
    "            return text.strip().lower()\n",
    "        \n",
    "        # Cleaning Text\n",
    "        return [clean_text(text) for text in X]\n",
    "\n",
    "    def fit(self, X, y=None, **fit_params):\n",
    "        return self\n",
    "\n",
    "    def get_params(self, deep=True):\n",
    "        return {}"
   ]
  },
  {
   "cell_type": "code",
   "execution_count": 6,
   "id": "collectible-thong",
   "metadata": {
    "ExecuteTime": {
     "end_time": "2021-03-17T20:27:03.506325Z",
     "start_time": "2021-03-17T20:27:03.503010Z"
    }
   },
   "outputs": [],
   "source": [
    "tfidf = TfidfVectorizer(tokenizer=spacy_tokenizer,\n",
    "                        strip_accents='unicode',\n",
    "                        max_features=4000,\n",
    "                        max_df=.8,\n",
    "                        min_df=.2,\n",
    "                        ngram_range=(1, 2))"
   ]
  },
  {
   "cell_type": "code",
   "execution_count": 7,
   "id": "remarkable-sending",
   "metadata": {
    "ExecuteTime": {
     "end_time": "2021-03-17T20:27:03.515649Z",
     "start_time": "2021-03-17T20:27:03.509661Z"
    }
   },
   "outputs": [],
   "source": [
    "X = df['full_text']\n",
    "y = df['label']\n",
    "\n",
    "X_train, X_test, y_train, y_test = train_test_split(X,\n",
    "                                                    y,\n",
    "                                                    random_state=47,\n",
    "                                                    stratify=y)"
   ]
  },
  {
   "cell_type": "markdown",
   "id": "studied-syndication",
   "metadata": {},
   "source": [
    "## Logistic Regression"
   ]
  },
  {
   "cell_type": "code",
   "execution_count": 8,
   "id": "framed-tournament",
   "metadata": {
    "ExecuteTime": {
     "end_time": "2021-03-17T20:36:21.728355Z",
     "start_time": "2021-03-17T20:27:03.518988Z"
    }
   },
   "outputs": [
    {
     "name": "stdout",
     "output_type": "stream",
     "text": [
      "Train: 0.7594617325483599\n",
      "Test: 0.654911838790932\n"
     ]
    }
   ],
   "source": [
    "# Logistic Regression Classifier - penalty: 'l2'\n",
    "\n",
    "logr = LogisticRegression(penalty='l2')\n",
    "\n",
    "pipe_l2 = Pipeline([(\"cleaner\", predictors()),\n",
    "                 ('vectorizer', tfidf),\n",
    "                 ('logr', logr)])\n",
    "\n",
    "# model generation\n",
    "pipe_l2.fit(X_train,y_train)\n",
    "print('Train:', pipe_l2.score(X_train,y_train))\n",
    "print('Test:', pipe_l2.score(X_test,y_test))\n",
    "\n",
    "# baseline is 0.539092\n",
    "\n",
    "# Train: 0.7594617325483599\n",
    "# Test: 0.654911838790932"
   ]
  },
  {
   "cell_type": "code",
   "execution_count": 9,
   "id": "false-warrior",
   "metadata": {
    "ExecuteTime": {
     "end_time": "2021-03-17T20:37:48.483727Z",
     "start_time": "2021-03-17T20:36:21.730500Z"
    }
   },
   "outputs": [
    {
     "data": {
      "image/png": "[encoded data removed]",
      "text/plain": [
       "<Figure size 432x288 with 2 Axes>"
      ]
     },
     "metadata": {
      "needs_background": "light"
     },
     "output_type": "display_data"
    }
   ],
   "source": [
    "metrics.plot_confusion_matrix(pipe_l2, X_test, y_test, cmap='Blues', \n",
    "                              values_format='d');"
   ]
  },
  {
   "cell_type": "code",
   "execution_count": 10,
   "id": "qualified-twins",
   "metadata": {
    "ExecuteTime": {
     "end_time": "2021-03-17T20:39:08.342614Z",
     "start_time": "2021-03-17T20:37:48.485642Z"
    },
    "scrolled": true
   },
   "outputs": [
    {
     "data": {
      "image/png": "[encoded data removed]",
      "text/plain": [
       "<Figure size 432x288 with 1 Axes>"
      ]
     },
     "metadata": {
      "needs_background": "light"
     },
     "output_type": "display_data"
    }
   ],
   "source": [
    "# ROC curve\n",
    "metrics.plot_roc_curve(pipe_l2, X_test, y_test)\n",
    "# add worst case scenario line\n",
    "plt.plot([0, 1], [0, 1]);"
   ]
  },
  {
   "cell_type": "code",
   "execution_count": 11,
   "id": "jewish-eligibility",
   "metadata": {
    "ExecuteTime": {
     "end_time": "2021-03-17T20:40:41.851188Z",
     "start_time": "2021-03-17T20:39:08.344688Z"
    }
   },
   "outputs": [
    {
     "data": {
      "text/plain": [
       "0.7365813799090957"
      ]
     },
     "execution_count": 11,
     "metadata": {},
     "output_type": "execute_result"
    }
   ],
   "source": [
    "metrics.roc_auc_score(y_test, pipe_l2.predict_proba(X_test)[:,1])"
   ]
  },
  {
   "cell_type": "code",
   "execution_count": 12,
   "id": "desperate-pledge",
   "metadata": {
    "ExecuteTime": {
     "end_time": "2021-03-17T20:51:53.569115Z",
     "start_time": "2021-03-17T20:40:41.853189Z"
    }
   },
   "outputs": [
    {
     "name": "stdout",
     "output_type": "stream",
     "text": [
      "Train: 0.9217830109335576\n",
      "Test: 0.6952141057934509\n"
     ]
    }
   ],
   "source": [
    "# Logistic Regression Classifier - penalty: 'none'\n",
    "\n",
    "logr = LogisticRegression(penalty='none')\n",
    "\n",
    "pipe_none = Pipeline([(\"cleaner\", predictors()), \n",
    "                      ('vectorizer', tfidf),\n",
    "                      ('logr', logr)])\n",
    "\n",
    "# model generation\n",
    "pipe_none.fit(X_train, y_train)\n",
    "print('Train:', pipe_none.score(X_train, y_train))\n",
    "print('Test:', pipe_none.score(X_test, y_test))\n",
    "\n",
    "# baseline is 0.539092\n",
    "\n",
    "# Train: 0.9217830109335576\n",
    "# Test: 0.6952141057934509"
   ]
  },
  {
   "cell_type": "code",
   "execution_count": 13,
   "id": "bulgarian-courtesy",
   "metadata": {
    "ExecuteTime": {
     "end_time": "2021-03-17T20:53:41.034081Z",
     "start_time": "2021-03-17T20:51:53.571252Z"
    }
   },
   "outputs": [
    {
     "data": {
      "image/png": "[encoded data removed]",
      "text/plain": [
       "<Figure size 432x288 with 2 Axes>"
      ]
     },
     "metadata": {
      "needs_background": "light"
     },
     "output_type": "display_data"
    }
   ],
   "source": [
    "metrics.plot_confusion_matrix(pipe_none, X_test, y_test, cmap='Blues', \n",
    "                              values_format='d');"
   ]
  },
  {
   "cell_type": "code",
   "execution_count": 14,
   "id": "unlimited-chosen",
   "metadata": {
    "ExecuteTime": {
     "end_time": "2021-03-17T20:55:09.112001Z",
     "start_time": "2021-03-17T20:53:41.036876Z"
    }
   },
   "outputs": [
    {
     "data": {
      "image/png": "[encoded data removed]",
      "text/plain": [
       "<Figure size 432x288 with 1 Axes>"
      ]
     },
     "metadata": {
      "needs_background": "light"
     },
     "output_type": "display_data"
    }
   ],
   "source": [
    "# ROC curve\n",
    "metrics.plot_roc_curve(pipe_none, X_test, y_test)\n",
    "# add worst case scenario line\n",
    "plt.plot([0, 1], [0, 1]);"
   ]
  },
  {
   "cell_type": "code",
   "execution_count": 15,
   "id": "fewer-studio",
   "metadata": {
    "ExecuteTime": {
     "end_time": "2021-03-17T20:56:41.937178Z",
     "start_time": "2021-03-17T20:55:09.113678Z"
    }
   },
   "outputs": [
    {
     "data": {
      "text/plain": [
       "0.7356876564016139"
      ]
     },
     "execution_count": 15,
     "metadata": {},
     "output_type": "execute_result"
    }
   ],
   "source": [
    "metrics.roc_auc_score(y_test, pipe_none.predict_proba(X_test)[:,1])"
   ]
  },
  {
   "cell_type": "markdown",
   "id": "lyric-client",
   "metadata": {},
   "source": [
    "## KNN"
   ]
  },
  {
   "cell_type": "code",
   "execution_count": 16,
   "id": "informed-vessel",
   "metadata": {
    "ExecuteTime": {
     "end_time": "2021-03-17T21:08:38.397673Z",
     "start_time": "2021-03-17T20:56:41.939526Z"
    }
   },
   "outputs": [
    {
     "name": "stdout",
     "output_type": "stream",
     "text": [
      "Train: 0.7493692178301093\n",
      "Test: 0.672544080604534\n"
     ]
    }
   ],
   "source": [
    "# KNN Classifier - Neighbors = 8\n",
    "\n",
    "knn = KNeighborsClassifier(n_neighbors=8,n_jobs=-1)\n",
    "\n",
    "pipen8 = Pipeline([(\"cleaner\", predictors()),\n",
    "                 ('vectorizer', tfidf),\n",
    "                 ('knn', knn)])\n",
    "\n",
    "# model generation\n",
    "pipen8.fit(X_train,y_train)\n",
    "print('Train:', pipen8.score(X_train,y_train))\n",
    "print('Test:', pipen8.score(X_test,y_test))\n",
    "\n",
    "# baseline is 0.539092\n",
    "\n",
    "# Train: 0.7493692178301093\n",
    "# Test: 0.672544080604534"
   ]
  },
  {
   "cell_type": "code",
   "execution_count": 17,
   "id": "affecting-behavior",
   "metadata": {
    "ExecuteTime": {
     "end_time": "2021-03-17T21:10:08.092480Z",
     "start_time": "2021-03-17T21:08:38.399770Z"
    }
   },
   "outputs": [
    {
     "data": {
      "image/png": "[encoded data removed]",
      "text/plain": [
       "<Figure size 432x288 with 2 Axes>"
      ]
     },
     "metadata": {
      "needs_background": "light"
     },
     "output_type": "display_data"
    }
   ],
   "source": [
    "metrics.plot_confusion_matrix(pipen8, X_test, y_test, cmap='Blues', \n",
    "                              values_format='d');"
   ]
  },
  {
   "cell_type": "code",
   "execution_count": 18,
   "id": "compact-marble",
   "metadata": {
    "ExecuteTime": {
     "end_time": "2021-03-17T21:11:38.722644Z",
     "start_time": "2021-03-17T21:10:08.094668Z"
    }
   },
   "outputs": [
    {
     "data": {
      "image/png": "[encoded data removed]",
      "text/plain": [
       "<Figure size 432x288 with 1 Axes>"
      ]
     },
     "metadata": {
      "needs_background": "light"
     },
     "output_type": "display_data"
    }
   ],
   "source": [
    "# ROC curve\n",
    "metrics.plot_roc_curve(pipen8, X_test, y_test)\n",
    "# add worst case scenario line\n",
    "plt.plot([0, 1], [0, 1]);"
   ]
  },
  {
   "cell_type": "code",
   "execution_count": 19,
   "id": "equivalent-winner",
   "metadata": {
    "ExecuteTime": {
     "end_time": "2021-03-17T21:13:07.230849Z",
     "start_time": "2021-03-17T21:11:38.724798Z"
    }
   },
   "outputs": [
    {
     "data": {
      "text/plain": [
       "0.7631888054746949"
      ]
     },
     "execution_count": 19,
     "metadata": {},
     "output_type": "execute_result"
    }
   ],
   "source": [
    "metrics.roc_auc_score(y_test, pipen8.predict_proba(X_test)[:,1])"
   ]
  },
  {
   "cell_type": "code",
   "execution_count": 20,
   "id": "returning-arctic",
   "metadata": {
    "ExecuteTime": {
     "end_time": "2021-03-17T21:23:37.775497Z",
     "start_time": "2021-03-17T21:13:07.232762Z"
    }
   },
   "outputs": [
    {
     "name": "stdout",
     "output_type": "stream",
     "text": [
      "Train: 0.7821698906644239\n",
      "Test: 0.7128463476070529\n"
     ]
    }
   ],
   "source": [
    "# KNN Classifier - Neighbors = 5\n",
    "\n",
    "knn = KNeighborsClassifier(n_neighbors=5,n_jobs=-1)\n",
    "\n",
    "pipen5 = Pipeline([(\"cleaner\", predictors()),\n",
    "                 ('vectorizer', tfidf),\n",
    "                 ('knn', knn)])\n",
    "\n",
    "# model generation\n",
    "pipen5.fit(X_train,y_train)\n",
    "print('Train:', pipen5.score(X_train,y_train))\n",
    "print('Test:', pipen5.score(X_test,y_test))\n",
    "\n",
    "# baseline is 0.539092\n",
    "\n",
    "# Train: 0.7821698906644239\n",
    "# Test: 0.7128463476070529"
   ]
  },
  {
   "cell_type": "code",
   "execution_count": 21,
   "id": "efficient-lesbian",
   "metadata": {
    "ExecuteTime": {
     "end_time": "2021-03-17T21:25:16.399416Z",
     "start_time": "2021-03-17T21:23:37.777735Z"
    }
   },
   "outputs": [
    {
     "data": {
      "image/png": "[encoded data removed]",
      "text/plain": [
       "<Figure size 432x288 with 2 Axes>"
      ]
     },
     "metadata": {
      "needs_background": "light"
     },
     "output_type": "display_data"
    }
   ],
   "source": [
    "metrics.plot_confusion_matrix(pipen5, X_test, y_test, cmap='Blues', \n",
    "                              values_format='d');"
   ]
  },
  {
   "cell_type": "code",
   "execution_count": 22,
   "id": "incoming-philip",
   "metadata": {
    "ExecuteTime": {
     "end_time": "2021-03-17T21:27:05.341652Z",
     "start_time": "2021-03-17T21:25:16.408587Z"
    }
   },
   "outputs": [
    {
     "data": {
      "image/png": "[encoded data removed]",
      "text/plain": [
       "<Figure size 432x288 with 1 Axes>"
      ]
     },
     "metadata": {
      "needs_background": "light"
     },
     "output_type": "display_data"
    }
   ],
   "source": [
    "# ROC curve\n",
    "metrics.plot_roc_curve(pipen5, X_test, y_test)\n",
    "# add worst case scenario line\n",
    "plt.plot([0, 1], [0, 1]);"
   ]
  },
  {
   "cell_type": "code",
   "execution_count": 23,
   "id": "lightweight-april",
   "metadata": {
    "ExecuteTime": {
     "end_time": "2021-03-17T21:28:53.929841Z",
     "start_time": "2021-03-17T21:27:05.348765Z"
    }
   },
   "outputs": [
    {
     "data": {
      "text/plain": [
       "0.7766584954803125"
      ]
     },
     "execution_count": 23,
     "metadata": {},
     "output_type": "execute_result"
    }
   ],
   "source": [
    "metrics.roc_auc_score(y_test, pipen5.predict_proba(X_test)[:,1])"
   ]
  },
  {
   "cell_type": "code",
   "execution_count": 24,
   "id": "particular-medium",
   "metadata": {
    "ExecuteTime": {
     "end_time": "2021-03-17T21:39:13.876966Z",
     "start_time": "2021-03-17T21:28:53.932185Z"
    }
   },
   "outputs": [
    {
     "name": "stdout",
     "output_type": "stream",
     "text": [
      "Train: 0.8317914213624895\n",
      "Test: 0.707808564231738\n"
     ]
    }
   ],
   "source": [
    "# KNN Classifier - Neighbors = 3\n",
    "\n",
    "knn = KNeighborsClassifier(n_neighbors=3,n_jobs=-1)\n",
    "\n",
    "pipen3 = Pipeline([(\"cleaner\", predictors()),\n",
    "                 ('vectorizer', tfidf),\n",
    "                 ('knn', knn)])\n",
    "\n",
    "# model generation\n",
    "pipen3.fit(X_train,y_train)\n",
    "print('Train:', pipen3.score(X_train,y_train))\n",
    "print('Test:', pipen3.score(X_test,y_test))\n",
    "\n",
    "# baseline is 0.539092\n",
    "\n",
    "# Train: 0.8317914213624895\n",
    "# Test: 0.707808564231738"
   ]
  },
  {
   "cell_type": "code",
   "execution_count": 25,
   "id": "social-specific",
   "metadata": {
    "ExecuteTime": {
     "end_time": "2021-03-17T21:41:01.911081Z",
     "start_time": "2021-03-17T21:39:13.879522Z"
    }
   },
   "outputs": [
    {
     "data": {
      "image/png": "[encoded data removed]",
      "text/plain": [
       "<Figure size 432x288 with 2 Axes>"
      ]
     },
     "metadata": {
      "needs_background": "light"
     },
     "output_type": "display_data"
    }
   ],
   "source": [
    "metrics.plot_confusion_matrix(pipen3, X_test, y_test, cmap='Blues', \n",
    "                              values_format='d');"
   ]
  },
  {
   "cell_type": "code",
   "execution_count": 26,
   "id": "impressed-client",
   "metadata": {
    "ExecuteTime": {
     "end_time": "2021-03-17T21:42:42.922434Z",
     "start_time": "2021-03-17T21:41:01.914460Z"
    }
   },
   "outputs": [
    {
     "data": {
      "image/png": "[encoded data removed]",
      "text/plain": [
       "<Figure size 432x288 with 1 Axes>"
      ]
     },
     "metadata": {
      "needs_background": "light"
     },
     "output_type": "display_data"
    }
   ],
   "source": [
    "# ROC curve\n",
    "metrics.plot_roc_curve(pipen3, X_test, y_test)\n",
    "# add worst case scenario line\n",
    "plt.plot([0, 1], [0, 1]);"
   ]
  },
  {
   "cell_type": "code",
   "execution_count": 27,
   "id": "failing-trainer",
   "metadata": {
    "ExecuteTime": {
     "end_time": "2021-03-17T21:44:24.542398Z",
     "start_time": "2021-03-17T21:42:42.924752Z"
    }
   },
   "outputs": [
    {
     "data": {
      "text/plain": [
       "0.7535365915938921"
      ]
     },
     "execution_count": 27,
     "metadata": {},
     "output_type": "execute_result"
    }
   ],
   "source": [
    "metrics.roc_auc_score(y_test, pipen3.predict_proba(X_test)[:,1])"
   ]
  }
 ],
 "metadata": {
  "kernelspec": {
   "display_name": "Python 3",
   "language": "python",
   "name": "python3"
  },
  "language_info": {
   "codemirror_mode": {
    "name": "ipython",
    "version": 3
   },
   "file_extension": ".py",
   "mimetype": "text/x-python",
   "name": "python",
   "nbconvert_exporter": "python",
   "pygments_lexer": "ipython3",
   "version": "3.8.5"
  },
  "toc": {
   "base_numbering": 1,
   "nav_menu": {},
   "number_sections": true,
   "sideBar": true,
   "skip_h1_title": false,
   "title_cell": "Table of Contents",
   "title_sidebar": "Contents",
   "toc_cell": false,
   "toc_position": {},
   "toc_section_display": true,
   "toc_window_display": false
  },
  "varInspector": {
   "cols": {
    "lenName": 16,
    "lenType": 16,
    "lenVar": 40
   },
   "kernels_config": {
    "python": {
     "delete_cmd_postfix": "",
     "delete_cmd_prefix": "del ",
     "library": "var_list.py",
     "varRefreshCmd": "print(var_dic_list())"
    },
    "r": {
     "delete_cmd_postfix": ") ",
     "delete_cmd_prefix": "rm(",
     "library": "var_list.r",
     "varRefreshCmd": "cat(var_dic_list()) "
    }
   },
   "types_to_exclude": [
    "module",
    "function",
    "builtin_function_or_method",
    "instance",
    "_Feature"
   ],
   "window_display": false
  }
 },
 "nbformat": 4,
 "nbformat_minor": 5
}
