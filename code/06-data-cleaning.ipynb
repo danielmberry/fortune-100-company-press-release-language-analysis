{
 "cells": [
  {
   "cell_type": "markdown",
   "id": "instructional-airport",
   "metadata": {},
   "source": [
    "## Imports"
   ]
  },
  {
   "cell_type": "code",
   "execution_count": 58,
   "id": "contrary-reaction",
   "metadata": {
    "ExecuteTime": {
     "end_time": "2021-03-16T22:52:38.760547Z",
     "start_time": "2021-03-16T22:52:38.748713Z"
    }
   },
   "outputs": [],
   "source": [
    "import pandas as pd\n",
    "import numpy as np\n",
    "\n",
    "from tqdm import tqdm\n",
    "\n",
    "import datetime as dt\n",
    "\n",
    "import os"
   ]
  },
  {
   "cell_type": "code",
   "execution_count": 2,
   "id": "behind-tonight",
   "metadata": {
    "ExecuteTime": {
     "end_time": "2021-03-16T22:16:25.522695Z",
     "start_time": "2021-03-16T22:16:25.513049Z"
    }
   },
   "outputs": [
    {
     "data": {
      "text/plain": [
       "['apple_press_releases.csv',\n",
       " 'cvs_health_press_releases.csv',\n",
       " 'exxon_mobil_press_releases.csv',\n",
       " 'walmart_press_releases.csv',\n",
       " 'amazon_press_releases.csv']"
      ]
     },
     "execution_count": 2,
     "metadata": {},
     "output_type": "execute_result"
    }
   ],
   "source": [
    "files = [f for f in os.listdir('../data/press_releases/') if 'csv' in f]\n",
    "files"
   ]
  },
  {
   "cell_type": "markdown",
   "id": "average-bookmark",
   "metadata": {},
   "source": [
    "## Finding the dates for each file and assigning the label"
   ]
  },
  {
   "cell_type": "markdown",
   "id": "clean-nurse",
   "metadata": {},
   "source": [
    "### Apple"
   ]
  },
  {
   "cell_type": "code",
   "execution_count": 19,
   "id": "attractive-priest",
   "metadata": {
    "ExecuteTime": {
     "end_time": "2021-03-16T22:29:17.847905Z",
     "start_time": "2021-03-16T22:29:17.446024Z"
    },
    "scrolled": true
   },
   "outputs": [
    {
     "data": {
      "text/html": [
       "<div>\n",
       "<style scoped>\n",
       "    .dataframe tbody tr th:only-of-type {\n",
       "        vertical-align: middle;\n",
       "    }\n",
       "\n",
       "    .dataframe tbody tr th {\n",
       "        vertical-align: top;\n",
       "    }\n",
       "\n",
       "    .dataframe thead th {\n",
       "        text-align: right;\n",
       "    }\n",
       "</style>\n",
       "<table border=\"1\" class=\"dataframe\">\n",
       "  <thead>\n",
       "    <tr style=\"text-align: right;\">\n",
       "      <th></th>\n",
       "      <th>full_link</th>\n",
       "      <th>title</th>\n",
       "      <th>body</th>\n",
       "      <th>html</th>\n",
       "      <th>date</th>\n",
       "      <th>full_text</th>\n",
       "      <th>year</th>\n",
       "      <th>label</th>\n",
       "    </tr>\n",
       "  </thead>\n",
       "  <tbody>\n",
       "    <tr>\n",
       "      <th>0</th>\n",
       "      <td>https://www.apple.com/newsroom/2021/03/apple-e...</td>\n",
       "      <td>Apple earns historic Academy Award nominations...</td>\n",
       "      <td>\\n\\n\\n\\n\\n\\n\\n\\n\\n\\n\\n\\n\\n\\n\\n\\n\\n\\nGlobal Nav...</td>\n",
       "      <td>&lt;!DOCTYPE html&gt;\\n&lt;html class=\"no-js\" dir=\"ltr\"...</td>\n",
       "      <td>2021-03-01</td>\n",
       "      <td>Apple earns historic Academy Award nominations...</td>\n",
       "      <td>2021</td>\n",
       "      <td>after</td>\n",
       "    </tr>\n",
       "    <tr>\n",
       "      <th>1</th>\n",
       "      <td>https://www.apple.com/newsroom/2021/03/apple-w...</td>\n",
       "      <td>Apple Women’s Health Study releases preliminar...</td>\n",
       "      <td>\\n\\n\\n\\n\\n\\n\\n\\n\\n\\n\\n\\n\\n\\n\\n\\n\\n\\nGlobal Nav...</td>\n",
       "      <td>&lt;!DOCTYPE html&gt;\\n&lt;html class=\"no-js\" dir=\"ltr\"...</td>\n",
       "      <td>2021-03-01</td>\n",
       "      <td>Apple Women’s Health Study releases preliminar...</td>\n",
       "      <td>2021</td>\n",
       "      <td>after</td>\n",
       "    </tr>\n",
       "    <tr>\n",
       "      <th>2</th>\n",
       "      <td>https://www.apple.com/newsroom/2021/03/apple-t...</td>\n",
       "      <td>Apple TV+ announces programming partnership wi...</td>\n",
       "      <td>\\n\\n\\n\\n\\n\\n\\n\\n\\n\\n\\n\\n\\n\\n\\n\\n\\n\\nGlobal Nav...</td>\n",
       "      <td>&lt;!DOCTYPE html&gt;\\n&lt;html class=\"no-js\" dir=\"ltr\"...</td>\n",
       "      <td>2021-03-01</td>\n",
       "      <td>Apple TV+ announces programming partnership wi...</td>\n",
       "      <td>2021</td>\n",
       "      <td>after</td>\n",
       "    </tr>\n",
       "    <tr>\n",
       "      <th>3</th>\n",
       "      <td>https://www.apple.com/newsroom/2021/03/apple-h...</td>\n",
       "      <td>Apple Hearing Study shares new insights on hea...</td>\n",
       "      <td>\\n\\n\\n\\n\\n\\n\\n\\n\\n\\n\\n\\n\\n\\n\\n\\n\\n\\nGlobal Nav...</td>\n",
       "      <td>&lt;!DOCTYPE html&gt;\\n&lt;html class=\"no-js\" dir=\"ltr\"...</td>\n",
       "      <td>2021-03-01</td>\n",
       "      <td>Apple Hearing Study shares new insights on hea...</td>\n",
       "      <td>2021</td>\n",
       "      <td>after</td>\n",
       "    </tr>\n",
       "    <tr>\n",
       "      <th>4</th>\n",
       "      <td>https://www.apple.com/newsroom/2021/03/new-zea...</td>\n",
       "      <td>New Zealand students prototype their own Samoa...</td>\n",
       "      <td>\\n\\n\\n\\n\\n\\n\\n\\n\\n\\n\\n\\n\\n\\n\\n\\n\\n\\nGlobal Nav...</td>\n",
       "      <td>&lt;!DOCTYPE html&gt;\\n&lt;html class=\"no-js\" dir=\"ltr\"...</td>\n",
       "      <td>2021-03-01</td>\n",
       "      <td>New Zealand students prototype their own Samoa...</td>\n",
       "      <td>2021</td>\n",
       "      <td>after</td>\n",
       "    </tr>\n",
       "  </tbody>\n",
       "</table>\n",
       "</div>"
      ],
      "text/plain": [
       "                                           full_link  \\\n",
       "0  https://www.apple.com/newsroom/2021/03/apple-e...   \n",
       "1  https://www.apple.com/newsroom/2021/03/apple-w...   \n",
       "2  https://www.apple.com/newsroom/2021/03/apple-t...   \n",
       "3  https://www.apple.com/newsroom/2021/03/apple-h...   \n",
       "4  https://www.apple.com/newsroom/2021/03/new-zea...   \n",
       "\n",
       "                                               title  \\\n",
       "0  Apple earns historic Academy Award nominations...   \n",
       "1  Apple Women’s Health Study releases preliminar...   \n",
       "2  Apple TV+ announces programming partnership wi...   \n",
       "3  Apple Hearing Study shares new insights on hea...   \n",
       "4  New Zealand students prototype their own Samoa...   \n",
       "\n",
       "                                                body  \\\n",
       "0  \\n\\n\\n\\n\\n\\n\\n\\n\\n\\n\\n\\n\\n\\n\\n\\n\\n\\nGlobal Nav...   \n",
       "1  \\n\\n\\n\\n\\n\\n\\n\\n\\n\\n\\n\\n\\n\\n\\n\\n\\n\\nGlobal Nav...   \n",
       "2  \\n\\n\\n\\n\\n\\n\\n\\n\\n\\n\\n\\n\\n\\n\\n\\n\\n\\nGlobal Nav...   \n",
       "3  \\n\\n\\n\\n\\n\\n\\n\\n\\n\\n\\n\\n\\n\\n\\n\\n\\n\\nGlobal Nav...   \n",
       "4  \\n\\n\\n\\n\\n\\n\\n\\n\\n\\n\\n\\n\\n\\n\\n\\n\\n\\nGlobal Nav...   \n",
       "\n",
       "                                                html       date  \\\n",
       "0  <!DOCTYPE html>\\n<html class=\"no-js\" dir=\"ltr\"... 2021-03-01   \n",
       "1  <!DOCTYPE html>\\n<html class=\"no-js\" dir=\"ltr\"... 2021-03-01   \n",
       "2  <!DOCTYPE html>\\n<html class=\"no-js\" dir=\"ltr\"... 2021-03-01   \n",
       "3  <!DOCTYPE html>\\n<html class=\"no-js\" dir=\"ltr\"... 2021-03-01   \n",
       "4  <!DOCTYPE html>\\n<html class=\"no-js\" dir=\"ltr\"... 2021-03-01   \n",
       "\n",
       "                                           full_text  year  label  \n",
       "0  Apple earns historic Academy Award nominations...  2021  after  \n",
       "1  Apple Women’s Health Study releases preliminar...  2021  after  \n",
       "2  Apple TV+ announces programming partnership wi...  2021  after  \n",
       "3  Apple Hearing Study shares new insights on hea...  2021  after  \n",
       "4  New Zealand students prototype their own Samoa...  2021  after  "
      ]
     },
     "execution_count": 19,
     "metadata": {},
     "output_type": "execute_result"
    }
   ],
   "source": [
    "# find the dates\n",
    "file = [f for f in files if 'apple' in f]\n",
    "file\n",
    "df = pd.read_csv(f'../data/press_releases/{file[0]}')\n",
    "\n",
    "for row in range(len(df)):\n",
    "    link_list = [i.strip() for i in df.loc[row,'full_link'].split('/') if i.strip() != '']\n",
    "    df.loc[row,'date'] = '-'.join(link_list[3:5])\n",
    "\n",
    "df['full_text'] = df['title'] + df['body']\n",
    "\n",
    "df.date = df.date.map(lambda x: dt.datetime.strptime(x,'%Y-%m'))\n",
    "df['year'] = df.date.map(lambda x: x.year)\n",
    "\n",
    "df.head()"
   ]
  },
  {
   "cell_type": "code",
   "execution_count": 5,
   "id": "promising-tension",
   "metadata": {
    "ExecuteTime": {
     "end_time": "2021-03-16T22:22:02.539387Z",
     "start_time": "2021-03-16T22:22:02.535903Z"
    }
   },
   "outputs": [],
   "source": [
    "# assign the label\n",
    "\n",
    "df['label'] = df.year.map(lambda x: 'after' if x >= 2020 else 'before')"
   ]
  },
  {
   "cell_type": "code",
   "execution_count": 6,
   "id": "military-business",
   "metadata": {
    "ExecuteTime": {
     "end_time": "2021-03-16T22:22:10.942720Z",
     "start_time": "2021-03-16T22:22:10.130633Z"
    }
   },
   "outputs": [],
   "source": [
    "# save it back\n",
    "\n",
    "df.to_csv(f'../data/press_releases/{file[0]}', index = False)"
   ]
  },
  {
   "cell_type": "markdown",
   "id": "turned-cursor",
   "metadata": {},
   "source": [
    "### CVS Health"
   ]
  },
  {
   "cell_type": "code",
   "execution_count": 20,
   "id": "literary-timber",
   "metadata": {
    "ExecuteTime": {
     "end_time": "2021-03-16T22:29:50.816206Z",
     "start_time": "2021-03-16T22:29:49.103043Z"
    },
    "scrolled": true
   },
   "outputs": [
    {
     "data": {
      "text/html": [
       "<div>\n",
       "<style scoped>\n",
       "    .dataframe tbody tr th:only-of-type {\n",
       "        vertical-align: middle;\n",
       "    }\n",
       "\n",
       "    .dataframe tbody tr th {\n",
       "        vertical-align: top;\n",
       "    }\n",
       "\n",
       "    .dataframe thead th {\n",
       "        text-align: right;\n",
       "    }\n",
       "</style>\n",
       "<table border=\"1\" class=\"dataframe\">\n",
       "  <thead>\n",
       "    <tr style=\"text-align: right;\">\n",
       "      <th></th>\n",
       "      <th>full_link</th>\n",
       "      <th>title</th>\n",
       "      <th>body</th>\n",
       "      <th>html</th>\n",
       "      <th>date</th>\n",
       "      <th>full_text</th>\n",
       "      <th>year</th>\n",
       "    </tr>\n",
       "  </thead>\n",
       "  <tbody>\n",
       "    <tr>\n",
       "      <th>0</th>\n",
       "      <td>https://www.cvshealth.com/news-and-insights/pr...</td>\n",
       "      <td>CVS Health invests $114 million in affordable ...</td>\n",
       "      <td>\\n\\n\\n\\n\\n\\n\\n\\n        Skip to main content\\n...</td>\n",
       "      <td>&lt;!DOCTYPE html&gt;\\n&lt;html dir=\"ltr\" lang=\"en\" pre...</td>\n",
       "      <td>2021-02-23</td>\n",
       "      <td>CVS Health invests $114 million in affordable ...</td>\n",
       "      <td>2021</td>\n",
       "    </tr>\n",
       "    <tr>\n",
       "      <th>1</th>\n",
       "      <td>https://www.cvshealth.com/news-and-insights/pr...</td>\n",
       "      <td>CVS Health now offering COVID-19 vaccines in 2...</td>\n",
       "      <td>\\n\\n\\n\\n\\n\\n\\n\\n        Skip to main content\\n...</td>\n",
       "      <td>&lt;!DOCTYPE html&gt;\\n&lt;html dir=\"ltr\" lang=\"en\" pre...</td>\n",
       "      <td>2021-03-11</td>\n",
       "      <td>CVS Health now offering COVID-19 vaccines in 2...</td>\n",
       "      <td>2021</td>\n",
       "    </tr>\n",
       "    <tr>\n",
       "      <th>2</th>\n",
       "      <td>https://www.cvshealth.com/news-and-insights/pr...</td>\n",
       "      <td>CVS Health completes first round of COVID-19 v...</td>\n",
       "      <td>\\n\\n\\n\\n\\n\\n\\n\\n        Skip to main content\\n...</td>\n",
       "      <td>&lt;!DOCTYPE html&gt;\\n&lt;html dir=\"ltr\" lang=\"en\" pre...</td>\n",
       "      <td>2021-01-25</td>\n",
       "      <td>CVS Health completes first round of COVID-19 v...</td>\n",
       "      <td>2021</td>\n",
       "    </tr>\n",
       "    <tr>\n",
       "      <th>3</th>\n",
       "      <td>https://www.cvshealth.com/news-and-insights/pr...</td>\n",
       "      <td>CVS Health launches Symphony™ to support senio...</td>\n",
       "      <td>\\n\\n\\n\\n\\n\\n\\n\\n        Skip to main content\\n...</td>\n",
       "      <td>&lt;!DOCTYPE html&gt;\\n&lt;html dir=\"ltr\" lang=\"en\" pre...</td>\n",
       "      <td>2021-01-14</td>\n",
       "      <td>CVS Health launches Symphony™ to support senio...</td>\n",
       "      <td>2021</td>\n",
       "    </tr>\n",
       "    <tr>\n",
       "      <th>4</th>\n",
       "      <td>https://www.cvshealth.com/news-and-insights/pr...</td>\n",
       "      <td>CVS Health names Kyu Rhee, M.D., MPP, as Senio...</td>\n",
       "      <td>\\n\\n\\n\\n\\n\\n\\n\\n        Skip to main content\\n...</td>\n",
       "      <td>&lt;!DOCTYPE html&gt;\\n&lt;html dir=\"ltr\" lang=\"en\" pre...</td>\n",
       "      <td>2021-01-21</td>\n",
       "      <td>CVS Health names Kyu Rhee, M.D., MPP, as Senio...</td>\n",
       "      <td>2021</td>\n",
       "    </tr>\n",
       "  </tbody>\n",
       "</table>\n",
       "</div>"
      ],
      "text/plain": [
       "                                           full_link  \\\n",
       "0  https://www.cvshealth.com/news-and-insights/pr...   \n",
       "1  https://www.cvshealth.com/news-and-insights/pr...   \n",
       "2  https://www.cvshealth.com/news-and-insights/pr...   \n",
       "3  https://www.cvshealth.com/news-and-insights/pr...   \n",
       "4  https://www.cvshealth.com/news-and-insights/pr...   \n",
       "\n",
       "                                               title  \\\n",
       "0  CVS Health invests $114 million in affordable ...   \n",
       "1  CVS Health now offering COVID-19 vaccines in 2...   \n",
       "2  CVS Health completes first round of COVID-19 v...   \n",
       "3  CVS Health launches Symphony™ to support senio...   \n",
       "4  CVS Health names Kyu Rhee, M.D., MPP, as Senio...   \n",
       "\n",
       "                                                body  \\\n",
       "0  \\n\\n\\n\\n\\n\\n\\n\\n        Skip to main content\\n...   \n",
       "1  \\n\\n\\n\\n\\n\\n\\n\\n        Skip to main content\\n...   \n",
       "2  \\n\\n\\n\\n\\n\\n\\n\\n        Skip to main content\\n...   \n",
       "3  \\n\\n\\n\\n\\n\\n\\n\\n        Skip to main content\\n...   \n",
       "4  \\n\\n\\n\\n\\n\\n\\n\\n        Skip to main content\\n...   \n",
       "\n",
       "                                                html       date  \\\n",
       "0  <!DOCTYPE html>\\n<html dir=\"ltr\" lang=\"en\" pre... 2021-02-23   \n",
       "1  <!DOCTYPE html>\\n<html dir=\"ltr\" lang=\"en\" pre... 2021-03-11   \n",
       "2  <!DOCTYPE html>\\n<html dir=\"ltr\" lang=\"en\" pre... 2021-01-25   \n",
       "3  <!DOCTYPE html>\\n<html dir=\"ltr\" lang=\"en\" pre... 2021-01-14   \n",
       "4  <!DOCTYPE html>\\n<html dir=\"ltr\" lang=\"en\" pre... 2021-01-21   \n",
       "\n",
       "                                           full_text  year  \n",
       "0  CVS Health invests $114 million in affordable ...  2021  \n",
       "1  CVS Health now offering COVID-19 vaccines in 2...  2021  \n",
       "2  CVS Health completes first round of COVID-19 v...  2021  \n",
       "3  CVS Health launches Symphony™ to support senio...  2021  \n",
       "4  CVS Health names Kyu Rhee, M.D., MPP, as Senio...  2021  "
      ]
     },
     "execution_count": 20,
     "metadata": {},
     "output_type": "execute_result"
    }
   ],
   "source": [
    "file = [f for f in files if 'cvs' in f]\n",
    "df = pd.read_csv(f'../data/press_releases/{file[0]}')\n",
    "\n",
    "years = [str(i) for i in range(2019,2022)]\n",
    "\n",
    "for row in range(len(df)):\n",
    "    para_list = [i.strip() for i in df.loc[row,'body'].split('\\n') if i.strip() != '']\n",
    "    df.loc[row,'date'] = '-'.join(para_list[3:6])\n",
    "    \n",
    "    for year in years:\n",
    "        if (year in para_list[324]) & (len(para_list[324])<30):\n",
    "            df.loc[row,'date'] = ','.join(para_list[324].split(',')[-2:]).strip()\n",
    "            break\n",
    "        \n",
    "        elif (year in para_list[334]) & (len(para_list[334])<30):\n",
    "            df.loc[row,'date'] = ','.join(para_list[334].split(',')[-2:]).strip()\n",
    "            break\n",
    "        \n",
    "        else:\n",
    "            df.loc[row,'date'] = None\n",
    "\n",
    "df = df.dropna().reset_index(drop = True)\n",
    "\n",
    "df['full_text'] = df.title + df.body\n",
    "\n",
    "\n",
    "df.date = df.date.map(lambda x: dt.datetime.strptime(x,'%B %d, %Y'))\n",
    "df['year'] = df.date.map(lambda x: x.year)\n",
    "\n",
    "df.head()"
   ]
  },
  {
   "cell_type": "code",
   "execution_count": 21,
   "id": "cheap-register",
   "metadata": {
    "ExecuteTime": {
     "end_time": "2021-03-16T22:29:55.068994Z",
     "start_time": "2021-03-16T22:29:55.065577Z"
    }
   },
   "outputs": [],
   "source": [
    "# assign the label\n",
    "\n",
    "df['label'] = df.year.map(lambda x: 'after' if x >= 2020 else 'before')"
   ]
  },
  {
   "cell_type": "code",
   "execution_count": 22,
   "id": "early-apparel",
   "metadata": {
    "ExecuteTime": {
     "end_time": "2021-03-16T22:29:58.265991Z",
     "start_time": "2021-03-16T22:29:57.180574Z"
    }
   },
   "outputs": [],
   "source": [
    "# save it back\n",
    "\n",
    "df.to_csv(f'../data/press_releases/{file[0]}', index = False)"
   ]
  },
  {
   "cell_type": "markdown",
   "id": "powered-liberia",
   "metadata": {},
   "source": [
    "### Exxon Mobil"
   ]
  },
  {
   "cell_type": "code",
   "execution_count": 41,
   "id": "strange-merchant",
   "metadata": {
    "ExecuteTime": {
     "end_time": "2021-03-16T22:40:05.862735Z",
     "start_time": "2021-03-16T22:40:05.228649Z"
    },
    "scrolled": true
   },
   "outputs": [
    {
     "data": {
      "text/html": [
       "<div>\n",
       "<style scoped>\n",
       "    .dataframe tbody tr th:only-of-type {\n",
       "        vertical-align: middle;\n",
       "    }\n",
       "\n",
       "    .dataframe tbody tr th {\n",
       "        vertical-align: top;\n",
       "    }\n",
       "\n",
       "    .dataframe thead th {\n",
       "        text-align: right;\n",
       "    }\n",
       "</style>\n",
       "<table border=\"1\" class=\"dataframe\">\n",
       "  <thead>\n",
       "    <tr style=\"text-align: right;\">\n",
       "      <th></th>\n",
       "      <th>full_link</th>\n",
       "      <th>title</th>\n",
       "      <th>body</th>\n",
       "      <th>html</th>\n",
       "      <th>date</th>\n",
       "      <th>full_text</th>\n",
       "      <th>year</th>\n",
       "    </tr>\n",
       "  </thead>\n",
       "  <tbody>\n",
       "    <tr>\n",
       "      <th>0</th>\n",
       "      <td>https://corporate.exxonmobil.com/News/Newsroom...</td>\n",
       "      <td>Darren Woods shares strategy for long term gro...</td>\n",
       "      <td>\\n\\nSkip to content\\n\\n\\n\\n\\n\\n\\n\\n\\n\\n\\n\\n\\n\\...</td>\n",
       "      <td>&lt;!DOCTYPE html&gt;\\n&lt;!--[if IE 9]&gt;&lt;html lang=\"en\"...</td>\n",
       "      <td>2021-03-11</td>\n",
       "      <td>Darren Woods shares strategy for long term gro...</td>\n",
       "      <td>2021</td>\n",
       "    </tr>\n",
       "    <tr>\n",
       "      <th>1</th>\n",
       "      <td>https://corporate.exxonmobil.com/News/Newsroom...</td>\n",
       "      <td>ExxonMobil outlines plans to grow long-term sh...</td>\n",
       "      <td>\\n\\nSkip to content\\n\\n\\n\\nImportant Additiona...</td>\n",
       "      <td>&lt;!DOCTYPE html&gt;\\n&lt;!--[if IE 9]&gt;&lt;html lang=\"en\"...</td>\n",
       "      <td>2021-03-03</td>\n",
       "      <td>ExxonMobil outlines plans to grow long-term sh...</td>\n",
       "      <td>2021</td>\n",
       "    </tr>\n",
       "    <tr>\n",
       "      <th>2</th>\n",
       "      <td>https://corporate.exxonmobil.com/News/Newsroom...</td>\n",
       "      <td>ExxonMobil announces Singapore workforce reduc...</td>\n",
       "      <td>\\n\\nSkip to content\\n\\n\\n\\n\\n\\n\\n\\n\\n\\n\\n\\n\\n\\...</td>\n",
       "      <td>&lt;!DOCTYPE html&gt;\\n&lt;!--[if IE 9]&gt;&lt;html lang=\"en\"...</td>\n",
       "      <td>2021-03-02</td>\n",
       "      <td>ExxonMobil announces Singapore workforce reduc...</td>\n",
       "      <td>2021</td>\n",
       "    </tr>\n",
       "    <tr>\n",
       "      <th>3</th>\n",
       "      <td>https://corporate.exxonmobil.com/News/Newsroom...</td>\n",
       "      <td>Neil Duffin to retire as president of ExxonMob...</td>\n",
       "      <td>\\n\\nSkip to content\\n\\n\\n\\nImportant Additiona...</td>\n",
       "      <td>&lt;!DOCTYPE html&gt;\\n&lt;!--[if IE 9]&gt;&lt;html lang=\"en\"...</td>\n",
       "      <td>2021-03-01</td>\n",
       "      <td>Neil Duffin to retire as president of ExxonMob...</td>\n",
       "      <td>2021</td>\n",
       "    </tr>\n",
       "    <tr>\n",
       "      <th>4</th>\n",
       "      <td>https://corporate.exxonmobil.com/News/Newsroom...</td>\n",
       "      <td>Michael Angelakis and Jeffrey Ubben join Exxon...</td>\n",
       "      <td>\\n\\nSkip to content\\n\\n\\n\\nImportant Additiona...</td>\n",
       "      <td>&lt;!DOCTYPE html&gt;\\n&lt;!--[if IE 9]&gt;&lt;html lang=\"en\"...</td>\n",
       "      <td>2021-03-01</td>\n",
       "      <td>Michael Angelakis and Jeffrey Ubben join Exxon...</td>\n",
       "      <td>2021</td>\n",
       "    </tr>\n",
       "  </tbody>\n",
       "</table>\n",
       "</div>"
      ],
      "text/plain": [
       "                                           full_link  \\\n",
       "0  https://corporate.exxonmobil.com/News/Newsroom...   \n",
       "1  https://corporate.exxonmobil.com/News/Newsroom...   \n",
       "2  https://corporate.exxonmobil.com/News/Newsroom...   \n",
       "3  https://corporate.exxonmobil.com/News/Newsroom...   \n",
       "4  https://corporate.exxonmobil.com/News/Newsroom...   \n",
       "\n",
       "                                               title  \\\n",
       "0  Darren Woods shares strategy for long term gro...   \n",
       "1  ExxonMobil outlines plans to grow long-term sh...   \n",
       "2  ExxonMobil announces Singapore workforce reduc...   \n",
       "3  Neil Duffin to retire as president of ExxonMob...   \n",
       "4  Michael Angelakis and Jeffrey Ubben join Exxon...   \n",
       "\n",
       "                                                body  \\\n",
       "0  \\n\\nSkip to content\\n\\n\\n\\n\\n\\n\\n\\n\\n\\n\\n\\n\\n\\...   \n",
       "1  \\n\\nSkip to content\\n\\n\\n\\nImportant Additiona...   \n",
       "2  \\n\\nSkip to content\\n\\n\\n\\n\\n\\n\\n\\n\\n\\n\\n\\n\\n\\...   \n",
       "3  \\n\\nSkip to content\\n\\n\\n\\nImportant Additiona...   \n",
       "4  \\n\\nSkip to content\\n\\n\\n\\nImportant Additiona...   \n",
       "\n",
       "                                                html       date  \\\n",
       "0  <!DOCTYPE html>\\n<!--[if IE 9]><html lang=\"en\"... 2021-03-11   \n",
       "1  <!DOCTYPE html>\\n<!--[if IE 9]><html lang=\"en\"... 2021-03-03   \n",
       "2  <!DOCTYPE html>\\n<!--[if IE 9]><html lang=\"en\"... 2021-03-02   \n",
       "3  <!DOCTYPE html>\\n<!--[if IE 9]><html lang=\"en\"... 2021-03-01   \n",
       "4  <!DOCTYPE html>\\n<!--[if IE 9]><html lang=\"en\"... 2021-03-01   \n",
       "\n",
       "                                           full_text  year  \n",
       "0  Darren Woods shares strategy for long term gro...  2021  \n",
       "1  ExxonMobil outlines plans to grow long-term sh...  2021  \n",
       "2  ExxonMobil announces Singapore workforce reduc...  2021  \n",
       "3  Neil Duffin to retire as president of ExxonMob...  2021  \n",
       "4  Michael Angelakis and Jeffrey Ubben join Exxon...  2021  "
      ]
     },
     "execution_count": 41,
     "metadata": {},
     "output_type": "execute_result"
    }
   ],
   "source": [
    "file = [f for f in files if 'exxon' in f]\n",
    "df = pd.read_csv(f'../data/press_releases/{file[0]}')\n",
    "\n",
    "# test = [i.strip() for i in df.loc[1,'body'].split('\\n') if i.strip() != '']\n",
    "\n",
    "# [(i,j) for i,j in enumerate(test)]\n",
    "\n",
    "for row in range(len(df)):\n",
    "\n",
    "    para_list = [i.strip() for i in df.loc[row,'body'].split('\\n') if i.strip() != '']\n",
    "\n",
    "    for year in years:\n",
    "        \n",
    "        if (year in para_list[78]) & (len(para_list[78])<20):\n",
    "            df.loc[row,'date'] = ','.join(para_list[78].split(',')[-2:]).strip()\n",
    "            break\n",
    "        \n",
    "        elif (year in para_list[75]) & (len(para_list[75])<20):\n",
    "            df.loc[row,'date'] = ','.join(para_list[75].split(',')[-2:]).strip()\n",
    "            break\n",
    "        \n",
    "        else:\n",
    "            df.loc[row,'date'] = None\n",
    "\n",
    "            \n",
    "df['full_text'] = df.title + df.body\n",
    "\n",
    "\n",
    "months = {\n",
    "    'Jan.':'January',\n",
    "    'Feb.':'February',\n",
    "    'Mar.':'March',\n",
    "    'Apr.':'April',\n",
    "    'Jun.':'June',\n",
    "    'Jul.':'July',\n",
    "    'Aug.':'August',\n",
    "    'Sept.':'September',\n",
    "    'Oct.':'October',\n",
    "    'Nov.': 'November',\n",
    "    'Dec.':'December'\n",
    "}\n",
    "\n",
    "for row in range(len(df)):\n",
    "    for old,new in months.items():\n",
    "        df.loc[row,'date']=df.loc[row,'date'].replace(old,new).replace('   •','')\n",
    "\n",
    "        \n",
    "df['date'] = df['date'].map(lambda x: dt.datetime.strptime(x,'%B %d, %Y'))\n",
    "df['year'] = df['date'].map(lambda x: x.year)\n",
    "\n",
    "df.head()"
   ]
  },
  {
   "cell_type": "code",
   "execution_count": 42,
   "id": "vocal-wireless",
   "metadata": {
    "ExecuteTime": {
     "end_time": "2021-03-16T22:40:19.037024Z",
     "start_time": "2021-03-16T22:40:19.033808Z"
    }
   },
   "outputs": [],
   "source": [
    "# assign the label\n",
    "\n",
    "df['label'] = df.year.map(lambda x: 'after' if x >= 2020 else 'before')"
   ]
  },
  {
   "cell_type": "code",
   "execution_count": 43,
   "id": "cooked-bernard",
   "metadata": {
    "ExecuteTime": {
     "end_time": "2021-03-16T22:40:22.212531Z",
     "start_time": "2021-03-16T22:40:21.721157Z"
    }
   },
   "outputs": [],
   "source": [
    "# save it back\n",
    "\n",
    "df.to_csv(f'../data/press_releases/{file[0]}', index = False)"
   ]
  },
  {
   "cell_type": "markdown",
   "id": "worth-trader",
   "metadata": {},
   "source": [
    "### Walmart"
   ]
  },
  {
   "cell_type": "code",
   "execution_count": 46,
   "id": "smooth-wagon",
   "metadata": {
    "ExecuteTime": {
     "end_time": "2021-03-16T22:43:41.795325Z",
     "start_time": "2021-03-16T22:43:41.400019Z"
    },
    "scrolled": true
   },
   "outputs": [
    {
     "data": {
      "text/html": [
       "<div>\n",
       "<style scoped>\n",
       "    .dataframe tbody tr th:only-of-type {\n",
       "        vertical-align: middle;\n",
       "    }\n",
       "\n",
       "    .dataframe tbody tr th {\n",
       "        vertical-align: top;\n",
       "    }\n",
       "\n",
       "    .dataframe thead th {\n",
       "        text-align: right;\n",
       "    }\n",
       "</style>\n",
       "<table border=\"1\" class=\"dataframe\">\n",
       "  <thead>\n",
       "    <tr style=\"text-align: right;\">\n",
       "      <th></th>\n",
       "      <th>full_link</th>\n",
       "      <th>title</th>\n",
       "      <th>body</th>\n",
       "      <th>html</th>\n",
       "      <th>date</th>\n",
       "      <th>full_text</th>\n",
       "      <th>year</th>\n",
       "    </tr>\n",
       "  </thead>\n",
       "  <tbody>\n",
       "    <tr>\n",
       "      <th>0</th>\n",
       "      <td>https://corporate.walmart.com/newsroom/2021/03...</td>\n",
       "      <td>Walmart Investment to Accelerate Growth of Rak...</td>\n",
       "      <td>\\n\\n\\n\\n\\n\\n\\n\\n\\n\\n\\n\\n\\n\\n\\n\\n\\n\\n© 2021 Wal...</td>\n",
       "      <td>&lt;!DOCTYPE html&gt;\\n&lt;html class=\"PressReleasePage...</td>\n",
       "      <td>2021-03-12</td>\n",
       "      <td>Walmart Investment to Accelerate Growth of Rak...</td>\n",
       "      <td>2021</td>\n",
       "    </tr>\n",
       "    <tr>\n",
       "      <th>1</th>\n",
       "      <td>https://corporate.walmart.com/newsroom/2021/03...</td>\n",
       "      <td>Walmart Doubles Down on TikTok Shopping, Hosts...</td>\n",
       "      <td>\\n\\n\\n\\n\\n\\n\\n\\n\\n\\n\\n\\n\\n\\n\\n\\n\\n\\n© 2021 Wal...</td>\n",
       "      <td>&lt;!DOCTYPE html&gt;\\n&lt;html class=\"PressReleasePage...</td>\n",
       "      <td>2021-03-09</td>\n",
       "      <td>Walmart Doubles Down on TikTok Shopping, Hosts...</td>\n",
       "      <td>2021</td>\n",
       "    </tr>\n",
       "    <tr>\n",
       "      <th>2</th>\n",
       "      <td>https://corporate.walmart.com/newsroom/2021/03...</td>\n",
       "      <td>Walmart Board of Directors Adds Former AT&amp;T Ch...</td>\n",
       "      <td>\\n\\n\\n\\n\\n\\n\\n\\n\\n\\n\\n\\n\\n\\n\\n\\n\\n\\n© 2021 Wal...</td>\n",
       "      <td>&lt;!DOCTYPE html&gt;\\n&lt;html class=\"PressReleasePage...</td>\n",
       "      <td>2021-03-05</td>\n",
       "      <td>Walmart Board of Directors Adds Former AT&amp;T Ch...</td>\n",
       "      <td>2021</td>\n",
       "    </tr>\n",
       "    <tr>\n",
       "      <th>3</th>\n",
       "      <td>https://corporate.walmart.com/newsroom/2021/03...</td>\n",
       "      <td>Walmart Maintains Relentless Focus on Growing ...</td>\n",
       "      <td>\\n\\n\\n\\n\\n\\n\\n\\n\\n\\n\\n\\n\\n\\n\\n\\n\\n\\n© 2021 Wal...</td>\n",
       "      <td>&lt;!DOCTYPE html&gt;\\n&lt;html class=\"PressReleasePage...</td>\n",
       "      <td>2021-03-04</td>\n",
       "      <td>Walmart Maintains Relentless Focus on Growing ...</td>\n",
       "      <td>2021</td>\n",
       "    </tr>\n",
       "    <tr>\n",
       "      <th>4</th>\n",
       "      <td>https://corporate.walmart.com/newsroom/2021/03...</td>\n",
       "      <td>Walmart to Present at Bank of America 2021 Con...</td>\n",
       "      <td>\\n\\n\\n\\n\\n\\n\\n\\n\\n\\n\\n\\n\\n\\n\\n\\n\\n\\n© 2021 Wal...</td>\n",
       "      <td>&lt;!DOCTYPE html&gt;\\n&lt;html class=\"PressReleasePage...</td>\n",
       "      <td>2021-03-04</td>\n",
       "      <td>Walmart to Present at Bank of America 2021 Con...</td>\n",
       "      <td>2021</td>\n",
       "    </tr>\n",
       "  </tbody>\n",
       "</table>\n",
       "</div>"
      ],
      "text/plain": [
       "                                           full_link  \\\n",
       "0  https://corporate.walmart.com/newsroom/2021/03...   \n",
       "1  https://corporate.walmart.com/newsroom/2021/03...   \n",
       "2  https://corporate.walmart.com/newsroom/2021/03...   \n",
       "3  https://corporate.walmart.com/newsroom/2021/03...   \n",
       "4  https://corporate.walmart.com/newsroom/2021/03...   \n",
       "\n",
       "                                               title  \\\n",
       "0  Walmart Investment to Accelerate Growth of Rak...   \n",
       "1  Walmart Doubles Down on TikTok Shopping, Hosts...   \n",
       "2  Walmart Board of Directors Adds Former AT&T Ch...   \n",
       "3  Walmart Maintains Relentless Focus on Growing ...   \n",
       "4  Walmart to Present at Bank of America 2021 Con...   \n",
       "\n",
       "                                                body  \\\n",
       "0  \\n\\n\\n\\n\\n\\n\\n\\n\\n\\n\\n\\n\\n\\n\\n\\n\\n\\n© 2021 Wal...   \n",
       "1  \\n\\n\\n\\n\\n\\n\\n\\n\\n\\n\\n\\n\\n\\n\\n\\n\\n\\n© 2021 Wal...   \n",
       "2  \\n\\n\\n\\n\\n\\n\\n\\n\\n\\n\\n\\n\\n\\n\\n\\n\\n\\n© 2021 Wal...   \n",
       "3  \\n\\n\\n\\n\\n\\n\\n\\n\\n\\n\\n\\n\\n\\n\\n\\n\\n\\n© 2021 Wal...   \n",
       "4  \\n\\n\\n\\n\\n\\n\\n\\n\\n\\n\\n\\n\\n\\n\\n\\n\\n\\n© 2021 Wal...   \n",
       "\n",
       "                                                html       date  \\\n",
       "0  <!DOCTYPE html>\\n<html class=\"PressReleasePage... 2021-03-12   \n",
       "1  <!DOCTYPE html>\\n<html class=\"PressReleasePage... 2021-03-09   \n",
       "2  <!DOCTYPE html>\\n<html class=\"PressReleasePage... 2021-03-05   \n",
       "3  <!DOCTYPE html>\\n<html class=\"PressReleasePage... 2021-03-04   \n",
       "4  <!DOCTYPE html>\\n<html class=\"PressReleasePage... 2021-03-04   \n",
       "\n",
       "                                           full_text  year  \n",
       "0  Walmart Investment to Accelerate Growth of Rak...  2021  \n",
       "1  Walmart Doubles Down on TikTok Shopping, Hosts...  2021  \n",
       "2  Walmart Board of Directors Adds Former AT&T Ch...  2021  \n",
       "3  Walmart Maintains Relentless Focus on Growing ...  2021  \n",
       "4  Walmart to Present at Bank of America 2021 Con...  2021  "
      ]
     },
     "execution_count": 46,
     "metadata": {},
     "output_type": "execute_result"
    }
   ],
   "source": [
    "file = [f for f in files if 'walmart' in f]\n",
    "df = pd.read_csv(f'../data/press_releases/{file[0]}')\n",
    "\n",
    "for row in range(len(df)):\n",
    "    para_list = [i.strip() for i in df.loc[row,'full_link'].split('/') if i.strip() != '']\n",
    "    df.loc[row,'date'] = '-'.join(para_list[3:6])\n",
    "\n",
    "df['full_text'] = df.title + df.body\n",
    "\n",
    "df['date'] = df['date'].map(lambda x: dt.datetime.strptime(x,'%Y-%m-%d'))\n",
    "df['year'] = df['date'].map(lambda x: x.year)\n",
    "\n",
    "df.head()"
   ]
  },
  {
   "cell_type": "code",
   "execution_count": 47,
   "id": "interim-depression",
   "metadata": {
    "ExecuteTime": {
     "end_time": "2021-03-16T22:43:50.079964Z",
     "start_time": "2021-03-16T22:43:50.075960Z"
    }
   },
   "outputs": [],
   "source": [
    "# assign the label\n",
    "\n",
    "df['label'] = df.year.map(lambda x: 'after' if x >= 2020 else 'before')"
   ]
  },
  {
   "cell_type": "code",
   "execution_count": 48,
   "id": "monthly-advance",
   "metadata": {
    "ExecuteTime": {
     "end_time": "2021-03-16T22:43:52.849226Z",
     "start_time": "2021-03-16T22:43:52.213608Z"
    }
   },
   "outputs": [],
   "source": [
    "# save it back\n",
    "\n",
    "df.to_csv(f'../data/press_releases/{file[0]}', index = False)"
   ]
  },
  {
   "cell_type": "markdown",
   "id": "neither-relations",
   "metadata": {},
   "source": [
    "### Amazon"
   ]
  },
  {
   "cell_type": "code",
   "execution_count": 60,
   "id": "artistic-recognition",
   "metadata": {
    "ExecuteTime": {
     "end_time": "2021-03-16T22:53:29.688203Z",
     "start_time": "2021-03-16T22:53:29.217106Z"
    }
   },
   "outputs": [
    {
     "data": {
      "text/html": [
       "<div>\n",
       "<style scoped>\n",
       "    .dataframe tbody tr th:only-of-type {\n",
       "        vertical-align: middle;\n",
       "    }\n",
       "\n",
       "    .dataframe tbody tr th {\n",
       "        vertical-align: top;\n",
       "    }\n",
       "\n",
       "    .dataframe thead th {\n",
       "        text-align: right;\n",
       "    }\n",
       "</style>\n",
       "<table border=\"1\" class=\"dataframe\">\n",
       "  <thead>\n",
       "    <tr style=\"text-align: right;\">\n",
       "      <th></th>\n",
       "      <th>full_link</th>\n",
       "      <th>title</th>\n",
       "      <th>body</th>\n",
       "      <th>html</th>\n",
       "      <th>year</th>\n",
       "      <th>label</th>\n",
       "      <th>full_text</th>\n",
       "    </tr>\n",
       "  </thead>\n",
       "  <tbody>\n",
       "    <tr>\n",
       "      <th>0</th>\n",
       "      <td>https://press.aboutamazon.com/news-releases/ne...</td>\n",
       "      <td>Amazon Continues Investment in Florida with De...</td>\n",
       "      <td>\\n\\n\\n\\n\\n\\n\\n\\n        Skip to main navigatio...</td>\n",
       "      <td>&lt;!DOCTYPE html&gt;\\n&lt;html dir=\"ltr\" lang=\"en\" pre...</td>\n",
       "      <td>2019</td>\n",
       "      <td>before</td>\n",
       "      <td>Amazon Continues Investment in Florida with De...</td>\n",
       "    </tr>\n",
       "    <tr>\n",
       "      <th>1</th>\n",
       "      <td>https://press.aboutamazon.com/news-releases/ne...</td>\n",
       "      <td>Customers Shopped at Record Levels this Holida...</td>\n",
       "      <td>\\n\\n\\n\\n\\n\\n\\n\\n        Skip to main navigatio...</td>\n",
       "      <td>&lt;!DOCTYPE html&gt;\\n&lt;html dir=\"ltr\" lang=\"en\" pre...</td>\n",
       "      <td>2019</td>\n",
       "      <td>before</td>\n",
       "      <td>Customers Shopped at Record Levels this Holida...</td>\n",
       "    </tr>\n",
       "    <tr>\n",
       "      <th>2</th>\n",
       "      <td>https://press.aboutamazon.com/news-releases/ne...</td>\n",
       "      <td>Amazon Has Enabled Hundreds of Small Businesse...</td>\n",
       "      <td>\\n\\n\\n\\n\\n\\n\\n\\n        Skip to main navigatio...</td>\n",
       "      <td>&lt;!DOCTYPE html&gt;\\n&lt;html dir=\"ltr\" lang=\"en\" pre...</td>\n",
       "      <td>2019</td>\n",
       "      <td>before</td>\n",
       "      <td>Amazon Has Enabled Hundreds of Small Businesse...</td>\n",
       "    </tr>\n",
       "    <tr>\n",
       "      <th>3</th>\n",
       "      <td>https://press.aboutamazon.com/news-releases/ne...</td>\n",
       "      <td>Amazon Makes Returns Even Easier This Holiday ...</td>\n",
       "      <td>\\n\\n\\n\\n\\n\\n\\n\\n        Skip to main navigatio...</td>\n",
       "      <td>&lt;!DOCTYPE html&gt;\\n&lt;html dir=\"ltr\" lang=\"en\" pre...</td>\n",
       "      <td>2019</td>\n",
       "      <td>before</td>\n",
       "      <td>Amazon Makes Returns Even Easier This Holiday ...</td>\n",
       "    </tr>\n",
       "    <tr>\n",
       "      <th>4</th>\n",
       "      <td>https://press.aboutamazon.com/news-releases/ne...</td>\n",
       "      <td>Amazon Helps Keep the Holidays ‘Spoiler Free’ ...</td>\n",
       "      <td>\\n\\n\\n\\n\\n\\n\\n\\n        Skip to main navigatio...</td>\n",
       "      <td>&lt;!DOCTYPE html&gt;\\n&lt;html dir=\"ltr\" lang=\"en\" pre...</td>\n",
       "      <td>2019</td>\n",
       "      <td>before</td>\n",
       "      <td>Amazon Helps Keep the Holidays ‘Spoiler Free’ ...</td>\n",
       "    </tr>\n",
       "  </tbody>\n",
       "</table>\n",
       "</div>"
      ],
      "text/plain": [
       "                                           full_link  \\\n",
       "0  https://press.aboutamazon.com/news-releases/ne...   \n",
       "1  https://press.aboutamazon.com/news-releases/ne...   \n",
       "2  https://press.aboutamazon.com/news-releases/ne...   \n",
       "3  https://press.aboutamazon.com/news-releases/ne...   \n",
       "4  https://press.aboutamazon.com/news-releases/ne...   \n",
       "\n",
       "                                               title  \\\n",
       "0  Amazon Continues Investment in Florida with De...   \n",
       "1  Customers Shopped at Record Levels this Holida...   \n",
       "2  Amazon Has Enabled Hundreds of Small Businesse...   \n",
       "3  Amazon Makes Returns Even Easier This Holiday ...   \n",
       "4  Amazon Helps Keep the Holidays ‘Spoiler Free’ ...   \n",
       "\n",
       "                                                body  \\\n",
       "0  \\n\\n\\n\\n\\n\\n\\n\\n        Skip to main navigatio...   \n",
       "1  \\n\\n\\n\\n\\n\\n\\n\\n        Skip to main navigatio...   \n",
       "2  \\n\\n\\n\\n\\n\\n\\n\\n        Skip to main navigatio...   \n",
       "3  \\n\\n\\n\\n\\n\\n\\n\\n        Skip to main navigatio...   \n",
       "4  \\n\\n\\n\\n\\n\\n\\n\\n        Skip to main navigatio...   \n",
       "\n",
       "                                                html  year   label  \\\n",
       "0  <!DOCTYPE html>\\n<html dir=\"ltr\" lang=\"en\" pre...  2019  before   \n",
       "1  <!DOCTYPE html>\\n<html dir=\"ltr\" lang=\"en\" pre...  2019  before   \n",
       "2  <!DOCTYPE html>\\n<html dir=\"ltr\" lang=\"en\" pre...  2019  before   \n",
       "3  <!DOCTYPE html>\\n<html dir=\"ltr\" lang=\"en\" pre...  2019  before   \n",
       "4  <!DOCTYPE html>\\n<html dir=\"ltr\" lang=\"en\" pre...  2019  before   \n",
       "\n",
       "                                           full_text  \n",
       "0  Amazon Continues Investment in Florida with De...  \n",
       "1  Customers Shopped at Record Levels this Holida...  \n",
       "2  Amazon Has Enabled Hundreds of Small Businesse...  \n",
       "3  Amazon Makes Returns Even Easier This Holiday ...  \n",
       "4  Amazon Helps Keep the Holidays ‘Spoiler Free’ ...  "
      ]
     },
     "execution_count": 60,
     "metadata": {},
     "output_type": "execute_result"
    }
   ],
   "source": [
    "file = [f for f in files if 'amazon' in f]\n",
    "df = pd.read_csv(f'../data/press_releases/{file[0]}')\n",
    "\n",
    "df['full_text'] = df['title'] + df['body']\n",
    "\n",
    "df.head()"
   ]
  },
  {
   "cell_type": "code",
   "execution_count": 52,
   "id": "intermediate-violin",
   "metadata": {
    "ExecuteTime": {
     "end_time": "2021-03-16T22:46:42.655005Z",
     "start_time": "2021-03-16T22:46:42.651503Z"
    }
   },
   "outputs": [],
   "source": [
    "# assign the label\n",
    "\n",
    "df['label'] = df.year.map(lambda x: 'after' if x >= 2020 else 'before')"
   ]
  },
  {
   "cell_type": "code",
   "execution_count": 61,
   "id": "single-barrier",
   "metadata": {
    "ExecuteTime": {
     "end_time": "2021-03-16T22:53:42.694043Z",
     "start_time": "2021-03-16T22:53:41.423051Z"
    }
   },
   "outputs": [],
   "source": [
    "# save it back\n",
    "\n",
    "df.to_csv(f'../data/press_releases/{file[0]}', index = False)"
   ]
  },
  {
   "cell_type": "markdown",
   "id": "hybrid-sterling",
   "metadata": {},
   "source": [
    "## Removing potential leak words"
   ]
  },
  {
   "cell_type": "code",
   "execution_count": 62,
   "id": "behavioral-timing",
   "metadata": {
    "ExecuteTime": {
     "end_time": "2021-03-16T22:54:50.753011Z",
     "start_time": "2021-03-16T22:54:44.604931Z"
    }
   },
   "outputs": [
    {
     "name": "stderr",
     "output_type": "stream",
     "text": [
      "100%|██████████| 5/5 [00:06<00:00,  1.23s/it]\n"
     ]
    }
   ],
   "source": [
    "leak_words = [\n",
    "    '2021', '2020', '2019', 'Covid-19', 'Covid', 'COVID-19', 'COVID',\n",
    "    'Coronavirus', 'coronavirus', 'pandemic', 'Amazon', 'Apple', 'Walmart', \n",
    "    'CVS Health', 'CVS', 'Exxon Mobil', 'Exxon', 'menu','newsroom',\n",
    "    'amazon.com', 'blog', 'press', '\\n', '\\r', '\\t'\n",
    "]\n",
    "\n",
    "for file in tqdm(files):\n",
    "    df = pd.read_csv(f'../data/press_releases/{file}')\n",
    "    \n",
    "    for word in leak_words:\n",
    "        df.full_text = df.full_text.map(lambda x: x.replace(word,''))\n",
    "    \n",
    "    df.to_csv(f'../data/press_releases/{file}', index = False)"
   ]
  }
 ],
 "metadata": {
  "kernelspec": {
   "display_name": "Python 3",
   "language": "python",
   "name": "python3"
  },
  "language_info": {
   "codemirror_mode": {
    "name": "ipython",
    "version": 3
   },
   "file_extension": ".py",
   "mimetype": "text/x-python",
   "name": "python",
   "nbconvert_exporter": "python",
   "pygments_lexer": "ipython3",
   "version": "3.8.5"
  },
  "toc": {
   "base_numbering": 1,
   "nav_menu": {},
   "number_sections": true,
   "sideBar": true,
   "skip_h1_title": false,
   "title_cell": "Table of Contents",
   "title_sidebar": "Contents",
   "toc_cell": false,
   "toc_position": {},
   "toc_section_display": true,
   "toc_window_display": false
  },
  "varInspector": {
   "cols": {
    "lenName": 16,
    "lenType": 16,
    "lenVar": 40
   },
   "kernels_config": {
    "python": {
     "delete_cmd_postfix": "",
     "delete_cmd_prefix": "del ",
     "library": "var_list.py",
     "varRefreshCmd": "print(var_dic_list())"
    },
    "r": {
     "delete_cmd_postfix": ") ",
     "delete_cmd_prefix": "rm(",
     "library": "var_list.r",
     "varRefreshCmd": "cat(var_dic_list()) "
    }
   },
   "types_to_exclude": [
    "module",
    "function",
    "builtin_function_or_method",
    "instance",
    "_Feature"
   ],
   "window_display": false
  }
 },
 "nbformat": 4,
 "nbformat_minor": 5
}
