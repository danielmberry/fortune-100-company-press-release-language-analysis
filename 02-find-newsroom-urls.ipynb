{
 "cells": [
  {
   "cell_type": "markdown",
   "id": "reliable-embassy",
   "metadata": {},
   "source": [
    "# Find the Newsroom URLs\n",
    "\n",
    "After collecting information on the Fortune 100 companies from Fortune's website, the next step in the process is to find the links to the newsrooms for each company. Typically, companies will host links to their press releases on a page typically labeled Newsroom, although sometimes labeled Press room. In some instances, a company won't link to its newsroom on the main website at all, and will instead have a link available on the Corporate page. \n",
    "\n",
    "In order to find the page where each company keeps their press releases, the code below gathers all of the links on the company's website that I collected in the first notebook, and then rates each link based upon their similarity to \"news\", \"press\" and \"corporate\" to help me determine the link's likelihood of being the newsroom link. "
   ]
  },
  {
   "cell_type": "markdown",
   "id": "liberal-compilation",
   "metadata": {},
   "source": [
    "## Imports"
   ]
  },
  {
   "cell_type": "code",
   "execution_count": 1,
   "id": "needed-thursday",
   "metadata": {
    "ExecuteTime": {
     "end_time": "2021-03-15T16:21:56.554290Z",
     "start_time": "2021-03-15T16:21:55.812577Z"
    }
   },
   "outputs": [],
   "source": [
    "import pandas as pd\n",
    "\n",
    "from tqdm import tqdm\n",
    "import time\n",
    "\n",
    "from selenium import webdriver\n",
    "from selenium.webdriver.common.by import By\n",
    "\n",
    "from fuzzywuzzy import fuzz\n",
    "\n",
    "import warnings\n",
    "warnings.filterwarnings('ignore')"
   ]
  },
  {
   "cell_type": "code",
   "execution_count": 2,
   "id": "automatic-attachment",
   "metadata": {
    "ExecuteTime": {
     "end_time": "2021-03-15T16:21:56.575845Z",
     "start_time": "2021-03-15T16:21:56.557158Z"
    },
    "scrolled": true
   },
   "outputs": [
    {
     "data": {
      "text/html": [
       "<div>\n",
       "<style scoped>\n",
       "    .dataframe tbody tr th:only-of-type {\n",
       "        vertical-align: middle;\n",
       "    }\n",
       "\n",
       "    .dataframe tbody tr th {\n",
       "        vertical-align: top;\n",
       "    }\n",
       "\n",
       "    .dataframe thead th {\n",
       "        text-align: right;\n",
       "    }\n",
       "</style>\n",
       "<table border=\"1\" class=\"dataframe\">\n",
       "  <thead>\n",
       "    <tr style=\"text-align: right;\">\n",
       "      <th></th>\n",
       "      <th>company</th>\n",
       "      <th>rank</th>\n",
       "      <th>fortune_link</th>\n",
       "      <th>co_website</th>\n",
       "    </tr>\n",
       "  </thead>\n",
       "  <tbody>\n",
       "    <tr>\n",
       "      <th>0</th>\n",
       "      <td>Walmart</td>\n",
       "      <td>1</td>\n",
       "      <td>https://fortune.com/company/walmart/fortune500/</td>\n",
       "      <td>https://corporate.walmart.com</td>\n",
       "    </tr>\n",
       "    <tr>\n",
       "      <th>1</th>\n",
       "      <td>Amazon</td>\n",
       "      <td>2</td>\n",
       "      <td>https://fortune.com/company/amazon-com/fortune...</td>\n",
       "      <td>https://www.amazon.com/</td>\n",
       "    </tr>\n",
       "    <tr>\n",
       "      <th>2</th>\n",
       "      <td>Exxon Mobil</td>\n",
       "      <td>3</td>\n",
       "      <td>https://fortune.com/company/exxon-mobil/fortun...</td>\n",
       "      <td>https://www.exxonmobil.com/</td>\n",
       "    </tr>\n",
       "    <tr>\n",
       "      <th>3</th>\n",
       "      <td>Apple</td>\n",
       "      <td>4</td>\n",
       "      <td>https://fortune.com/company/apple/fortune500/</td>\n",
       "      <td>https://www.apple.com/</td>\n",
       "    </tr>\n",
       "    <tr>\n",
       "      <th>4</th>\n",
       "      <td>CVS Health</td>\n",
       "      <td>5</td>\n",
       "      <td>https://fortune.com/company/cvs-health/fortune...</td>\n",
       "      <td>https://www.cvshealth.com/</td>\n",
       "    </tr>\n",
       "  </tbody>\n",
       "</table>\n",
       "</div>"
      ],
      "text/plain": [
       "       company  rank                                       fortune_link  \\\n",
       "0      Walmart     1    https://fortune.com/company/walmart/fortune500/   \n",
       "1       Amazon     2  https://fortune.com/company/amazon-com/fortune...   \n",
       "2  Exxon Mobil     3  https://fortune.com/company/exxon-mobil/fortun...   \n",
       "3        Apple     4      https://fortune.com/company/apple/fortune500/   \n",
       "4   CVS Health     5  https://fortune.com/company/cvs-health/fortune...   \n",
       "\n",
       "                      co_website  \n",
       "0  https://corporate.walmart.com  \n",
       "1        https://www.amazon.com/  \n",
       "2    https://www.exxonmobil.com/  \n",
       "3         https://www.apple.com/  \n",
       "4     https://www.cvshealth.com/  "
      ]
     },
     "execution_count": 2,
     "metadata": {},
     "output_type": "execute_result"
    }
   ],
   "source": [
    "# read in the data\n",
    "cos = pd.read_csv('./data/fortune_100_data.csv')\n",
    "cos.head()"
   ]
  },
  {
   "cell_type": "markdown",
   "id": "chief-bibliography",
   "metadata": {},
   "source": [
    "## Finding potential newsrooms from corporate websites"
   ]
  },
  {
   "cell_type": "markdown",
   "id": "behind-frequency",
   "metadata": {},
   "source": [
    "Similar to the situation I found while I was scraping the Fortune website, many companies will use JavaScript on the main pages of their website, which inhibits the use of the `requests` library. To again work around this, I've used `Selenium` in order to gather the links from the company's website.\n",
    "\n",
    "The below code visits each `co_website` link collected in the previous notebook and scrapes the HTML for links. It then assesses each link using `fuzzywuzzy` to determine its similarity to 'news', 'press' and 'corporate' to account for differences in how each company may refer to their newsroom page. It then pulls the link with the largest value into the `cos` DataFrame for each company."
   ]
  },
  {
   "cell_type": "code",
   "execution_count": 3,
   "id": "distant-blame",
   "metadata": {
    "ExecuteTime": {
     "end_time": "2021-03-15T16:34:50.838611Z",
     "start_time": "2021-03-15T16:21:56.577997Z"
    },
    "code_folding": [],
    "scrolled": false
   },
   "outputs": [
    {
     "name": "stderr",
     "output_type": "stream",
     "text": [
      "100%|██████████| 100/100 [12:52<00:00,  7.73s/it]\n"
     ]
    }
   ],
   "source": [
    "# for any companies that simply don't work, catch them in \n",
    "# this list to review later\n",
    "error_cos = []\n",
    "\n",
    "# prepare the options for the chrome driver\n",
    "options = webdriver.ChromeOptions()\n",
    "\n",
    "# making headless so as not to bombard my screen\n",
    "options.add_argument('headless')\n",
    "\n",
    "# getting around website features that stop bots\n",
    "options.add_experimental_option(\"excludeSwitches\", [\"enable-automation\"])\n",
    "options.add_experimental_option('useAutomationExtension', False)\n",
    "\n",
    "# start chrome browser\n",
    "browser = webdriver.Chrome(options=options)\n",
    "\n",
    "# getting around website features that stop bots\n",
    "browser.execute_cdp_cmd(\n",
    "    'Network.setUserAgentOverride', {\n",
    "        \"userAgent\":\n",
    "        'Mozilla/5.0 (Windows NT 10.0; Win64; x64) \\\n",
    "        AppleWebKit/537.36 (KHTML, like Gecko) \\\n",
    "        Chrome/83.0.4103.53 Safari/537.36'\n",
    "    })\n",
    "\n",
    "# iterate through each of the companies in the dataframe\n",
    "# use multiple try/except to be able to continue gathering data\n",
    "# for other websites even if the website doesnt work on the first pass\n",
    "\n",
    "# create different print statements in each of the excepts\n",
    "# to be able to troubleshoot later, if needed\n",
    "\n",
    "for i in tqdm(range(len(cos))):\n",
    "    try:\n",
    "        # get the site url\n",
    "        site_url = cos.loc[i, 'co_website']\n",
    "        # find the base of the url to use later\n",
    "        base = site_url.split('.')[1]\n",
    "\n",
    "        try:\n",
    "            # open the website & sleep to avoid security features\n",
    "            browser.get(f'{site_url}')\n",
    "            time.sleep(2)\n",
    "\n",
    "        except:\n",
    "            print(f'{cos.loc[i, \"company\"]} browser')\n",
    "            print(f'{browser.current_url}, {browser.title}')\n",
    "\n",
    "# get all the links from the main website\n",
    "        links = browser.find_elements(By.TAG_NAME, 'a')\n",
    "\n",
    "        # create list to put all the links from the website into\n",
    "        site_links = []\n",
    "\n",
    "        # iterate through all of the links and add to a dictionary\n",
    "        # that will be added to `site_links`\n",
    "        for l in links:\n",
    "            link_info = {}\n",
    "            url = l.get_attribute('href')\n",
    "\n",
    "            link_info['link'] = url\n",
    "\n",
    "            # use fuzzywuzzy package to assess the similarity of each link to a\n",
    "            # string to find the newsroom, pressroom, and corporate website links\n",
    "            link_info['news_ratio'] = fuzz.partial_ratio('news', url)\n",
    "            link_info['press_ratio'] = fuzz.partial_ratio('press', url)\n",
    "            link_info['corporate_ratio'] = fuzz.partial_ratio('corporate', url)\n",
    "            try:\n",
    "                link_info['url_len'] = len(url)\n",
    "            except:\n",
    "                pass\n",
    "\n",
    "# append link info to the `site_links` list\n",
    "            site_links.append(link_info)\n",
    "\n",
    "# putting the site links into a data frame\n",
    "        site_links_df = pd.DataFrame(site_links).drop_duplicates().dropna()\n",
    "        site_links_df = site_links_df[site_links_df['link'].str.contains(base)]\n",
    "\n",
    "        # getting dataframes for each of the series of links and resetting at\n",
    "        # the top of each loop to avoid links from one website being put into\n",
    "        # another company's row\n",
    "        try:\n",
    "            news_link_df = None\n",
    "            news_link_df = site_links_df[\n",
    "                site_links_df['news_ratio'] >\n",
    "                site_links_df['news_ratio'].mean()].sort_values(\n",
    "                    'news_ratio', ascending=False).reset_index(drop=True)\n",
    "        except:\n",
    "            print(f'{cos.loc[i, \"company\"]} news_link_df')\n",
    "        try:\n",
    "            press_link_df = None\n",
    "            press_link_df = site_links_df[\n",
    "                site_links_df['press_ratio'] >\n",
    "                site_links_df['press_ratio'].mean()].sort_values(\n",
    "                    'press_ratio', ascending=False).reset_index(drop=True)\n",
    "        except:\n",
    "            print(f'{cos.loc[i, \"company\"]} press_link_df')\n",
    "\n",
    "        try:\n",
    "            corp_link_df = None\n",
    "            corp_link_df = site_links_df[\n",
    "                site_links_df['corporate_ratio'] >\n",
    "                site_links_df['corporate_ratio'].mean()].sort_values(\n",
    "                    'corporate_ratio', ascending=False).reset_index(drop=True)\n",
    "        except:\n",
    "            print(f'{cos.loc[i, \"company\"]} corp_link_df')\n",
    "\n",
    "# pulling the top links into cos\n",
    "        try:\n",
    "            cos.loc[i, 'newsroom_link'] = news_link_df.loc[0, 'link']\n",
    "        except:\n",
    "            cos.loc[i, 'newsroom_link'] = 'N/A'\n",
    "\n",
    "        try:\n",
    "            cos.loc[i, 'pressroom_link'] = press_link_df.loc[0, 'link']\n",
    "        except:\n",
    "            cos.loc[i, 'pressroom_link'] = 'N/A'\n",
    "\n",
    "        try:\n",
    "            cos.loc[i, 'corporate_link'] = corp_link_df.loc[0, 'link']\n",
    "        except:\n",
    "            cos.loc[i, 'corporate_link'] = 'N/A'\n",
    "\n",
    "    except:\n",
    "        error_cos.append(cos.loc[i, \"company\"])\n",
    "        print(f'{cos.loc[i, \"company\"]}')\n",
    "        print(f'{browser.current_url}, {browser.title}')"
   ]
  },
  {
   "cell_type": "code",
   "execution_count": 4,
   "id": "stretch-glenn",
   "metadata": {
    "ExecuteTime": {
     "end_time": "2021-03-15T16:34:50.850322Z",
     "start_time": "2021-03-15T16:34:50.840735Z"
    }
   },
   "outputs": [
    {
     "data": {
      "text/html": [
       "<div>\n",
       "<style scoped>\n",
       "    .dataframe tbody tr th:only-of-type {\n",
       "        vertical-align: middle;\n",
       "    }\n",
       "\n",
       "    .dataframe tbody tr th {\n",
       "        vertical-align: top;\n",
       "    }\n",
       "\n",
       "    .dataframe thead th {\n",
       "        text-align: right;\n",
       "    }\n",
       "</style>\n",
       "<table border=\"1\" class=\"dataframe\">\n",
       "  <thead>\n",
       "    <tr style=\"text-align: right;\">\n",
       "      <th></th>\n",
       "      <th>company</th>\n",
       "      <th>rank</th>\n",
       "      <th>fortune_link</th>\n",
       "      <th>co_website</th>\n",
       "      <th>newsroom_link</th>\n",
       "      <th>pressroom_link</th>\n",
       "      <th>corporate_link</th>\n",
       "    </tr>\n",
       "  </thead>\n",
       "  <tbody>\n",
       "    <tr>\n",
       "      <th>0</th>\n",
       "      <td>Walmart</td>\n",
       "      <td>1</td>\n",
       "      <td>https://fortune.com/company/walmart/fortune500/</td>\n",
       "      <td>https://corporate.walmart.com</td>\n",
       "      <td>https://corporate.walmart.com/newsroom/2021/03...</td>\n",
       "      <td>https://www.diabetes.org/newsroom/press-releas...</td>\n",
       "      <td>https://corporate.walmart.com/#</td>\n",
       "    </tr>\n",
       "    <tr>\n",
       "      <th>1</th>\n",
       "      <td>Amazon</td>\n",
       "      <td>2</td>\n",
       "      <td>https://fortune.com/company/amazon-com/fortune...</td>\n",
       "      <td>https://www.amazon.com/</td>\n",
       "      <td>https://www.amazon.com/gp/customer-preferences...</td>\n",
       "      <td>https://www.amazon.com/ref=nav_logo_prime</td>\n",
       "      <td>https://www.amazon.com/Stonebriar-Decorative-S...</td>\n",
       "    </tr>\n",
       "    <tr>\n",
       "      <th>2</th>\n",
       "      <td>Exxon Mobil</td>\n",
       "      <td>3</td>\n",
       "      <td>https://fortune.com/company/exxon-mobil/fortun...</td>\n",
       "      <td>https://www.exxonmobil.com/</td>\n",
       "      <td>https://corporate.exxonmobil.com/About-us/Busi...</td>\n",
       "      <td>https://corporate.exxonmobil.com/News/Newsroom...</td>\n",
       "      <td>https://corporate.exxonmobil.com/#main-content</td>\n",
       "    </tr>\n",
       "    <tr>\n",
       "      <th>3</th>\n",
       "      <td>Apple</td>\n",
       "      <td>4</td>\n",
       "      <td>https://fortune.com/company/apple/fortune500/</td>\n",
       "      <td>https://www.apple.com/</td>\n",
       "      <td>https://www.apple.com/apple-news/</td>\n",
       "      <td>https://www.apple.com/us/shop/goto/temporary_c...</td>\n",
       "      <td>https://www.apple.com/us/shop/goto/trade_in</td>\n",
       "    </tr>\n",
       "    <tr>\n",
       "      <th>4</th>\n",
       "      <td>CVS Health</td>\n",
       "      <td>5</td>\n",
       "      <td>https://fortune.com/company/cvs-health/fortune...</td>\n",
       "      <td>https://www.cvshealth.com/</td>\n",
       "      <td>https://www.cvshealth.com/news-and-insights/to...</td>\n",
       "      <td>https://www.cvshealth.com/news-and-insights/pr...</td>\n",
       "      <td>https://www.cvshealth.com/social-responsibilit...</td>\n",
       "    </tr>\n",
       "  </tbody>\n",
       "</table>\n",
       "</div>"
      ],
      "text/plain": [
       "       company  rank                                       fortune_link  \\\n",
       "0      Walmart     1    https://fortune.com/company/walmart/fortune500/   \n",
       "1       Amazon     2  https://fortune.com/company/amazon-com/fortune...   \n",
       "2  Exxon Mobil     3  https://fortune.com/company/exxon-mobil/fortun...   \n",
       "3        Apple     4      https://fortune.com/company/apple/fortune500/   \n",
       "4   CVS Health     5  https://fortune.com/company/cvs-health/fortune...   \n",
       "\n",
       "                      co_website  \\\n",
       "0  https://corporate.walmart.com   \n",
       "1        https://www.amazon.com/   \n",
       "2    https://www.exxonmobil.com/   \n",
       "3         https://www.apple.com/   \n",
       "4     https://www.cvshealth.com/   \n",
       "\n",
       "                                       newsroom_link  \\\n",
       "0  https://corporate.walmart.com/newsroom/2021/03...   \n",
       "1  https://www.amazon.com/gp/customer-preferences...   \n",
       "2  https://corporate.exxonmobil.com/About-us/Busi...   \n",
       "3                  https://www.apple.com/apple-news/   \n",
       "4  https://www.cvshealth.com/news-and-insights/to...   \n",
       "\n",
       "                                      pressroom_link  \\\n",
       "0  https://www.diabetes.org/newsroom/press-releas...   \n",
       "1          https://www.amazon.com/ref=nav_logo_prime   \n",
       "2  https://corporate.exxonmobil.com/News/Newsroom...   \n",
       "3  https://www.apple.com/us/shop/goto/temporary_c...   \n",
       "4  https://www.cvshealth.com/news-and-insights/pr...   \n",
       "\n",
       "                                      corporate_link  \n",
       "0                    https://corporate.walmart.com/#  \n",
       "1  https://www.amazon.com/Stonebriar-Decorative-S...  \n",
       "2     https://corporate.exxonmobil.com/#main-content  \n",
       "3        https://www.apple.com/us/shop/goto/trade_in  \n",
       "4  https://www.cvshealth.com/social-responsibilit...  "
      ]
     },
     "execution_count": 4,
     "metadata": {},
     "output_type": "execute_result"
    }
   ],
   "source": [
    "cos.head()"
   ]
  },
  {
   "cell_type": "markdown",
   "id": "right-flashing",
   "metadata": {},
   "source": [
    "## Finding the official newsroom link"
   ]
  },
  {
   "cell_type": "markdown",
   "id": "proud-prototype",
   "metadata": {},
   "source": [
    "After collecting the links for each company that was most similar to 'news', 'press' and 'corporate', I went through and manually investigated whether or not the link was accurate, and saved the information into `final_websites.csv`. While the newsroom links are ultimately not the final links I will use in the function that gathers all of the information, these links were useful in helping me determine what those links would be.\n",
    "\n",
    "Although doing this manually would not be feasible for larger datasets, in this case it was the best option to make sure I had all of the correct links."
   ]
  },
  {
   "cell_type": "code",
   "execution_count": 5,
   "id": "touched-playback",
   "metadata": {
    "ExecuteTime": {
     "end_time": "2021-03-15T16:34:50.860763Z",
     "start_time": "2021-03-15T16:34:50.852184Z"
    }
   },
   "outputs": [
    {
     "data": {
      "text/html": [
       "<div>\n",
       "<style scoped>\n",
       "    .dataframe tbody tr th:only-of-type {\n",
       "        vertical-align: middle;\n",
       "    }\n",
       "\n",
       "    .dataframe tbody tr th {\n",
       "        vertical-align: top;\n",
       "    }\n",
       "\n",
       "    .dataframe thead th {\n",
       "        text-align: right;\n",
       "    }\n",
       "</style>\n",
       "<table border=\"1\" class=\"dataframe\">\n",
       "  <thead>\n",
       "    <tr style=\"text-align: right;\">\n",
       "      <th></th>\n",
       "      <th>company</th>\n",
       "      <th>final</th>\n",
       "    </tr>\n",
       "  </thead>\n",
       "  <tbody>\n",
       "    <tr>\n",
       "      <th>0</th>\n",
       "      <td>Walmart</td>\n",
       "      <td>https://corporate.walmart.com/newsroom/company...</td>\n",
       "    </tr>\n",
       "    <tr>\n",
       "      <th>1</th>\n",
       "      <td>Amazon</td>\n",
       "      <td>https://press.aboutamazon.com/press-releases</td>\n",
       "    </tr>\n",
       "    <tr>\n",
       "      <th>2</th>\n",
       "      <td>Exxon Mobil</td>\n",
       "      <td>https://corporate.exxonmobil.com/News/Newsroom...</td>\n",
       "    </tr>\n",
       "    <tr>\n",
       "      <th>3</th>\n",
       "      <td>Apple</td>\n",
       "      <td>https://www.apple.com/newsroom/archive/</td>\n",
       "    </tr>\n",
       "    <tr>\n",
       "      <th>4</th>\n",
       "      <td>CVS Health</td>\n",
       "      <td>https://www.cvshealth.com/news-and-insights/pr...</td>\n",
       "    </tr>\n",
       "  </tbody>\n",
       "</table>\n",
       "</div>"
      ],
      "text/plain": [
       "       company                                              final\n",
       "0      Walmart  https://corporate.walmart.com/newsroom/company...\n",
       "1       Amazon       https://press.aboutamazon.com/press-releases\n",
       "2  Exxon Mobil  https://corporate.exxonmobil.com/News/Newsroom...\n",
       "3        Apple            https://www.apple.com/newsroom/archive/\n",
       "4   CVS Health  https://www.cvshealth.com/news-and-insights/pr..."
      ]
     },
     "execution_count": 5,
     "metadata": {},
     "output_type": "execute_result"
    }
   ],
   "source": [
    "# read in the final_websites csv\n",
    "final_websites = pd.read_csv('./data/final_websites.csv')\n",
    "final_websites.head()"
   ]
  },
  {
   "cell_type": "code",
   "execution_count": 6,
   "id": "interested-departure",
   "metadata": {
    "ExecuteTime": {
     "end_time": "2021-03-15T16:34:50.875128Z",
     "start_time": "2021-03-15T16:34:50.862122Z"
    }
   },
   "outputs": [
    {
     "data": {
      "text/html": [
       "<div>\n",
       "<style scoped>\n",
       "    .dataframe tbody tr th:only-of-type {\n",
       "        vertical-align: middle;\n",
       "    }\n",
       "\n",
       "    .dataframe tbody tr th {\n",
       "        vertical-align: top;\n",
       "    }\n",
       "\n",
       "    .dataframe thead th {\n",
       "        text-align: right;\n",
       "    }\n",
       "</style>\n",
       "<table border=\"1\" class=\"dataframe\">\n",
       "  <thead>\n",
       "    <tr style=\"text-align: right;\">\n",
       "      <th></th>\n",
       "      <th>company</th>\n",
       "      <th>rank</th>\n",
       "      <th>fortune_link</th>\n",
       "      <th>co_website</th>\n",
       "      <th>newsroom_link</th>\n",
       "      <th>pressroom_link</th>\n",
       "      <th>corporate_link</th>\n",
       "      <th>final</th>\n",
       "    </tr>\n",
       "  </thead>\n",
       "  <tbody>\n",
       "    <tr>\n",
       "      <th>0</th>\n",
       "      <td>Walmart</td>\n",
       "      <td>1</td>\n",
       "      <td>https://fortune.com/company/walmart/fortune500/</td>\n",
       "      <td>https://corporate.walmart.com</td>\n",
       "      <td>https://corporate.walmart.com/newsroom/2021/03...</td>\n",
       "      <td>https://www.diabetes.org/newsroom/press-releas...</td>\n",
       "      <td>https://corporate.walmart.com/#</td>\n",
       "      <td>https://corporate.walmart.com/newsroom/company...</td>\n",
       "    </tr>\n",
       "    <tr>\n",
       "      <th>1</th>\n",
       "      <td>Amazon</td>\n",
       "      <td>2</td>\n",
       "      <td>https://fortune.com/company/amazon-com/fortune...</td>\n",
       "      <td>https://www.amazon.com/</td>\n",
       "      <td>https://www.amazon.com/gp/customer-preferences...</td>\n",
       "      <td>https://www.amazon.com/ref=nav_logo_prime</td>\n",
       "      <td>https://www.amazon.com/Stonebriar-Decorative-S...</td>\n",
       "      <td>https://press.aboutamazon.com/press-releases</td>\n",
       "    </tr>\n",
       "    <tr>\n",
       "      <th>2</th>\n",
       "      <td>Exxon Mobil</td>\n",
       "      <td>3</td>\n",
       "      <td>https://fortune.com/company/exxon-mobil/fortun...</td>\n",
       "      <td>https://www.exxonmobil.com/</td>\n",
       "      <td>https://corporate.exxonmobil.com/About-us/Busi...</td>\n",
       "      <td>https://corporate.exxonmobil.com/News/Newsroom...</td>\n",
       "      <td>https://corporate.exxonmobil.com/#main-content</td>\n",
       "      <td>https://corporate.exxonmobil.com/News/Newsroom...</td>\n",
       "    </tr>\n",
       "    <tr>\n",
       "      <th>3</th>\n",
       "      <td>Apple</td>\n",
       "      <td>4</td>\n",
       "      <td>https://fortune.com/company/apple/fortune500/</td>\n",
       "      <td>https://www.apple.com/</td>\n",
       "      <td>https://www.apple.com/apple-news/</td>\n",
       "      <td>https://www.apple.com/us/shop/goto/temporary_c...</td>\n",
       "      <td>https://www.apple.com/us/shop/goto/trade_in</td>\n",
       "      <td>https://www.apple.com/newsroom/archive/</td>\n",
       "    </tr>\n",
       "    <tr>\n",
       "      <th>4</th>\n",
       "      <td>CVS Health</td>\n",
       "      <td>5</td>\n",
       "      <td>https://fortune.com/company/cvs-health/fortune...</td>\n",
       "      <td>https://www.cvshealth.com/</td>\n",
       "      <td>https://www.cvshealth.com/news-and-insights/to...</td>\n",
       "      <td>https://www.cvshealth.com/news-and-insights/pr...</td>\n",
       "      <td>https://www.cvshealth.com/social-responsibilit...</td>\n",
       "      <td>https://www.cvshealth.com/news-and-insights/pr...</td>\n",
       "    </tr>\n",
       "  </tbody>\n",
       "</table>\n",
       "</div>"
      ],
      "text/plain": [
       "       company  rank                                       fortune_link  \\\n",
       "0      Walmart     1    https://fortune.com/company/walmart/fortune500/   \n",
       "1       Amazon     2  https://fortune.com/company/amazon-com/fortune...   \n",
       "2  Exxon Mobil     3  https://fortune.com/company/exxon-mobil/fortun...   \n",
       "3        Apple     4      https://fortune.com/company/apple/fortune500/   \n",
       "4   CVS Health     5  https://fortune.com/company/cvs-health/fortune...   \n",
       "\n",
       "                      co_website  \\\n",
       "0  https://corporate.walmart.com   \n",
       "1        https://www.amazon.com/   \n",
       "2    https://www.exxonmobil.com/   \n",
       "3         https://www.apple.com/   \n",
       "4     https://www.cvshealth.com/   \n",
       "\n",
       "                                       newsroom_link  \\\n",
       "0  https://corporate.walmart.com/newsroom/2021/03...   \n",
       "1  https://www.amazon.com/gp/customer-preferences...   \n",
       "2  https://corporate.exxonmobil.com/About-us/Busi...   \n",
       "3                  https://www.apple.com/apple-news/   \n",
       "4  https://www.cvshealth.com/news-and-insights/to...   \n",
       "\n",
       "                                      pressroom_link  \\\n",
       "0  https://www.diabetes.org/newsroom/press-releas...   \n",
       "1          https://www.amazon.com/ref=nav_logo_prime   \n",
       "2  https://corporate.exxonmobil.com/News/Newsroom...   \n",
       "3  https://www.apple.com/us/shop/goto/temporary_c...   \n",
       "4  https://www.cvshealth.com/news-and-insights/pr...   \n",
       "\n",
       "                                      corporate_link  \\\n",
       "0                    https://corporate.walmart.com/#   \n",
       "1  https://www.amazon.com/Stonebriar-Decorative-S...   \n",
       "2     https://corporate.exxonmobil.com/#main-content   \n",
       "3        https://www.apple.com/us/shop/goto/trade_in   \n",
       "4  https://www.cvshealth.com/social-responsibilit...   \n",
       "\n",
       "                                               final  \n",
       "0  https://corporate.walmart.com/newsroom/company...  \n",
       "1       https://press.aboutamazon.com/press-releases  \n",
       "2  https://corporate.exxonmobil.com/News/Newsroom...  \n",
       "3            https://www.apple.com/newsroom/archive/  \n",
       "4  https://www.cvshealth.com/news-and-insights/pr...  "
      ]
     },
     "execution_count": 6,
     "metadata": {},
     "output_type": "execute_result"
    }
   ],
   "source": [
    "cos = cos.merge(final_websites, on='company')\n",
    "cos.head()"
   ]
  },
  {
   "cell_type": "code",
   "execution_count": 7,
   "id": "charitable-washer",
   "metadata": {
    "ExecuteTime": {
     "end_time": "2021-03-15T16:34:50.882069Z",
     "start_time": "2021-03-15T16:34:50.878519Z"
    }
   },
   "outputs": [
    {
     "data": {
      "text/plain": [
       "0"
      ]
     },
     "execution_count": 7,
     "metadata": {},
     "output_type": "execute_result"
    }
   ],
   "source": [
    "# confirming there are no null values\n",
    "cos['final'].isna().sum()"
   ]
  },
  {
   "cell_type": "code",
   "execution_count": 8,
   "id": "severe-symbol",
   "metadata": {
    "ExecuteTime": {
     "end_time": "2021-03-15T16:34:50.893191Z",
     "start_time": "2021-03-15T16:34:50.885029Z"
    }
   },
   "outputs": [],
   "source": [
    "# saving dataframe to a new csv\n",
    "\n",
    "cos.to_csv('./data/fortune_100_data_w_links.csv', index = False)"
   ]
  }
 ],
 "metadata": {
  "kernelspec": {
   "display_name": "Python 3",
   "language": "python",
   "name": "python3"
  },
  "language_info": {
   "codemirror_mode": {
    "name": "ipython",
    "version": 3
   },
   "file_extension": ".py",
   "mimetype": "text/x-python",
   "name": "python",
   "nbconvert_exporter": "python",
   "pygments_lexer": "ipython3",
   "version": "3.8.5"
  },
  "toc": {
   "base_numbering": 1,
   "nav_menu": {},
   "number_sections": true,
   "sideBar": true,
   "skip_h1_title": false,
   "title_cell": "Table of Contents",
   "title_sidebar": "Contents",
   "toc_cell": false,
   "toc_position": {},
   "toc_section_display": true,
   "toc_window_display": false
  },
  "varInspector": {
   "cols": {
    "lenName": 16,
    "lenType": 16,
    "lenVar": 40
   },
   "kernels_config": {
    "python": {
     "delete_cmd_postfix": "",
     "delete_cmd_prefix": "del ",
     "library": "var_list.py",
     "varRefreshCmd": "print(var_dic_list())"
    },
    "r": {
     "delete_cmd_postfix": ") ",
     "delete_cmd_prefix": "rm(",
     "library": "var_list.r",
     "varRefreshCmd": "cat(var_dic_list()) "
    }
   },
   "types_to_exclude": [
    "module",
    "function",
    "builtin_function_or_method",
    "instance",
    "_Feature"
   ],
   "window_display": false
  }
 },
 "nbformat": 4,
 "nbformat_minor": 5
}
