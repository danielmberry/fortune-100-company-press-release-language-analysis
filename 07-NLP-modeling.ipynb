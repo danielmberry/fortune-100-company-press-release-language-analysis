{
 "cells": [
  {
   "cell_type": "markdown",
   "id": "instructional-airport",
   "metadata": {},
   "source": [
    "## Imports"
   ]
  },
  {
   "cell_type": "code",
   "execution_count": 1,
   "id": "contrary-reaction",
   "metadata": {
    "ExecuteTime": {
     "end_time": "2021-03-12T01:48:22.483532Z",
     "start_time": "2021-03-12T01:48:19.455179Z"
    }
   },
   "outputs": [
    {
     "name": "stderr",
     "output_type": "stream",
     "text": [
      "/Users/danielberry/opt/anaconda3/lib/python3.8/site-packages/sklearn/utils/deprecation.py:143: FutureWarning: The sklearn.feature_extraction.stop_words module is  deprecated in version 0.22 and will be removed in version 0.24. The corresponding classes / functions should instead be imported from sklearn.feature_extraction.text. Anything that cannot be imported from sklearn.feature_extraction.text is now part of the private API.\n",
      "  warnings.warn(message, FutureWarning)\n"
     ]
    }
   ],
   "source": [
    "import pandas as pd\n",
    "import numpy as np\n",
    "import matplotlib.pyplot as plt\n",
    "import seaborn as sns\n",
    "\n",
    "import datetime as dt\n",
    "\n",
    "from bs4 import BeautifulSoup\n",
    "\n",
    "import os\n",
    "import re\n",
    "\n",
    "from sklearn.feature_extraction.text import TfidfVectorizer\n",
    "\n",
    "from sklearn.feature_extraction import stop_words\n",
    "from nltk.stem import PorterStemmer, WordNetLemmatizer\n",
    "from nltk.corpus import stopwords\n",
    "from nltk.tokenize import word_tokenize\n",
    "import spacy\n",
    "from spacy.lang.en.stop_words import STOP_WORDS\n",
    "from spacy.lang.en import English\n",
    "\n",
    "import string\n",
    "\n",
    "from sklearn.model_selection import train_test_split\n",
    "\n",
    "from sklearn.base import TransformerMixin\n",
    "from sklearn.pipeline import Pipeline\n",
    "\n",
    "from sklearn.linear_model import LogisticRegression\n",
    "\n",
    "from sklearn.neighbors import KNeighborsClassifier"
   ]
  },
  {
   "cell_type": "code",
   "execution_count": 2,
   "id": "twelve-success",
   "metadata": {
    "ExecuteTime": {
     "end_time": "2021-03-12T01:48:22.492100Z",
     "start_time": "2021-03-12T01:48:22.485905Z"
    }
   },
   "outputs": [],
   "source": [
    "files = [f for f in os.listdir('./press_releases/') if 'csv' in f]"
   ]
  },
  {
   "cell_type": "code",
   "execution_count": 3,
   "id": "overall-police",
   "metadata": {
    "ExecuteTime": {
     "end_time": "2021-03-12T01:48:24.348482Z",
     "start_time": "2021-03-12T01:48:22.494659Z"
    },
    "code_folding": []
   },
   "outputs": [
    {
     "data": {
      "text/html": [
       "<div>\n",
       "<style scoped>\n",
       "    .dataframe tbody tr th:only-of-type {\n",
       "        vertical-align: middle;\n",
       "    }\n",
       "\n",
       "    .dataframe tbody tr th {\n",
       "        vertical-align: top;\n",
       "    }\n",
       "\n",
       "    .dataframe thead th {\n",
       "        text-align: right;\n",
       "    }\n",
       "</style>\n",
       "<table border=\"1\" class=\"dataframe\">\n",
       "  <thead>\n",
       "    <tr style=\"text-align: right;\">\n",
       "      <th></th>\n",
       "      <th>full_link</th>\n",
       "      <th>time</th>\n",
       "      <th>title</th>\n",
       "      <th>body</th>\n",
       "      <th>html</th>\n",
       "      <th>full_text</th>\n",
       "      <th>year</th>\n",
       "      <th>label</th>\n",
       "    </tr>\n",
       "  </thead>\n",
       "  <tbody>\n",
       "    <tr>\n",
       "      <th>0</th>\n",
       "      <td>https://www.apple.com/newsroom/2021/03/apple-w...</td>\n",
       "      <td>2021-03-01</td>\n",
       "      <td>Apple Women’s Health Study releases preliminar...</td>\n",
       "      <td>\\n\\n\\n\\n\\n\\n\\n\\n\\n\\n\\n\\n\\n\\n\\n\\n\\n\\n\\nGlobal N...</td>\n",
       "      <td>&lt;!DOCTYPE html&gt;\\n&lt;html class=\"no-js\" dir=\"ltr\"...</td>\n",
       "      <td>Apple Women’s Health Study releases preliminar...</td>\n",
       "      <td>2021.0</td>\n",
       "      <td>after</td>\n",
       "    </tr>\n",
       "    <tr>\n",
       "      <th>1</th>\n",
       "      <td>https://www.apple.com/newsroom/2021/03/apple-t...</td>\n",
       "      <td>2021-03-01</td>\n",
       "      <td>Apple TV+ announces programming partnership wi...</td>\n",
       "      <td>\\n\\n\\n\\n\\n\\n\\n\\n\\n\\n\\n\\n\\n\\n\\n\\n\\n\\n\\nGlobal N...</td>\n",
       "      <td>&lt;!DOCTYPE html&gt;\\n&lt;html class=\"no-js\" dir=\"ltr\"...</td>\n",
       "      <td>Apple TV+ announces programming partnership wi...</td>\n",
       "      <td>2021.0</td>\n",
       "      <td>after</td>\n",
       "    </tr>\n",
       "    <tr>\n",
       "      <th>2</th>\n",
       "      <td>https://www.apple.com/newsroom/2021/03/apple-h...</td>\n",
       "      <td>2021-03-01</td>\n",
       "      <td>Apple Hearing Study shares new insights on hea...</td>\n",
       "      <td>\\n\\n\\n\\n\\n\\n\\n\\n\\n\\n\\n\\n\\n\\n\\n\\n\\n\\n\\nGlobal N...</td>\n",
       "      <td>&lt;!DOCTYPE html&gt;\\n&lt;html class=\"no-js\" dir=\"ltr\"...</td>\n",
       "      <td>Apple Hearing Study shares new insights on hea...</td>\n",
       "      <td>2021.0</td>\n",
       "      <td>after</td>\n",
       "    </tr>\n",
       "    <tr>\n",
       "      <th>3</th>\n",
       "      <td>https://www.apple.com/newsroom/2021/03/new-zea...</td>\n",
       "      <td>2021-03-01</td>\n",
       "      <td>New Zealand students prototype their own Samoa...</td>\n",
       "      <td>\\n\\n\\n\\n\\n\\n\\n\\n\\n\\n\\n\\n\\n\\n\\n\\n\\n\\n\\nGlobal N...</td>\n",
       "      <td>&lt;!DOCTYPE html&gt;\\n&lt;html class=\"no-js\" dir=\"ltr\"...</td>\n",
       "      <td>New Zealand students prototype their own Samoa...</td>\n",
       "      <td>2021.0</td>\n",
       "      <td>after</td>\n",
       "    </tr>\n",
       "    <tr>\n",
       "      <th>4</th>\n",
       "      <td>https://www.apple.com/newsroom/2021/02/apple-c...</td>\n",
       "      <td>2021-02-01</td>\n",
       "      <td>Apple celebrates Women’s History Month and Int...</td>\n",
       "      <td>\\n\\n\\n\\n\\n\\n\\n\\n\\n\\n\\n\\n\\n\\n\\n\\n\\n\\n\\nGlobal N...</td>\n",
       "      <td>&lt;!DOCTYPE html&gt;\\n&lt;html class=\"no-js\" dir=\"ltr\"...</td>\n",
       "      <td>Apple celebrates Women’s History Month and Int...</td>\n",
       "      <td>2021.0</td>\n",
       "      <td>after</td>\n",
       "    </tr>\n",
       "    <tr>\n",
       "      <th>...</th>\n",
       "      <td>...</td>\n",
       "      <td>...</td>\n",
       "      <td>...</td>\n",
       "      <td>...</td>\n",
       "      <td>...</td>\n",
       "      <td>...</td>\n",
       "      <td>...</td>\n",
       "      <td>...</td>\n",
       "    </tr>\n",
       "    <tr>\n",
       "      <th>1564</th>\n",
       "      <td>https://press.aboutamazon.com/news-releases/ne...</td>\n",
       "      <td>2021-01-19 00:00:00</td>\n",
       "      <td>Amazon.com to Webcast Fourth Quarter 2020 Fina...</td>\n",
       "      <td>\\n\\n\\n\\n\\n\\n\\n\\n        Skip to main navigatio...</td>\n",
       "      <td>&lt;!DOCTYPE html&gt;\\n&lt;html dir=\"ltr\" lang=\"en\" pre...</td>\n",
       "      <td>Amazon.com to Webcast Fourth Quarter 2020 Fina...</td>\n",
       "      <td>2021.0</td>\n",
       "      <td>after</td>\n",
       "    </tr>\n",
       "    <tr>\n",
       "      <th>1565</th>\n",
       "      <td>https://press.aboutamazon.com/news-releases/ne...</td>\n",
       "      <td>2021-01-19 00:00:00</td>\n",
       "      <td>Amazon Teams Up with Pharrell Williams’ YELLOW...</td>\n",
       "      <td>\\n\\n\\n\\n\\n\\n\\n\\n        Skip to main navigatio...</td>\n",
       "      <td>&lt;!DOCTYPE html&gt;\\n&lt;html dir=\"ltr\" lang=\"en\" pre...</td>\n",
       "      <td>Amazon Teams Up with Pharrell Williams’ YELLOW...</td>\n",
       "      <td>2021.0</td>\n",
       "      <td>after</td>\n",
       "    </tr>\n",
       "    <tr>\n",
       "      <th>1566</th>\n",
       "      <td>https://press.aboutamazon.com/news-releases/ne...</td>\n",
       "      <td>2021-01-11 00:00:00</td>\n",
       "      <td>Amazon Expands Investment in Metro Detroit, Cr...</td>\n",
       "      <td>\\n\\n\\n\\n\\n\\n\\n\\n        Skip to main navigatio...</td>\n",
       "      <td>&lt;!DOCTYPE html&gt;\\n&lt;html dir=\"ltr\" lang=\"en\" pre...</td>\n",
       "      <td>Amazon Expands Investment in Metro Detroit, Cr...</td>\n",
       "      <td>2021.0</td>\n",
       "      <td>after</td>\n",
       "    </tr>\n",
       "    <tr>\n",
       "      <th>1567</th>\n",
       "      <td>https://press.aboutamazon.com/news-releases/ne...</td>\n",
       "      <td>2021-01-06 00:00:00</td>\n",
       "      <td>Amazon Launches $2 Billion Housing Equity Fund...</td>\n",
       "      <td>\\n\\n\\n\\n\\n\\n\\n\\n        Skip to main navigatio...</td>\n",
       "      <td>&lt;!DOCTYPE html&gt;\\n&lt;html dir=\"ltr\" lang=\"en\" pre...</td>\n",
       "      <td>Amazon Launches $2 Billion Housing Equity Fund...</td>\n",
       "      <td>2021.0</td>\n",
       "      <td>after</td>\n",
       "    </tr>\n",
       "    <tr>\n",
       "      <th>1568</th>\n",
       "      <td>https://press.aboutamazon.com/news-releases/ne...</td>\n",
       "      <td>2021-01-05 00:00:00</td>\n",
       "      <td>Amazon Continues to Expand Its Transportation ...</td>\n",
       "      <td>\\n\\n\\n\\n\\n\\n\\n\\n        Skip to main navigatio...</td>\n",
       "      <td>&lt;!DOCTYPE html&gt;\\n&lt;html dir=\"ltr\" lang=\"en\" pre...</td>\n",
       "      <td>Amazon Continues to Expand Its Transportation ...</td>\n",
       "      <td>2021.0</td>\n",
       "      <td>after</td>\n",
       "    </tr>\n",
       "  </tbody>\n",
       "</table>\n",
       "<p>1569 rows × 8 columns</p>\n",
       "</div>"
      ],
      "text/plain": [
       "                                              full_link                 time  \\\n",
       "0     https://www.apple.com/newsroom/2021/03/apple-w...           2021-03-01   \n",
       "1     https://www.apple.com/newsroom/2021/03/apple-t...           2021-03-01   \n",
       "2     https://www.apple.com/newsroom/2021/03/apple-h...           2021-03-01   \n",
       "3     https://www.apple.com/newsroom/2021/03/new-zea...           2021-03-01   \n",
       "4     https://www.apple.com/newsroom/2021/02/apple-c...           2021-02-01   \n",
       "...                                                 ...                  ...   \n",
       "1564  https://press.aboutamazon.com/news-releases/ne...  2021-01-19 00:00:00   \n",
       "1565  https://press.aboutamazon.com/news-releases/ne...  2021-01-19 00:00:00   \n",
       "1566  https://press.aboutamazon.com/news-releases/ne...  2021-01-11 00:00:00   \n",
       "1567  https://press.aboutamazon.com/news-releases/ne...  2021-01-06 00:00:00   \n",
       "1568  https://press.aboutamazon.com/news-releases/ne...  2021-01-05 00:00:00   \n",
       "\n",
       "                                                  title  \\\n",
       "0     Apple Women’s Health Study releases preliminar...   \n",
       "1     Apple TV+ announces programming partnership wi...   \n",
       "2     Apple Hearing Study shares new insights on hea...   \n",
       "3     New Zealand students prototype their own Samoa...   \n",
       "4     Apple celebrates Women’s History Month and Int...   \n",
       "...                                                 ...   \n",
       "1564  Amazon.com to Webcast Fourth Quarter 2020 Fina...   \n",
       "1565  Amazon Teams Up with Pharrell Williams’ YELLOW...   \n",
       "1566  Amazon Expands Investment in Metro Detroit, Cr...   \n",
       "1567  Amazon Launches $2 Billion Housing Equity Fund...   \n",
       "1568  Amazon Continues to Expand Its Transportation ...   \n",
       "\n",
       "                                                   body  \\\n",
       "0     \\n\\n\\n\\n\\n\\n\\n\\n\\n\\n\\n\\n\\n\\n\\n\\n\\n\\n\\nGlobal N...   \n",
       "1     \\n\\n\\n\\n\\n\\n\\n\\n\\n\\n\\n\\n\\n\\n\\n\\n\\n\\n\\nGlobal N...   \n",
       "2     \\n\\n\\n\\n\\n\\n\\n\\n\\n\\n\\n\\n\\n\\n\\n\\n\\n\\n\\nGlobal N...   \n",
       "3     \\n\\n\\n\\n\\n\\n\\n\\n\\n\\n\\n\\n\\n\\n\\n\\n\\n\\n\\nGlobal N...   \n",
       "4     \\n\\n\\n\\n\\n\\n\\n\\n\\n\\n\\n\\n\\n\\n\\n\\n\\n\\n\\nGlobal N...   \n",
       "...                                                 ...   \n",
       "1564  \\n\\n\\n\\n\\n\\n\\n\\n        Skip to main navigatio...   \n",
       "1565  \\n\\n\\n\\n\\n\\n\\n\\n        Skip to main navigatio...   \n",
       "1566  \\n\\n\\n\\n\\n\\n\\n\\n        Skip to main navigatio...   \n",
       "1567  \\n\\n\\n\\n\\n\\n\\n\\n        Skip to main navigatio...   \n",
       "1568  \\n\\n\\n\\n\\n\\n\\n\\n        Skip to main navigatio...   \n",
       "\n",
       "                                                   html  \\\n",
       "0     <!DOCTYPE html>\\n<html class=\"no-js\" dir=\"ltr\"...   \n",
       "1     <!DOCTYPE html>\\n<html class=\"no-js\" dir=\"ltr\"...   \n",
       "2     <!DOCTYPE html>\\n<html class=\"no-js\" dir=\"ltr\"...   \n",
       "3     <!DOCTYPE html>\\n<html class=\"no-js\" dir=\"ltr\"...   \n",
       "4     <!DOCTYPE html>\\n<html class=\"no-js\" dir=\"ltr\"...   \n",
       "...                                                 ...   \n",
       "1564  <!DOCTYPE html>\\n<html dir=\"ltr\" lang=\"en\" pre...   \n",
       "1565  <!DOCTYPE html>\\n<html dir=\"ltr\" lang=\"en\" pre...   \n",
       "1566  <!DOCTYPE html>\\n<html dir=\"ltr\" lang=\"en\" pre...   \n",
       "1567  <!DOCTYPE html>\\n<html dir=\"ltr\" lang=\"en\" pre...   \n",
       "1568  <!DOCTYPE html>\\n<html dir=\"ltr\" lang=\"en\" pre...   \n",
       "\n",
       "                                              full_text    year  label  \n",
       "0     Apple Women’s Health Study releases preliminar...  2021.0  after  \n",
       "1     Apple TV+ announces programming partnership wi...  2021.0  after  \n",
       "2     Apple Hearing Study shares new insights on hea...  2021.0  after  \n",
       "3     New Zealand students prototype their own Samoa...  2021.0  after  \n",
       "4     Apple celebrates Women’s History Month and Int...  2021.0  after  \n",
       "...                                                 ...     ...    ...  \n",
       "1564  Amazon.com to Webcast Fourth Quarter 2020 Fina...  2021.0  after  \n",
       "1565  Amazon Teams Up with Pharrell Williams’ YELLOW...  2021.0  after  \n",
       "1566  Amazon Expands Investment in Metro Detroit, Cr...  2021.0  after  \n",
       "1567  Amazon Launches $2 Billion Housing Equity Fund...  2021.0  after  \n",
       "1568  Amazon Continues to Expand Its Transportation ...  2021.0  after  \n",
       "\n",
       "[1569 rows x 8 columns]"
      ]
     },
     "execution_count": 3,
     "metadata": {},
     "output_type": "execute_result"
    }
   ],
   "source": [
    "df = pd.DataFrame()\n",
    "\n",
    "for file in files:\n",
    "    new = pd.read_csv(f'./press_releases/{file}')\n",
    "    df = pd.concat([df,new],ignore_index=True)\n",
    "\n",
    "df"
   ]
  },
  {
   "cell_type": "code",
   "execution_count": 4,
   "id": "intense-batman",
   "metadata": {
    "ExecuteTime": {
     "end_time": "2021-03-12T01:48:24.362038Z",
     "start_time": "2021-03-12T01:48:24.350598Z"
    }
   },
   "outputs": [
    {
     "data": {
      "text/plain": [
       "before    0.618228\n",
       "after     0.381772\n",
       "Name: label, dtype: float64"
      ]
     },
     "execution_count": 4,
     "metadata": {},
     "output_type": "execute_result"
    }
   ],
   "source": [
    "df.label.value_counts(normalize=True)\n",
    "\n",
    "# baseline is .618228"
   ]
  },
  {
   "cell_type": "markdown",
   "id": "minute-conversation",
   "metadata": {},
   "source": [
    "## Vectorizing"
   ]
  },
  {
   "cell_type": "code",
   "execution_count": 5,
   "id": "starting-above",
   "metadata": {
    "ExecuteTime": {
     "end_time": "2021-03-12T01:48:24.369734Z",
     "start_time": "2021-03-12T01:48:24.363884Z"
    }
   },
   "outputs": [],
   "source": [
    "X = df['full_text']  # the features we want to analyze\n",
    "y = df['label']  # the labels, or answers, we want to test against\n",
    "X_train, X_test, y_train, y_test = train_test_split(X,\n",
    "                                                    y,\n",
    "                                                    test_size=0.3,\n",
    "                                                    random_state=47,\n",
    "                                                    stratify=y)"
   ]
  },
  {
   "cell_type": "code",
   "execution_count": 14,
   "id": "hungry-module",
   "metadata": {
    "ExecuteTime": {
     "end_time": "2021-03-12T01:50:27.918178Z",
     "start_time": "2021-03-12T01:50:27.435983Z"
    }
   },
   "outputs": [],
   "source": [
    "# https://python.plainenglish.io/text-classification-using-python-spacy-7a414abcc83a\n",
    "\n",
    "\n",
    "# Create our list of punctuation marks\n",
    "punctuations = string.punctuation\n",
    "\n",
    "# Create our list of stopwords\n",
    "nlp = spacy.load('en_core_web_sm')\n",
    "stop_words = spacy.lang.en.stop_words.STOP_WORDS\n",
    "\n",
    "# Load English tokenizer, tagger, parser, NER and word vectors\n",
    "\n",
    "\n",
    "# Creating our tokenizer function\n",
    "def spacy_tokenizer(text):\n",
    "    # Creating our token object, which is used to create\n",
    "    # documents with linguistic annotations.\n",
    "    mytokens = nlp(text)\n",
    "\n",
    "    # Lemmatizing each token and converting each token into lowercase\n",
    "    mytokens = [word.lemma_.lower().strip() if word.lemma_ != \"-PRON-\" else word.lower_ for word in mytokens]\n",
    "\n",
    "    # Removing stop words\n",
    "    mytokens = [word for word in mytokens if word not in stop_words and word not in punctuations]\n",
    "\n",
    "    # return preprocessed list of tokens\n",
    "    return mytokens\n",
    "\n",
    "\n",
    "# Custom transformer using spaCy\n",
    "\n",
    "class predictors(TransformerMixin): \n",
    "    \n",
    "    def transform(self, X, **transform_params):\n",
    "        # Basic function to clean the text\n",
    "        def clean_text(text):\n",
    "            # Removing spaces and converting text into lowercase\n",
    "            return text.strip().lower()\n",
    "        \n",
    "        # Cleaning Text\n",
    "        return [clean_text(text) for text in X]\n",
    "\n",
    "    def fit(self, X, y=None, **fit_params):\n",
    "        return self\n",
    "\n",
    "    def get_params(self, deep=True):\n",
    "        return {}\n",
    "\n",
    "tfidf_vector = TfidfVectorizer(tokenizer=spacy_tokenizer, max_features=2000)"
   ]
  },
  {
   "cell_type": "markdown",
   "id": "studied-syndication",
   "metadata": {},
   "source": [
    "## Logistic Regression"
   ]
  },
  {
   "cell_type": "code",
   "execution_count": 15,
   "id": "framed-tournament",
   "metadata": {
    "ExecuteTime": {
     "end_time": "2021-03-12T02:01:19.943957Z",
     "start_time": "2021-03-12T01:50:29.269434Z"
    }
   },
   "outputs": [
    {
     "name": "stdout",
     "output_type": "stream",
     "text": [
      "Train: 0.8743169398907104\n",
      "Test: 0.7834394904458599\n"
     ]
    }
   ],
   "source": [
    "# Logistic Regression Classifier - penalty: 'l2'\n",
    "\n",
    "classifier = LogisticRegression(penalty='l2')\n",
    "\n",
    "pipe = Pipeline([(\"cleaner\", predictors()),\n",
    "                 ('vectorizer', tfidf_vector),\n",
    "                 ('classifier', classifier)])\n",
    "\n",
    "# model generation\n",
    "pipe.fit(X_train,y_train)\n",
    "print('Train:', pipe.score(X_train,y_train))\n",
    "print('Test:', pipe.score(X_test,y_test))\n",
    "\n",
    "# baseline is .618228\n",
    "\n",
    "# Train: 0.8743169398907104\n",
    "# Test: 0.7834394904458599"
   ]
  },
  {
   "cell_type": "code",
   "execution_count": 16,
   "id": "desperate-pledge",
   "metadata": {
    "ExecuteTime": {
     "end_time": "2021-03-12T02:12:00.707055Z",
     "start_time": "2021-03-12T02:01:20.057047Z"
    }
   },
   "outputs": [
    {
     "name": "stdout",
     "output_type": "stream",
     "text": [
      "Train: 1.0\n",
      "Test: 0.8535031847133758\n"
     ]
    }
   ],
   "source": [
    "# Logistic Regression Classifier - penalty: 'none'\n",
    "\n",
    "classifier = LogisticRegression(penalty='none')\n",
    "\n",
    "pipe = Pipeline([(\"cleaner\", predictors()),\n",
    "                 ('vectorizer', tfidf_vector),\n",
    "                 ('classifier', classifier)])\n",
    "\n",
    "# model generation\n",
    "pipe.fit(X_train,y_train)\n",
    "print('Train:', pipe.score(X_train,y_train))\n",
    "print('Test:', pipe.score(X_test,y_test))\n",
    "\n",
    "# baseline is .618228\n",
    "\n",
    "# Train: 1.0\n",
    "# Test: 0.8535031847133758"
   ]
  },
  {
   "cell_type": "markdown",
   "id": "lyric-client",
   "metadata": {},
   "source": [
    "## KNN"
   ]
  },
  {
   "cell_type": "code",
   "execution_count": 17,
   "id": "informed-vessel",
   "metadata": {
    "ExecuteTime": {
     "end_time": "2021-03-12T02:22:41.752161Z",
     "start_time": "2021-03-12T02:12:00.820694Z"
    }
   },
   "outputs": [
    {
     "name": "stdout",
     "output_type": "stream",
     "text": [
      "Train: 0.7996357012750456\n",
      "Test: 0.7643312101910829\n"
     ]
    }
   ],
   "source": [
    "# KNN Classifier - Neighbors = 8\n",
    "\n",
    "knn = KNeighborsClassifier(n_neighbors=8,n_jobs=-1)\n",
    "\n",
    "pipe = Pipeline([(\"cleaner\", predictors()),\n",
    "                 ('vectorizer', tfidf_vector),\n",
    "                 ('knn', knn)])\n",
    "\n",
    "# model generation\n",
    "pipe.fit(X_train,y_train)\n",
    "print('Train:', pipe.score(X_train,y_train))\n",
    "print('Test:', pipe.score(X_test,y_test))\n",
    "\n",
    "# baseline is .618228\n",
    "\n",
    "# Train: 0.7996357012750456\n",
    "# Test: 0.7643312101910829"
   ]
  },
  {
   "cell_type": "code",
   "execution_count": 18,
   "id": "returning-arctic",
   "metadata": {
    "ExecuteTime": {
     "end_time": "2021-03-12T02:33:10.225802Z",
     "start_time": "2021-03-12T02:22:41.867658Z"
    }
   },
   "outputs": [
    {
     "name": "stdout",
     "output_type": "stream",
     "text": [
      "Train: 0.8187613843351548\n",
      "Test: 0.7473460721868365\n"
     ]
    }
   ],
   "source": [
    "# KNN Classifier - Neighbors = 5\n",
    "\n",
    "knn = KNeighborsClassifier(n_neighbors=5,n_jobs=-1)\n",
    "\n",
    "pipe = Pipeline([(\"cleaner\", predictors()),\n",
    "                 ('vectorizer', tfidf_vector),\n",
    "                 ('knn', knn)])\n",
    "\n",
    "# model generation\n",
    "pipe.fit(X_train,y_train)\n",
    "print('Train:', pipe.score(X_train,y_train))\n",
    "print('Test:', pipe.score(X_test,y_test))\n",
    "\n",
    "# baseline is .618228\n",
    "\n",
    "# Train: 0.8187613843351548\n",
    "# Test: 0.7473460721868365"
   ]
  },
  {
   "cell_type": "code",
   "execution_count": 19,
   "id": "particular-medium",
   "metadata": {
    "ExecuteTime": {
     "end_time": "2021-03-12T02:43:42.395054Z",
     "start_time": "2021-03-12T02:33:10.342574Z"
    }
   },
   "outputs": [
    {
     "name": "stdout",
     "output_type": "stream",
     "text": [
      "Train: 0.8588342440801457\n",
      "Test: 0.7303609341825902\n"
     ]
    }
   ],
   "source": [
    "# KNN Classifier - Neighbors = 3\n",
    "\n",
    "knn = KNeighborsClassifier(n_neighbors=3,n_jobs=-1)\n",
    "\n",
    "pipe = Pipeline([(\"cleaner\", predictors()),\n",
    "                 ('vectorizer', tfidf_vector),\n",
    "                 ('knn', knn)])\n",
    "\n",
    "# model generation\n",
    "pipe.fit(X_train,y_train)\n",
    "print('Train:', pipe.score(X_train,y_train))\n",
    "print('Test:', pipe.score(X_test,y_test))\n",
    "\n",
    "# baseline is .618228\n",
    "\n",
    "# Train: 0.8588342440801457\n",
    "# Test: 0.7303609341825902"
   ]
  }
 ],
 "metadata": {
  "kernelspec": {
   "display_name": "Python 3",
   "language": "python",
   "name": "python3"
  },
  "language_info": {
   "codemirror_mode": {
    "name": "ipython",
    "version": 3
   },
   "file_extension": ".py",
   "mimetype": "text/x-python",
   "name": "python",
   "nbconvert_exporter": "python",
   "pygments_lexer": "ipython3",
   "version": "3.8.5"
  },
  "toc": {
   "base_numbering": 1,
   "nav_menu": {},
   "number_sections": true,
   "sideBar": true,
   "skip_h1_title": false,
   "title_cell": "Table of Contents",
   "title_sidebar": "Contents",
   "toc_cell": false,
   "toc_position": {},
   "toc_section_display": true,
   "toc_window_display": false
  },
  "varInspector": {
   "cols": {
    "lenName": 16,
    "lenType": 16,
    "lenVar": 40
   },
   "kernels_config": {
    "python": {
     "delete_cmd_postfix": "",
     "delete_cmd_prefix": "del ",
     "library": "var_list.py",
     "varRefreshCmd": "print(var_dic_list())"
    },
    "r": {
     "delete_cmd_postfix": ") ",
     "delete_cmd_prefix": "rm(",
     "library": "var_list.r",
     "varRefreshCmd": "cat(var_dic_list()) "
    }
   },
   "types_to_exclude": [
    "module",
    "function",
    "builtin_function_or_method",
    "instance",
    "_Feature"
   ],
   "window_display": false
  }
 },
 "nbformat": 4,
 "nbformat_minor": 5
}
