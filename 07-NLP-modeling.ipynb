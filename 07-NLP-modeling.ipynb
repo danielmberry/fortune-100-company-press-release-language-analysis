{
 "cells": [
  {
   "cell_type": "markdown",
   "id": "instructional-airport",
   "metadata": {},
   "source": [
    "## Imports"
   ]
  },
  {
   "cell_type": "code",
   "execution_count": 18,
   "id": "contrary-reaction",
   "metadata": {
    "ExecuteTime": {
     "end_time": "2021-03-15T20:42:52.206112Z",
     "start_time": "2021-03-15T20:42:52.201691Z"
    }
   },
   "outputs": [],
   "source": [
    "import pandas as pd\n",
    "import numpy as np\n",
    "import matplotlib.pyplot as plt\n",
    "# import seaborn as sns\n",
    "\n",
    "import os\n",
    "\n",
    "from sklearn.model_selection import train_test_split\n",
    "from sklearn.base import TransformerMixin\n",
    "from sklearn.pipeline import Pipeline\n",
    "from sklearn.linear_model import LogisticRegression\n",
    "from sklearn.neighbors import KNeighborsClassifier\n",
    "from sklearn.feature_extraction.text import TfidfVectorizer\n",
    "from sklearn.feature_extraction import stop_words\n",
    "from sklearn import metrics as metrics\n",
    "\n",
    "from nltk.stem import PorterStemmer, WordNetLemmatizer\n",
    "from nltk.corpus import stopwords\n",
    "from nltk.tokenize import word_tokenize\n",
    "\n",
    "import spacy\n",
    "from spacy.lang.en.stop_words import STOP_WORDS\n",
    "from spacy.lang.en import English\n",
    "\n",
    "import string\n"
   ]
  },
  {
   "cell_type": "code",
   "execution_count": 2,
   "id": "twelve-success",
   "metadata": {
    "ExecuteTime": {
     "end_time": "2021-03-15T19:58:47.739284Z",
     "start_time": "2021-03-15T19:58:47.734150Z"
    }
   },
   "outputs": [],
   "source": [
    "files = [f for f in os.listdir('../data/press_releases/') if 'csv' in f]"
   ]
  },
  {
   "cell_type": "code",
   "execution_count": 3,
   "id": "overall-police",
   "metadata": {
    "ExecuteTime": {
     "end_time": "2021-03-15T19:58:52.051246Z",
     "start_time": "2021-03-15T19:58:50.151801Z"
    },
    "code_folding": []
   },
   "outputs": [
    {
     "data": {
      "text/html": [
       "<div>\n",
       "<style scoped>\n",
       "    .dataframe tbody tr th:only-of-type {\n",
       "        vertical-align: middle;\n",
       "    }\n",
       "\n",
       "    .dataframe tbody tr th {\n",
       "        vertical-align: top;\n",
       "    }\n",
       "\n",
       "    .dataframe thead th {\n",
       "        text-align: right;\n",
       "    }\n",
       "</style>\n",
       "<table border=\"1\" class=\"dataframe\">\n",
       "  <thead>\n",
       "    <tr style=\"text-align: right;\">\n",
       "      <th></th>\n",
       "      <th>full_link</th>\n",
       "      <th>time</th>\n",
       "      <th>title</th>\n",
       "      <th>body</th>\n",
       "      <th>html</th>\n",
       "      <th>full_text</th>\n",
       "      <th>year</th>\n",
       "      <th>label</th>\n",
       "    </tr>\n",
       "  </thead>\n",
       "  <tbody>\n",
       "    <tr>\n",
       "      <th>0</th>\n",
       "      <td>https://www.apple.com/newsroom/2021/03/apple-w...</td>\n",
       "      <td>2021-03-01</td>\n",
       "      <td>Apple Women’s Health Study releases preliminar...</td>\n",
       "      <td>\\n\\n\\n\\n\\n\\n\\n\\n\\n\\n\\n\\n\\n\\n\\n\\n\\n\\n\\nGlobal N...</td>\n",
       "      <td>&lt;!DOCTYPE html&gt;\\n&lt;html class=\"no-js\" dir=\"ltr\"...</td>\n",
       "      <td>Apple Women’s Health Study releases preliminar...</td>\n",
       "      <td>2021.0</td>\n",
       "      <td>after</td>\n",
       "    </tr>\n",
       "    <tr>\n",
       "      <th>1</th>\n",
       "      <td>https://www.apple.com/newsroom/2021/03/apple-t...</td>\n",
       "      <td>2021-03-01</td>\n",
       "      <td>Apple TV+ announces programming partnership wi...</td>\n",
       "      <td>\\n\\n\\n\\n\\n\\n\\n\\n\\n\\n\\n\\n\\n\\n\\n\\n\\n\\n\\nGlobal N...</td>\n",
       "      <td>&lt;!DOCTYPE html&gt;\\n&lt;html class=\"no-js\" dir=\"ltr\"...</td>\n",
       "      <td>Apple TV+ announces programming partnership wi...</td>\n",
       "      <td>2021.0</td>\n",
       "      <td>after</td>\n",
       "    </tr>\n",
       "    <tr>\n",
       "      <th>2</th>\n",
       "      <td>https://www.apple.com/newsroom/2021/03/apple-h...</td>\n",
       "      <td>2021-03-01</td>\n",
       "      <td>Apple Hearing Study shares new insights on hea...</td>\n",
       "      <td>\\n\\n\\n\\n\\n\\n\\n\\n\\n\\n\\n\\n\\n\\n\\n\\n\\n\\n\\nGlobal N...</td>\n",
       "      <td>&lt;!DOCTYPE html&gt;\\n&lt;html class=\"no-js\" dir=\"ltr\"...</td>\n",
       "      <td>Apple Hearing Study shares new insights on hea...</td>\n",
       "      <td>2021.0</td>\n",
       "      <td>after</td>\n",
       "    </tr>\n",
       "    <tr>\n",
       "      <th>3</th>\n",
       "      <td>https://www.apple.com/newsroom/2021/03/new-zea...</td>\n",
       "      <td>2021-03-01</td>\n",
       "      <td>New Zealand students prototype their own Samoa...</td>\n",
       "      <td>\\n\\n\\n\\n\\n\\n\\n\\n\\n\\n\\n\\n\\n\\n\\n\\n\\n\\n\\nGlobal N...</td>\n",
       "      <td>&lt;!DOCTYPE html&gt;\\n&lt;html class=\"no-js\" dir=\"ltr\"...</td>\n",
       "      <td>New Zealand students prototype their own Samoa...</td>\n",
       "      <td>2021.0</td>\n",
       "      <td>after</td>\n",
       "    </tr>\n",
       "    <tr>\n",
       "      <th>4</th>\n",
       "      <td>https://www.apple.com/newsroom/2021/02/apple-c...</td>\n",
       "      <td>2021-02-01</td>\n",
       "      <td>Apple celebrates Women’s History Month and Int...</td>\n",
       "      <td>\\n\\n\\n\\n\\n\\n\\n\\n\\n\\n\\n\\n\\n\\n\\n\\n\\n\\n\\nGlobal N...</td>\n",
       "      <td>&lt;!DOCTYPE html&gt;\\n&lt;html class=\"no-js\" dir=\"ltr\"...</td>\n",
       "      <td>Apple celebrates Women’s History Month and Int...</td>\n",
       "      <td>2021.0</td>\n",
       "      <td>after</td>\n",
       "    </tr>\n",
       "    <tr>\n",
       "      <th>...</th>\n",
       "      <td>...</td>\n",
       "      <td>...</td>\n",
       "      <td>...</td>\n",
       "      <td>...</td>\n",
       "      <td>...</td>\n",
       "      <td>...</td>\n",
       "      <td>...</td>\n",
       "      <td>...</td>\n",
       "    </tr>\n",
       "    <tr>\n",
       "      <th>1564</th>\n",
       "      <td>https://press.aboutamazon.com/news-releases/ne...</td>\n",
       "      <td>2021-01-19 00:00:00</td>\n",
       "      <td>Amazon.com to Webcast Fourth Quarter 2020 Fina...</td>\n",
       "      <td>\\n\\n\\n\\n\\n\\n\\n\\n        Skip to main navigatio...</td>\n",
       "      <td>&lt;!DOCTYPE html&gt;\\n&lt;html dir=\"ltr\" lang=\"en\" pre...</td>\n",
       "      <td>Amazon.com to Webcast Fourth Quarter 2020 Fina...</td>\n",
       "      <td>2021.0</td>\n",
       "      <td>after</td>\n",
       "    </tr>\n",
       "    <tr>\n",
       "      <th>1565</th>\n",
       "      <td>https://press.aboutamazon.com/news-releases/ne...</td>\n",
       "      <td>2021-01-19 00:00:00</td>\n",
       "      <td>Amazon Teams Up with Pharrell Williams’ YELLOW...</td>\n",
       "      <td>\\n\\n\\n\\n\\n\\n\\n\\n        Skip to main navigatio...</td>\n",
       "      <td>&lt;!DOCTYPE html&gt;\\n&lt;html dir=\"ltr\" lang=\"en\" pre...</td>\n",
       "      <td>Amazon Teams Up with Pharrell Williams’ YELLOW...</td>\n",
       "      <td>2021.0</td>\n",
       "      <td>after</td>\n",
       "    </tr>\n",
       "    <tr>\n",
       "      <th>1566</th>\n",
       "      <td>https://press.aboutamazon.com/news-releases/ne...</td>\n",
       "      <td>2021-01-11 00:00:00</td>\n",
       "      <td>Amazon Expands Investment in Metro Detroit, Cr...</td>\n",
       "      <td>\\n\\n\\n\\n\\n\\n\\n\\n        Skip to main navigatio...</td>\n",
       "      <td>&lt;!DOCTYPE html&gt;\\n&lt;html dir=\"ltr\" lang=\"en\" pre...</td>\n",
       "      <td>Amazon Expands Investment in Metro Detroit, Cr...</td>\n",
       "      <td>2021.0</td>\n",
       "      <td>after</td>\n",
       "    </tr>\n",
       "    <tr>\n",
       "      <th>1567</th>\n",
       "      <td>https://press.aboutamazon.com/news-releases/ne...</td>\n",
       "      <td>2021-01-06 00:00:00</td>\n",
       "      <td>Amazon Launches $2 Billion Housing Equity Fund...</td>\n",
       "      <td>\\n\\n\\n\\n\\n\\n\\n\\n        Skip to main navigatio...</td>\n",
       "      <td>&lt;!DOCTYPE html&gt;\\n&lt;html dir=\"ltr\" lang=\"en\" pre...</td>\n",
       "      <td>Amazon Launches $2 Billion Housing Equity Fund...</td>\n",
       "      <td>2021.0</td>\n",
       "      <td>after</td>\n",
       "    </tr>\n",
       "    <tr>\n",
       "      <th>1568</th>\n",
       "      <td>https://press.aboutamazon.com/news-releases/ne...</td>\n",
       "      <td>2021-01-05 00:00:00</td>\n",
       "      <td>Amazon Continues to Expand Its Transportation ...</td>\n",
       "      <td>\\n\\n\\n\\n\\n\\n\\n\\n        Skip to main navigatio...</td>\n",
       "      <td>&lt;!DOCTYPE html&gt;\\n&lt;html dir=\"ltr\" lang=\"en\" pre...</td>\n",
       "      <td>Amazon Continues to Expand Its Transportation ...</td>\n",
       "      <td>2021.0</td>\n",
       "      <td>after</td>\n",
       "    </tr>\n",
       "  </tbody>\n",
       "</table>\n",
       "<p>1569 rows × 8 columns</p>\n",
       "</div>"
      ],
      "text/plain": [
       "                                              full_link                 time  \\\n",
       "0     https://www.apple.com/newsroom/2021/03/apple-w...           2021-03-01   \n",
       "1     https://www.apple.com/newsroom/2021/03/apple-t...           2021-03-01   \n",
       "2     https://www.apple.com/newsroom/2021/03/apple-h...           2021-03-01   \n",
       "3     https://www.apple.com/newsroom/2021/03/new-zea...           2021-03-01   \n",
       "4     https://www.apple.com/newsroom/2021/02/apple-c...           2021-02-01   \n",
       "...                                                 ...                  ...   \n",
       "1564  https://press.aboutamazon.com/news-releases/ne...  2021-01-19 00:00:00   \n",
       "1565  https://press.aboutamazon.com/news-releases/ne...  2021-01-19 00:00:00   \n",
       "1566  https://press.aboutamazon.com/news-releases/ne...  2021-01-11 00:00:00   \n",
       "1567  https://press.aboutamazon.com/news-releases/ne...  2021-01-06 00:00:00   \n",
       "1568  https://press.aboutamazon.com/news-releases/ne...  2021-01-05 00:00:00   \n",
       "\n",
       "                                                  title  \\\n",
       "0     Apple Women’s Health Study releases preliminar...   \n",
       "1     Apple TV+ announces programming partnership wi...   \n",
       "2     Apple Hearing Study shares new insights on hea...   \n",
       "3     New Zealand students prototype their own Samoa...   \n",
       "4     Apple celebrates Women’s History Month and Int...   \n",
       "...                                                 ...   \n",
       "1564  Amazon.com to Webcast Fourth Quarter 2020 Fina...   \n",
       "1565  Amazon Teams Up with Pharrell Williams’ YELLOW...   \n",
       "1566  Amazon Expands Investment in Metro Detroit, Cr...   \n",
       "1567  Amazon Launches $2 Billion Housing Equity Fund...   \n",
       "1568  Amazon Continues to Expand Its Transportation ...   \n",
       "\n",
       "                                                   body  \\\n",
       "0     \\n\\n\\n\\n\\n\\n\\n\\n\\n\\n\\n\\n\\n\\n\\n\\n\\n\\n\\nGlobal N...   \n",
       "1     \\n\\n\\n\\n\\n\\n\\n\\n\\n\\n\\n\\n\\n\\n\\n\\n\\n\\n\\nGlobal N...   \n",
       "2     \\n\\n\\n\\n\\n\\n\\n\\n\\n\\n\\n\\n\\n\\n\\n\\n\\n\\n\\nGlobal N...   \n",
       "3     \\n\\n\\n\\n\\n\\n\\n\\n\\n\\n\\n\\n\\n\\n\\n\\n\\n\\n\\nGlobal N...   \n",
       "4     \\n\\n\\n\\n\\n\\n\\n\\n\\n\\n\\n\\n\\n\\n\\n\\n\\n\\n\\nGlobal N...   \n",
       "...                                                 ...   \n",
       "1564  \\n\\n\\n\\n\\n\\n\\n\\n        Skip to main navigatio...   \n",
       "1565  \\n\\n\\n\\n\\n\\n\\n\\n        Skip to main navigatio...   \n",
       "1566  \\n\\n\\n\\n\\n\\n\\n\\n        Skip to main navigatio...   \n",
       "1567  \\n\\n\\n\\n\\n\\n\\n\\n        Skip to main navigatio...   \n",
       "1568  \\n\\n\\n\\n\\n\\n\\n\\n        Skip to main navigatio...   \n",
       "\n",
       "                                                   html  \\\n",
       "0     <!DOCTYPE html>\\n<html class=\"no-js\" dir=\"ltr\"...   \n",
       "1     <!DOCTYPE html>\\n<html class=\"no-js\" dir=\"ltr\"...   \n",
       "2     <!DOCTYPE html>\\n<html class=\"no-js\" dir=\"ltr\"...   \n",
       "3     <!DOCTYPE html>\\n<html class=\"no-js\" dir=\"ltr\"...   \n",
       "4     <!DOCTYPE html>\\n<html class=\"no-js\" dir=\"ltr\"...   \n",
       "...                                                 ...   \n",
       "1564  <!DOCTYPE html>\\n<html dir=\"ltr\" lang=\"en\" pre...   \n",
       "1565  <!DOCTYPE html>\\n<html dir=\"ltr\" lang=\"en\" pre...   \n",
       "1566  <!DOCTYPE html>\\n<html dir=\"ltr\" lang=\"en\" pre...   \n",
       "1567  <!DOCTYPE html>\\n<html dir=\"ltr\" lang=\"en\" pre...   \n",
       "1568  <!DOCTYPE html>\\n<html dir=\"ltr\" lang=\"en\" pre...   \n",
       "\n",
       "                                              full_text    year  label  \n",
       "0     Apple Women’s Health Study releases preliminar...  2021.0  after  \n",
       "1     Apple TV+ announces programming partnership wi...  2021.0  after  \n",
       "2     Apple Hearing Study shares new insights on hea...  2021.0  after  \n",
       "3     New Zealand students prototype their own Samoa...  2021.0  after  \n",
       "4     Apple celebrates Women’s History Month and Int...  2021.0  after  \n",
       "...                                                 ...     ...    ...  \n",
       "1564  Amazon.com to Webcast Fourth Quarter 2020 Fina...  2021.0  after  \n",
       "1565  Amazon Teams Up with Pharrell Williams’ YELLOW...  2021.0  after  \n",
       "1566  Amazon Expands Investment in Metro Detroit, Cr...  2021.0  after  \n",
       "1567  Amazon Launches $2 Billion Housing Equity Fund...  2021.0  after  \n",
       "1568  Amazon Continues to Expand Its Transportation ...  2021.0  after  \n",
       "\n",
       "[1569 rows x 8 columns]"
      ]
     },
     "execution_count": 3,
     "metadata": {},
     "output_type": "execute_result"
    }
   ],
   "source": [
    "df = pd.DataFrame()\n",
    "\n",
    "for file in files:\n",
    "    new = pd.read_csv(f'../data/press_releases/{file}')\n",
    "    df = pd.concat([df,new],ignore_index=True)\n",
    "\n",
    "df"
   ]
  },
  {
   "cell_type": "code",
   "execution_count": 4,
   "id": "intense-batman",
   "metadata": {
    "ExecuteTime": {
     "end_time": "2021-03-15T19:58:56.927347Z",
     "start_time": "2021-03-15T19:58:56.912081Z"
    }
   },
   "outputs": [
    {
     "data": {
      "text/plain": [
       "before    0.618228\n",
       "after     0.381772\n",
       "Name: label, dtype: float64"
      ]
     },
     "execution_count": 4,
     "metadata": {},
     "output_type": "execute_result"
    }
   ],
   "source": [
    "df.label.value_counts(normalize=True)\n",
    "\n",
    "# baseline is .618228"
   ]
  },
  {
   "cell_type": "markdown",
   "id": "minute-conversation",
   "metadata": {},
   "source": [
    "## Vectorizing"
   ]
  },
  {
   "cell_type": "code",
   "execution_count": 24,
   "id": "starting-above",
   "metadata": {
    "ExecuteTime": {
     "end_time": "2021-03-15T20:45:19.224996Z",
     "start_time": "2021-03-15T20:45:19.218577Z"
    }
   },
   "outputs": [],
   "source": [
    "X = df['full_text']  # the features we want to analyze\n",
    "y = df['label']  # the labels, or answers, we want to test against\n",
    "X_train, X_test, y_train, y_test = train_test_split(X,\n",
    "                                                    y,\n",
    "                                                    test_size=0.3,\n",
    "                                                    random_state=47,\n",
    "                                                    stratify=y)"
   ]
  },
  {
   "cell_type": "code",
   "execution_count": 25,
   "id": "hungry-module",
   "metadata": {
    "ExecuteTime": {
     "end_time": "2021-03-15T20:45:24.021246Z",
     "start_time": "2021-03-15T20:45:23.505144Z"
    }
   },
   "outputs": [],
   "source": [
    "# https://python.plainenglish.io/text-classification-using-python-spacy-7a414abcc83a\n",
    "\n",
    "\n",
    "# Create our list of punctuation marks\n",
    "punctuations = string.punctuation\n",
    "\n",
    "# Create our list of stopwords\n",
    "nlp = spacy.load('en_core_web_sm')\n",
    "stop_words = spacy.lang.en.stop_words.STOP_WORDS\n",
    "\n",
    "# Load English tokenizer, tagger, parser, NER and word vectors\n",
    "\n",
    "\n",
    "# Creating our tokenizer function\n",
    "def spacy_tokenizer(text):\n",
    "    # Creating our token object, which is used to create\n",
    "    # documents with linguistic annotations.\n",
    "    mytokens = nlp(text)\n",
    "\n",
    "    # Lemmatizing each token and converting each token into lowercase\n",
    "    mytokens = [word.lemma_.lower().strip() if word.lemma_ != \"-PRON-\" else word.lower_ for word in mytokens]\n",
    "\n",
    "    # Removing stop words\n",
    "    mytokens = [word for word in mytokens if word not in stop_words and word not in punctuations]\n",
    "\n",
    "    # return preprocessed list of tokens\n",
    "    return mytokens\n",
    "\n",
    "\n",
    "# Custom transformer using spaCy\n",
    "\n",
    "class predictors(TransformerMixin): \n",
    "    \n",
    "    def transform(self, X, **transform_params):\n",
    "        # Basic function to clean the text\n",
    "        def clean_text(text):\n",
    "            # Removing spaces and converting text into lowercase\n",
    "            return text.strip().lower()\n",
    "        \n",
    "        # Cleaning Text\n",
    "        return [clean_text(text) for text in X]\n",
    "\n",
    "    def fit(self, X, y=None, **fit_params):\n",
    "        return self\n",
    "\n",
    "    def get_params(self, deep=True):\n",
    "        return {}\n",
    "\n",
    "tfidf_vector = TfidfVectorizer(tokenizer=spacy_tokenizer, max_features=2000)"
   ]
  },
  {
   "cell_type": "code",
   "execution_count": 14,
   "id": "collectible-thong",
   "metadata": {
    "ExecuteTime": {
     "end_time": "2021-03-15T20:31:54.030240Z",
     "start_time": "2021-03-15T20:24:19.423348Z"
    }
   },
   "outputs": [],
   "source": [
    "tfidf = TfidfVectorizer(tokenizer=spacy_tokenizer, max_features=2000)\n",
    "\n",
    "X_train_vec = tfidf.fit_transform(X_train)\n",
    "X_test_vec = tfidf.transform(X_test)"
   ]
  },
  {
   "cell_type": "markdown",
   "id": "studied-syndication",
   "metadata": {},
   "source": [
    "## Logistic Regression"
   ]
  },
  {
   "cell_type": "code",
   "execution_count": 26,
   "id": "framed-tournament",
   "metadata": {
    "ExecuteTime": {
     "end_time": "2021-03-15T20:58:14.527706Z",
     "start_time": "2021-03-15T20:45:51.326768Z"
    }
   },
   "outputs": [
    {
     "name": "stdout",
     "output_type": "stream",
     "text": [
      "Train: 0.8743169398907104\n",
      "Test: 0.7834394904458599\n"
     ]
    }
   ],
   "source": [
    "# Logistic Regression Classifier - penalty: 'l2'\n",
    "\n",
    "logr_l2 = LogisticRegression(penalty='l2')\n",
    "\n",
    "pipe_l2 = Pipeline([(\"cleaner\", predictors()),\n",
    "                 ('vectorizer', tfidf_vector),\n",
    "                 ('logr_l2', logr_l2)])\n",
    "\n",
    "# model generation\n",
    "pipe_l2.fit(X_train,y_train)\n",
    "print('Train:', pipe_l2.score(X_train,y_train))\n",
    "print('Test:', pipe_l2.score(X_test,y_test))\n",
    "\n",
    "# baseline is .618228\n",
    "\n",
    "# Train: 0.8743169398907104\n",
    "# Test: 0.7834394904458599"
   ]
  },
  {
   "cell_type": "code",
   "execution_count": 27,
   "id": "false-warrior",
   "metadata": {
    "ExecuteTime": {
     "end_time": "2021-03-15T21:00:32.675456Z",
     "start_time": "2021-03-15T20:58:14.665544Z"
    }
   },
   "outputs": [
    {
     "data": {
      "image/png": "[encoded data removed]",
      "text/plain": [
       "<Figure size 432x288 with 2 Axes>"
      ]
     },
     "metadata": {
      "needs_background": "light"
     },
     "output_type": "display_data"
    }
   ],
   "source": [
    "metrics.plot_confusion_matrix(pipe_l2, X_test, y_test, cmap='Blues', \n",
    "                              values_format='d');"
   ]
  },
  {
   "cell_type": "code",
   "execution_count": 28,
   "id": "qualified-twins",
   "metadata": {
    "ExecuteTime": {
     "end_time": "2021-03-15T21:03:03.609360Z",
     "start_time": "2021-03-15T21:00:32.807006Z"
    },
    "scrolled": true
   },
   "outputs": [
    {
     "data": {
      "text/plain": [
       "[<matplotlib.lines.Line2D at 0x7fdec4d3f940>]"
      ]
     },
     "execution_count": 28,
     "metadata": {},
     "output_type": "execute_result"
    },
    {
     "data": {
      "image/png": "[encoded data removed]",
      "text/plain": [
       "<Figure size 432x288 with 1 Axes>"
      ]
     },
     "metadata": {
      "needs_background": "light"
     },
     "output_type": "display_data"
    }
   ],
   "source": [
    "# ROC curve\n",
    "metrics.plot_roc_curve(pipe_l2, X_test, y_test)\n",
    "# add worst case scenario line\n",
    "plt.plot([0, 1], [0, 1]);"
   ]
  },
  {
   "cell_type": "code",
   "execution_count": 30,
   "id": "jewish-eligibility",
   "metadata": {
    "ExecuteTime": {
     "end_time": "2021-03-15T21:06:07.901601Z",
     "start_time": "2021-03-15T21:03:49.184134Z"
    }
   },
   "outputs": [
    {
     "data": {
      "text/plain": [
       "0.8782550591828943"
      ]
     },
     "execution_count": 30,
     "metadata": {},
     "output_type": "execute_result"
    }
   ],
   "source": [
    "metrics.roc_auc_score(y_test, pipe_l2.predict_proba(X_test)[:,1])"
   ]
  },
  {
   "cell_type": "code",
   "execution_count": 31,
   "id": "desperate-pledge",
   "metadata": {
    "ExecuteTime": {
     "end_time": "2021-03-15T21:25:20.490328Z",
     "start_time": "2021-03-15T21:09:05.044508Z"
    }
   },
   "outputs": [
    {
     "name": "stdout",
     "output_type": "stream",
     "text": [
      "Train: 1.0\n",
      "Test: 0.8535031847133758\n"
     ]
    }
   ],
   "source": [
    "# Logistic Regression Classifier - penalty: 'none'\n",
    "\n",
    "logr_none = LogisticRegression(penalty='none')\n",
    "\n",
    "pipe_none = Pipeline([(\"cleaner\", predictors()),\n",
    "                 ('vectorizer', tfidf_vector),\n",
    "                 ('logr_none', logr_none)])\n",
    "\n",
    "# model generation\n",
    "pipe_none.fit(X_train,y_train)\n",
    "print('Train:', pipe_none.score(X_train,y_train))\n",
    "print('Test:', pipe_none.score(X_test,y_test))\n",
    "\n",
    "# baseline is .618228\n",
    "\n",
    "# Train: 1.0\n",
    "# Test: 0.8535031847133758"
   ]
  },
  {
   "cell_type": "code",
   "execution_count": 32,
   "id": "bulgarian-courtesy",
   "metadata": {
    "ExecuteTime": {
     "end_time": "2021-03-15T21:27:50.819308Z",
     "start_time": "2021-03-15T21:25:20.661677Z"
    }
   },
   "outputs": [
    {
     "data": {
      "image/png": "[encoded data removed]",
      "text/plain": [
       "<Figure size 432x288 with 2 Axes>"
      ]
     },
     "metadata": {
      "needs_background": "light"
     },
     "output_type": "display_data"
    }
   ],
   "source": [
    "metrics.plot_confusion_matrix(pipe_none, X_test, y_test, cmap='Blues', \n",
    "                              values_format='d');"
   ]
  },
  {
   "cell_type": "code",
   "execution_count": 33,
   "id": "unlimited-chosen",
   "metadata": {
    "ExecuteTime": {
     "end_time": "2021-03-15T21:30:08.988994Z",
     "start_time": "2021-03-15T21:27:50.943166Z"
    }
   },
   "outputs": [
    {
     "data": {
      "text/plain": [
       "[<matplotlib.lines.Line2D at 0x7fde9e029a60>]"
      ]
     },
     "execution_count": 33,
     "metadata": {},
     "output_type": "execute_result"
    },
    {
     "data": {
      "image/png": "[encoded data removed]",
      "text/plain": [
       "<Figure size 432x288 with 1 Axes>"
      ]
     },
     "metadata": {
      "needs_background": "light"
     },
     "output_type": "display_data"
    }
   ],
   "source": [
    "# ROC curve\n",
    "metrics.plot_roc_curve(pipe_none, X_test, y_test)\n",
    "# add worst case scenario line\n",
    "plt.plot([0, 1], [0, 1]);"
   ]
  },
  {
   "cell_type": "code",
   "execution_count": 34,
   "id": "fewer-studio",
   "metadata": {
    "ExecuteTime": {
     "end_time": "2021-03-15T21:32:23.511241Z",
     "start_time": "2021-03-15T21:30:09.129603Z"
    }
   },
   "outputs": [
    {
     "data": {
      "text/plain": [
       "0.9040759831996945"
      ]
     },
     "execution_count": 34,
     "metadata": {},
     "output_type": "execute_result"
    }
   ],
   "source": [
    "metrics.roc_auc_score(y_test, pipe_none.predict_proba(X_test)[:,1])"
   ]
  },
  {
   "cell_type": "markdown",
   "id": "lyric-client",
   "metadata": {},
   "source": [
    "## KNN"
   ]
  },
  {
   "cell_type": "code",
   "execution_count": 35,
   "id": "informed-vessel",
   "metadata": {
    "ExecuteTime": {
     "end_time": "2021-03-15T21:45:28.210964Z",
     "start_time": "2021-03-15T21:32:23.629504Z"
    }
   },
   "outputs": [
    {
     "name": "stdout",
     "output_type": "stream",
     "text": [
      "Train: 0.7996357012750456\n",
      "Test: 0.7643312101910829\n"
     ]
    }
   ],
   "source": [
    "# KNN Classifier - Neighbors = 8\n",
    "\n",
    "knn8 = KNeighborsClassifier(n_neighbors=8,n_jobs=-1)\n",
    "\n",
    "pipen8 = Pipeline([(\"cleaner\", predictors()),\n",
    "                 ('vectorizer', tfidf_vector),\n",
    "                 ('knn', knn8)])\n",
    "\n",
    "# model generation\n",
    "pipen8.fit(X_train,y_train)\n",
    "print('Train:', pipen8.score(X_train,y_train))\n",
    "print('Test:', pipen8.score(X_test,y_test))\n",
    "\n",
    "# baseline is .618228\n",
    "\n",
    "# Train: 0.7996357012750456\n",
    "# Test: 0.7643312101910829"
   ]
  },
  {
   "cell_type": "code",
   "execution_count": 36,
   "id": "affecting-behavior",
   "metadata": {
    "ExecuteTime": {
     "end_time": "2021-03-15T22:27:09.085400Z",
     "start_time": "2021-03-15T22:25:07.090985Z"
    }
   },
   "outputs": [
    {
     "data": {
      "image/png": "[encoded data removed]",
      "text/plain": [
       "<Figure size 432x288 with 2 Axes>"
      ]
     },
     "metadata": {
      "needs_background": "light"
     },
     "output_type": "display_data"
    }
   ],
   "source": [
    "metrics.plot_confusion_matrix(pipen8, X_test, y_test, cmap='Blues', \n",
    "                              values_format='d');"
   ]
  },
  {
   "cell_type": "code",
   "execution_count": 37,
   "id": "compact-marble",
   "metadata": {
    "ExecuteTime": {
     "end_time": "2021-03-15T22:29:11.177592Z",
     "start_time": "2021-03-15T22:27:09.242649Z"
    }
   },
   "outputs": [
    {
     "data": {
      "text/plain": [
       "[<matplotlib.lines.Line2D at 0x7fde9de962b0>]"
      ]
     },
     "execution_count": 37,
     "metadata": {},
     "output_type": "execute_result"
    },
    {
     "data": {
      "image/png": "[encoded data removed]",
      "text/plain": [
       "<Figure size 432x288 with 1 Axes>"
      ]
     },
     "metadata": {
      "needs_background": "light"
     },
     "output_type": "display_data"
    }
   ],
   "source": [
    "# ROC curve\n",
    "metrics.plot_roc_curve(pipen8, X_test, y_test)\n",
    "# add worst case scenario line\n",
    "plt.plot([0, 1], [0, 1]);"
   ]
  },
  {
   "cell_type": "code",
   "execution_count": 38,
   "id": "equivalent-winner",
   "metadata": {
    "ExecuteTime": {
     "end_time": "2021-03-15T22:31:12.656266Z",
     "start_time": "2021-03-15T22:29:11.327493Z"
    }
   },
   "outputs": [
    {
     "data": {
      "text/plain": [
       "0.8406834669721267"
      ]
     },
     "execution_count": 38,
     "metadata": {},
     "output_type": "execute_result"
    }
   ],
   "source": [
    "metrics.roc_auc_score(y_test, pipen8.predict_proba(X_test)[:,1])"
   ]
  },
  {
   "cell_type": "code",
   "execution_count": 39,
   "id": "returning-arctic",
   "metadata": {
    "ExecuteTime": {
     "end_time": "2021-03-15T22:06:01.711294Z",
     "start_time": "2021-03-15T21:52:22.711266Z"
    }
   },
   "outputs": [
    {
     "name": "stdout",
     "output_type": "stream",
     "text": [
      "Train: 0.8187613843351548\n",
      "Test: 0.7473460721868365\n"
     ]
    }
   ],
   "source": [
    "# KNN Classifier - Neighbors = 5\n",
    "\n",
    "knn5 = KNeighborsClassifier(n_neighbors=5,n_jobs=-1)\n",
    "\n",
    "pipen5 = Pipeline([(\"cleaner\", predictors()),\n",
    "                 ('vectorizer', tfidf_vector),\n",
    "                 ('knn', knn5)])\n",
    "\n",
    "# model generation\n",
    "pipen5.fit(X_train,y_train)\n",
    "print('Train:', pipen5.score(X_train,y_train))\n",
    "print('Test:', pipen5.score(X_test,y_test))\n",
    "\n",
    "# baseline is .618228\n",
    "\n",
    "# Train: 0.8187613843351548\n",
    "# Test: 0.7473460721868365"
   ]
  },
  {
   "cell_type": "code",
   "execution_count": 40,
   "id": "efficient-lesbian",
   "metadata": {
    "ExecuteTime": {
     "end_time": "2021-03-15T22:27:09.085400Z",
     "start_time": "2021-03-15T22:25:07.090985Z"
    }
   },
   "outputs": [
    {
     "data": {
      "image/png": "[encoded data removed]",
      "text/plain": [
       "<Figure size 432x288 with 2 Axes>"
      ]
     },
     "metadata": {
      "needs_background": "light"
     },
     "output_type": "display_data"
    }
   ],
   "source": [
    "metrics.plot_confusion_matrix(pipen5, X_test, y_test, cmap='Blues', \n",
    "                              values_format='d');"
   ]
  },
  {
   "cell_type": "code",
   "execution_count": 41,
   "id": "incoming-philip",
   "metadata": {
    "ExecuteTime": {
     "end_time": "2021-03-15T22:29:11.177592Z",
     "start_time": "2021-03-15T22:27:09.242649Z"
    }
   },
   "outputs": [
    {
     "data": {
      "text/plain": [
       "[<matplotlib.lines.Line2D at 0x7fdec3f5d9a0>]"
      ]
     },
     "execution_count": 41,
     "metadata": {},
     "output_type": "execute_result"
    },
    {
     "data": {
      "image/png": "[encoded data removed]",
      "text/plain": [
       "<Figure size 432x288 with 1 Axes>"
      ]
     },
     "metadata": {
      "needs_background": "light"
     },
     "output_type": "display_data"
    }
   ],
   "source": [
    "# ROC curve\n",
    "metrics.plot_roc_curve(pipen5, X_test, y_test)\n",
    "# add worst case scenario line\n",
    "plt.plot([0, 1], [0, 1]);"
   ]
  },
  {
   "cell_type": "code",
   "execution_count": 42,
   "id": "lightweight-april",
   "metadata": {
    "ExecuteTime": {
     "end_time": "2021-03-15T22:31:12.656266Z",
     "start_time": "2021-03-15T22:29:11.327493Z"
    }
   },
   "outputs": [
    {
     "data": {
      "text/plain": [
       "0.8370274914089347"
      ]
     },
     "execution_count": 42,
     "metadata": {},
     "output_type": "execute_result"
    }
   ],
   "source": [
    "metrics.roc_auc_score(y_test, pipen5.predict_proba(X_test)[:,1])"
   ]
  },
  {
   "cell_type": "code",
   "execution_count": 43,
   "id": "particular-medium",
   "metadata": {
    "ExecuteTime": {
     "end_time": "2021-03-15T22:25:06.931360Z",
     "start_time": "2021-03-15T22:12:25.905050Z"
    }
   },
   "outputs": [
    {
     "name": "stdout",
     "output_type": "stream",
     "text": [
      "Train: 0.8588342440801457\n",
      "Test: 0.7303609341825902\n"
     ]
    }
   ],
   "source": [
    "# KNN Classifier - Neighbors = 3\n",
    "\n",
    "knn3 = KNeighborsClassifier(n_neighbors=3,n_jobs=-1)\n",
    "\n",
    "pipen3 = Pipeline([(\"cleaner\", predictors()),\n",
    "                 ('vectorizer', tfidf_vector),\n",
    "                 ('knn', knn3)])\n",
    "\n",
    "# model generation\n",
    "pipen3.fit(X_train,y_train)\n",
    "print('Train:', pipen3.score(X_train,y_train))\n",
    "print('Test:', pipen3.score(X_test,y_test))\n",
    "\n",
    "# baseline is .618228\n",
    "\n",
    "# Train: 0.8588342440801457\n",
    "# Test: 0.7303609341825902"
   ]
  },
  {
   "cell_type": "code",
   "execution_count": 44,
   "id": "social-specific",
   "metadata": {
    "ExecuteTime": {
     "end_time": "2021-03-15T22:27:09.085400Z",
     "start_time": "2021-03-15T22:25:07.090985Z"
    }
   },
   "outputs": [
    {
     "data": {
      "image/png": "[encoded data removed]",
      "text/plain": [
       "<Figure size 432x288 with 2 Axes>"
      ]
     },
     "metadata": {
      "needs_background": "light"
     },
     "output_type": "display_data"
    }
   ],
   "source": [
    "metrics.plot_confusion_matrix(pipen3, X_test, y_test, cmap='Blues', \n",
    "                              values_format='d');"
   ]
  },
  {
   "cell_type": "code",
   "execution_count": 45,
   "id": "impressed-client",
   "metadata": {
    "ExecuteTime": {
     "end_time": "2021-03-15T22:29:11.177592Z",
     "start_time": "2021-03-15T22:27:09.242649Z"
    }
   },
   "outputs": [
    {
     "data": {
      "text/plain": [
       "[<matplotlib.lines.Line2D at 0x7fdebdf8f8b0>]"
      ]
     },
     "execution_count": 45,
     "metadata": {},
     "output_type": "execute_result"
    },
    {
     "data": {
      "image/png": "[encoded data removed]",
      "text/plain": [
       "<Figure size 432x288 with 1 Axes>"
      ]
     },
     "metadata": {
      "needs_background": "light"
     },
     "output_type": "display_data"
    }
   ],
   "source": [
    "# ROC curve\n",
    "metrics.plot_roc_curve(pipen3, X_test, y_test)\n",
    "# add worst case scenario line\n",
    "plt.plot([0, 1], [0, 1]);"
   ]
  },
  {
   "cell_type": "code",
   "execution_count": 46,
   "id": "failing-trainer",
   "metadata": {
    "ExecuteTime": {
     "end_time": "2021-03-15T22:31:12.656266Z",
     "start_time": "2021-03-15T22:29:11.327493Z"
    }
   },
   "outputs": [
    {
     "data": {
      "text/plain": [
       "0.7996468117602138"
      ]
     },
     "execution_count": 46,
     "metadata": {},
     "output_type": "execute_result"
    }
   ],
   "source": [
    "metrics.roc_auc_score(y_test, pipen3.predict_proba(X_test)[:,1])"
   ]
  }
 ],
 "metadata": {
  "kernelspec": {
   "display_name": "Python 3",
   "language": "python",
   "name": "python3"
  },
  "language_info": {
   "codemirror_mode": {
    "name": "ipython",
    "version": 3
   },
   "file_extension": ".py",
   "mimetype": "text/x-python",
   "name": "python",
   "nbconvert_exporter": "python",
   "pygments_lexer": "ipython3",
   "version": "3.8.5"
  },
  "toc": {
   "base_numbering": 1,
   "nav_menu": {},
   "number_sections": true,
   "sideBar": true,
   "skip_h1_title": false,
   "title_cell": "Table of Contents",
   "title_sidebar": "Contents",
   "toc_cell": false,
   "toc_position": {},
   "toc_section_display": true,
   "toc_window_display": false
  },
  "varInspector": {
   "cols": {
    "lenName": 16,
    "lenType": 16,
    "lenVar": 40
   },
   "kernels_config": {
    "python": {
     "delete_cmd_postfix": "",
     "delete_cmd_prefix": "del ",
     "library": "var_list.py",
     "varRefreshCmd": "print(var_dic_list())"
    },
    "r": {
     "delete_cmd_postfix": ") ",
     "delete_cmd_prefix": "rm(",
     "library": "var_list.r",
     "varRefreshCmd": "cat(var_dic_list()) "
    }
   },
   "types_to_exclude": [
    "module",
    "function",
    "builtin_function_or_method",
    "instance",
    "_Feature"
   ],
   "window_display": false
  }
 },
 "nbformat": 4,
 "nbformat_minor": 5
}
