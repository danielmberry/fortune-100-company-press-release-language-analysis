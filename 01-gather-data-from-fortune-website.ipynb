{
 "cells": [
  {
   "cell_type": "markdown",
   "id": "liberal-compilation",
   "metadata": {},
   "source": [
    "## Imports"
   ]
  },
  {
   "cell_type": "code",
   "execution_count": 1,
   "id": "needed-thursday",
   "metadata": {
    "ExecuteTime": {
     "end_time": "2021-03-11T19:25:26.085279Z",
     "start_time": "2021-03-11T19:25:25.537803Z"
    }
   },
   "outputs": [],
   "source": [
    "import pandas as pd\n",
    "import numpy as np\n",
    "import requests\n",
    "import time\n",
    "\n",
    "from bs4 import BeautifulSoup\n",
    "\n",
    "from selenium import webdriver\n",
    "from selenium.webdriver.common.by import By\n",
    "\n",
    "import os\n",
    "\n",
    "from fuzzywuzzy import fuzz, process\n",
    "\n",
    "import warnings\n",
    "warnings.filterwarnings('ignore')"
   ]
  },
  {
   "cell_type": "markdown",
   "id": "french-guest",
   "metadata": {},
   "source": [
    "## Gather Fortune 100 list info"
   ]
  },
  {
   "cell_type": "markdown",
   "id": "completed-return",
   "metadata": {},
   "source": [
    "The code below uses Selenium to gather information from the most recent [Fortune 100 list](https://fortune.com/fortune500/2020/search/). \n",
    "\n",
    "The code uses the `By.XPATH` option and the `.click()` method to set the page to 100 Rows from the beginning. It then finds the top of the table that has all of the companies and then gathers all of the company names and ranks, as well as the link Fortune's profile page for each company (e.g., [Walmart's profile page](https://fortune.com/company/walmart/fortune500/). For each row in the table, it appends a dictionary to the `cos` list created earlier in the code, which is then used to create a DataFrame."
   ]
  },
  {
   "cell_type": "code",
   "execution_count": 2,
   "id": "metallic-housing",
   "metadata": {
    "ExecuteTime": {
     "end_time": "2021-03-11T19:32:18.585624Z",
     "start_time": "2021-03-11T19:25:26.087921Z"
    }
   },
   "outputs": [
    {
     "data": {
      "text/html": [
       "<div>\n",
       "<style scoped>\n",
       "    .dataframe tbody tr th:only-of-type {\n",
       "        vertical-align: middle;\n",
       "    }\n",
       "\n",
       "    .dataframe tbody tr th {\n",
       "        vertical-align: top;\n",
       "    }\n",
       "\n",
       "    .dataframe thead th {\n",
       "        text-align: right;\n",
       "    }\n",
       "</style>\n",
       "<table border=\"1\" class=\"dataframe\">\n",
       "  <thead>\n",
       "    <tr style=\"text-align: right;\">\n",
       "      <th></th>\n",
       "      <th>company</th>\n",
       "      <th>rank</th>\n",
       "      <th>fortune_link</th>\n",
       "    </tr>\n",
       "  </thead>\n",
       "  <tbody>\n",
       "    <tr>\n",
       "      <th>0</th>\n",
       "      <td>Walmart</td>\n",
       "      <td>1</td>\n",
       "      <td>https://fortune.com/company/walmart/fortune500/</td>\n",
       "    </tr>\n",
       "    <tr>\n",
       "      <th>1</th>\n",
       "      <td>Amazon</td>\n",
       "      <td>2</td>\n",
       "      <td>https://fortune.com/company/amazon-com/fortune...</td>\n",
       "    </tr>\n",
       "    <tr>\n",
       "      <th>2</th>\n",
       "      <td>Exxon Mobil</td>\n",
       "      <td>3</td>\n",
       "      <td>https://fortune.com/company/exxon-mobil/fortun...</td>\n",
       "    </tr>\n",
       "    <tr>\n",
       "      <th>3</th>\n",
       "      <td>Apple</td>\n",
       "      <td>4</td>\n",
       "      <td>https://fortune.com/company/apple/fortune500/</td>\n",
       "    </tr>\n",
       "    <tr>\n",
       "      <th>4</th>\n",
       "      <td>CVS Health</td>\n",
       "      <td>5</td>\n",
       "      <td>https://fortune.com/company/cvs-health/fortune...</td>\n",
       "    </tr>\n",
       "    <tr>\n",
       "      <th>...</th>\n",
       "      <td>...</td>\n",
       "      <td>...</td>\n",
       "      <td>...</td>\n",
       "    </tr>\n",
       "    <tr>\n",
       "      <th>95</th>\n",
       "      <td>Northrop Grumman</td>\n",
       "      <td>96</td>\n",
       "      <td>https://fortune.com/company/northrop-grumman/f...</td>\n",
       "    </tr>\n",
       "    <tr>\n",
       "      <th>96</th>\n",
       "      <td>Capital One Financial</td>\n",
       "      <td>97</td>\n",
       "      <td>https://fortune.com/company/capital-one-financ...</td>\n",
       "    </tr>\n",
       "    <tr>\n",
       "      <th>97</th>\n",
       "      <td>Plains GP Holdings</td>\n",
       "      <td>98</td>\n",
       "      <td>https://fortune.com/company/plains-gp-holdings...</td>\n",
       "    </tr>\n",
       "    <tr>\n",
       "      <th>98</th>\n",
       "      <td>AbbVie</td>\n",
       "      <td>99</td>\n",
       "      <td>https://fortune.com/company/abbvie/fortune500/</td>\n",
       "    </tr>\n",
       "    <tr>\n",
       "      <th>99</th>\n",
       "      <td>StoneX Group</td>\n",
       "      <td>100</td>\n",
       "      <td>https://fortune.com/company/stonex-group/fortu...</td>\n",
       "    </tr>\n",
       "  </tbody>\n",
       "</table>\n",
       "<p>100 rows × 3 columns</p>\n",
       "</div>"
      ],
      "text/plain": [
       "                  company rank  \\\n",
       "0                 Walmart    1   \n",
       "1                  Amazon    2   \n",
       "2             Exxon Mobil    3   \n",
       "3                   Apple    4   \n",
       "4              CVS Health    5   \n",
       "..                    ...  ...   \n",
       "95       Northrop Grumman   96   \n",
       "96  Capital One Financial   97   \n",
       "97     Plains GP Holdings   98   \n",
       "98                 AbbVie   99   \n",
       "99           StoneX Group  100   \n",
       "\n",
       "                                         fortune_link  \n",
       "0     https://fortune.com/company/walmart/fortune500/  \n",
       "1   https://fortune.com/company/amazon-com/fortune...  \n",
       "2   https://fortune.com/company/exxon-mobil/fortun...  \n",
       "3       https://fortune.com/company/apple/fortune500/  \n",
       "4   https://fortune.com/company/cvs-health/fortune...  \n",
       "..                                                ...  \n",
       "95  https://fortune.com/company/northrop-grumman/f...  \n",
       "96  https://fortune.com/company/capital-one-financ...  \n",
       "97  https://fortune.com/company/plains-gp-holdings...  \n",
       "98     https://fortune.com/company/abbvie/fortune500/  \n",
       "99  https://fortune.com/company/stonex-group/fortu...  \n",
       "\n",
       "[100 rows x 3 columns]"
      ]
     },
     "execution_count": 2,
     "metadata": {},
     "output_type": "execute_result"
    }
   ],
   "source": [
    "# prepare the option for the chrome driver\n",
    "options = webdriver.ChromeOptions()\n",
    "options.add_argument('headless')\n",
    "\n",
    "# start chrome browser\n",
    "browser = webdriver.Chrome(options=options)\n",
    "\n",
    "# get all the data from the Fortune 100 list\n",
    "browser.get('https://fortune.com/fortune500/2020/search/')\n",
    "\n",
    "# create list that all of the info can be appended to\n",
    "cos = []\n",
    "\n",
    "# set the page length to 100 rows instead of 10 rows\n",
    "options_rows = browser.find_elements(\n",
    "    By.XPATH, '//select[@aria-label=\"rows per page\"]/option')\n",
    "for o in options_rows:\n",
    "    if o.text == '100 Rows':\n",
    "        o.click()\n",
    "\n",
    "# gather all of the row data\n",
    "elements = browser.find_elements(By.CLASS_NAME, 'rt-tr-group')\n",
    "\n",
    "# iterate through the elements vairable to get the information that will\n",
    "# be appended to the list `cos`\n",
    "for e in elements:\n",
    "    # create `co` dictionary\n",
    "    co = {}\n",
    "\n",
    "    # get the company name, rank and link to the fortune profile page for each row\n",
    "    co['company'] = e.text.split('\\n')[1]\n",
    "    co['rank'] = e.text.split('\\n')[0]\n",
    "    co['fortune_link'] = e.find_element(By.TAG_NAME, 'a').get_attribute('href')\n",
    "\n",
    "    # append to the `cos` list\n",
    "    cos.append(co)\n",
    "\n",
    "    # sleep for 4 seconds so as not to hit the page too many times\n",
    "    time.sleep(4)\n",
    "\n",
    "# create a dataframe from the final list\n",
    "cos = pd.DataFrame(cos)\n",
    "cos"
   ]
  },
  {
   "cell_type": "markdown",
   "id": "mediterranean-registration",
   "metadata": {},
   "source": [
    "## Gather company website information from each Fortune profile page"
   ]
  },
  {
   "cell_type": "code",
   "execution_count": 3,
   "id": "settled-capture",
   "metadata": {
    "ExecuteTime": {
     "end_time": "2021-03-11T19:32:18.591798Z",
     "start_time": "2021-03-11T19:32:18.588396Z"
    }
   },
   "outputs": [],
   "source": [
    "# create a column from the company website\n",
    "# commented out so as not to overwrite the rows\n",
    "\n",
    "cos['co_website'] = '' * 100"
   ]
  },
  {
   "cell_type": "markdown",
   "id": "behavioral-tribune",
   "metadata": {},
   "source": [
    "The code below iterates through each row in the `cos_df` DataFrame and uses the link collected from the table to visit each profile page for the Fortune 100. The code then collects the link Fortune has listed as the company's website and adds it to the DataFrame."
   ]
  },
  {
   "cell_type": "code",
   "execution_count": 5,
   "id": "corresponding-combine",
   "metadata": {
    "ExecuteTime": {
     "end_time": "2021-03-11T19:41:37.385384Z",
     "start_time": "2021-03-11T19:32:47.425601Z"
    }
   },
   "outputs": [],
   "source": [
    "# prepare the option for the chrome driver\n",
    "options = webdriver.ChromeOptions()\n",
    "options.add_argument('headless')\n",
    "\n",
    "# start chrome browser\n",
    "browser = webdriver.Chrome(options=options)\n",
    "\n",
    "# iterate through the links in the `cos_df` to get to the fortune\n",
    "# profile page for each of the companies\n",
    "for i in range(len(cos)):\n",
    "    url = cos['fortune_link'][i]\n",
    "    browser.get(f'{url}')\n",
    "    vals = browser.find_elements(By.TAG_NAME, 'a')\n",
    "\n",
    "    # get the company website from the fortune profile page\n",
    "    cos['co_website'][i] = [\n",
    "        v.get_attribute('href') for v in vals\n",
    "        if 'fortune.com' not in v.get_attribute('href')\n",
    "    ][2]\n",
    "\n",
    "    time.sleep(3)"
   ]
  },
  {
   "cell_type": "code",
   "execution_count": 6,
   "id": "express-denmark",
   "metadata": {
    "ExecuteTime": {
     "end_time": "2021-03-11T19:42:40.882876Z",
     "start_time": "2021-03-11T19:42:40.871449Z"
    }
   },
   "outputs": [
    {
     "data": {
      "text/html": [
       "<div>\n",
       "<style scoped>\n",
       "    .dataframe tbody tr th:only-of-type {\n",
       "        vertical-align: middle;\n",
       "    }\n",
       "\n",
       "    .dataframe tbody tr th {\n",
       "        vertical-align: top;\n",
       "    }\n",
       "\n",
       "    .dataframe thead th {\n",
       "        text-align: right;\n",
       "    }\n",
       "</style>\n",
       "<table border=\"1\" class=\"dataframe\">\n",
       "  <thead>\n",
       "    <tr style=\"text-align: right;\">\n",
       "      <th></th>\n",
       "      <th>company</th>\n",
       "      <th>rank</th>\n",
       "      <th>fortune_link</th>\n",
       "      <th>co_website</th>\n",
       "    </tr>\n",
       "  </thead>\n",
       "  <tbody>\n",
       "    <tr>\n",
       "      <th>0</th>\n",
       "      <td>Walmart</td>\n",
       "      <td>1</td>\n",
       "      <td>https://fortune.com/company/walmart/fortune500/</td>\n",
       "      <td>https://www.stock.walmart.com/</td>\n",
       "    </tr>\n",
       "    <tr>\n",
       "      <th>1</th>\n",
       "      <td>Amazon</td>\n",
       "      <td>2</td>\n",
       "      <td>https://fortune.com/company/amazon-com/fortune...</td>\n",
       "      <td>https://www.amazon.com/</td>\n",
       "    </tr>\n",
       "    <tr>\n",
       "      <th>2</th>\n",
       "      <td>Exxon Mobil</td>\n",
       "      <td>3</td>\n",
       "      <td>https://fortune.com/company/exxon-mobil/fortun...</td>\n",
       "      <td>https://www.exxonmobil.com/</td>\n",
       "    </tr>\n",
       "    <tr>\n",
       "      <th>3</th>\n",
       "      <td>Apple</td>\n",
       "      <td>4</td>\n",
       "      <td>https://fortune.com/company/apple/fortune500/</td>\n",
       "      <td>https://www.apple.com/</td>\n",
       "    </tr>\n",
       "    <tr>\n",
       "      <th>4</th>\n",
       "      <td>CVS Health</td>\n",
       "      <td>5</td>\n",
       "      <td>https://fortune.com/company/cvs-health/fortune...</td>\n",
       "      <td>https://www.cvshealth.com/</td>\n",
       "    </tr>\n",
       "    <tr>\n",
       "      <th>...</th>\n",
       "      <td>...</td>\n",
       "      <td>...</td>\n",
       "      <td>...</td>\n",
       "      <td>...</td>\n",
       "    </tr>\n",
       "    <tr>\n",
       "      <th>95</th>\n",
       "      <td>Northrop Grumman</td>\n",
       "      <td>96</td>\n",
       "      <td>https://fortune.com/company/northrop-grumman/f...</td>\n",
       "      <td>https://www.northropgrumman.com/</td>\n",
       "    </tr>\n",
       "    <tr>\n",
       "      <th>96</th>\n",
       "      <td>Capital One Financial</td>\n",
       "      <td>97</td>\n",
       "      <td>https://fortune.com/company/capital-one-financ...</td>\n",
       "      <td>https://www.capitalone.com/</td>\n",
       "    </tr>\n",
       "    <tr>\n",
       "      <th>97</th>\n",
       "      <td>Plains GP Holdings</td>\n",
       "      <td>98</td>\n",
       "      <td>https://fortune.com/company/plains-gp-holdings...</td>\n",
       "      <td>https://www.plainsallamerican.com/</td>\n",
       "    </tr>\n",
       "    <tr>\n",
       "      <th>98</th>\n",
       "      <td>AbbVie</td>\n",
       "      <td>99</td>\n",
       "      <td>https://fortune.com/company/abbvie/fortune500/</td>\n",
       "      <td>https://www.abbvie.com/</td>\n",
       "    </tr>\n",
       "    <tr>\n",
       "      <th>99</th>\n",
       "      <td>StoneX Group</td>\n",
       "      <td>100</td>\n",
       "      <td>https://fortune.com/company/stonex-group/fortu...</td>\n",
       "      <td>https://www.stonex.com/</td>\n",
       "    </tr>\n",
       "  </tbody>\n",
       "</table>\n",
       "<p>100 rows × 4 columns</p>\n",
       "</div>"
      ],
      "text/plain": [
       "                  company rank  \\\n",
       "0                 Walmart    1   \n",
       "1                  Amazon    2   \n",
       "2             Exxon Mobil    3   \n",
       "3                   Apple    4   \n",
       "4              CVS Health    5   \n",
       "..                    ...  ...   \n",
       "95       Northrop Grumman   96   \n",
       "96  Capital One Financial   97   \n",
       "97     Plains GP Holdings   98   \n",
       "98                 AbbVie   99   \n",
       "99           StoneX Group  100   \n",
       "\n",
       "                                         fortune_link  \\\n",
       "0     https://fortune.com/company/walmart/fortune500/   \n",
       "1   https://fortune.com/company/amazon-com/fortune...   \n",
       "2   https://fortune.com/company/exxon-mobil/fortun...   \n",
       "3       https://fortune.com/company/apple/fortune500/   \n",
       "4   https://fortune.com/company/cvs-health/fortune...   \n",
       "..                                                ...   \n",
       "95  https://fortune.com/company/northrop-grumman/f...   \n",
       "96  https://fortune.com/company/capital-one-financ...   \n",
       "97  https://fortune.com/company/plains-gp-holdings...   \n",
       "98     https://fortune.com/company/abbvie/fortune500/   \n",
       "99  https://fortune.com/company/stonex-group/fortu...   \n",
       "\n",
       "                            co_website  \n",
       "0       https://www.stock.walmart.com/  \n",
       "1              https://www.amazon.com/  \n",
       "2          https://www.exxonmobil.com/  \n",
       "3               https://www.apple.com/  \n",
       "4           https://www.cvshealth.com/  \n",
       "..                                 ...  \n",
       "95    https://www.northropgrumman.com/  \n",
       "96         https://www.capitalone.com/  \n",
       "97  https://www.plainsallamerican.com/  \n",
       "98             https://www.abbvie.com/  \n",
       "99             https://www.stonex.com/  \n",
       "\n",
       "[100 rows x 4 columns]"
      ]
     },
     "execution_count": 6,
     "metadata": {},
     "output_type": "execute_result"
    }
   ],
   "source": [
    "cos"
   ]
  },
  {
   "cell_type": "markdown",
   "id": "operating-analyst",
   "metadata": {},
   "source": [
    "Manually adjusting some websites that were incorrect below."
   ]
  },
  {
   "cell_type": "code",
   "execution_count": 7,
   "id": "abroad-adobe",
   "metadata": {
    "ExecuteTime": {
     "end_time": "2021-03-11T19:42:46.625796Z",
     "start_time": "2021-03-11T19:42:46.620555Z"
    }
   },
   "outputs": [],
   "source": [
    "cos.loc[0,'co_website'] = 'https://corporate.walmart.com'\n",
    "cos.loc[13, 'co_website'] = 'https://investor.costco.com'\n",
    "cos.loc[40,'co_website'] = 'http://www.freddiemac.com/investors/'\n",
    "cos.loc[70, 'co_website'] = 'https://corporate.charter.com'\n",
    "cos.loc[74, 'co_website'] = 'https://corporate.bestbuy.com'"
   ]
  },
  {
   "cell_type": "code",
   "execution_count": 8,
   "id": "automatic-attachment",
   "metadata": {
    "ExecuteTime": {
     "end_time": "2021-03-11T19:42:53.156259Z",
     "start_time": "2021-03-11T19:42:53.145466Z"
    }
   },
   "outputs": [],
   "source": [
    "# save the dataframe to a csv\n",
    "# commented out until needed\n",
    "\n",
    "cos.to_csv('./fortune_100_data.csv', index = False)"
   ]
  }
 ],
 "metadata": {
  "kernelspec": {
   "display_name": "Python 3",
   "language": "python",
   "name": "python3"
  },
  "language_info": {
   "codemirror_mode": {
    "name": "ipython",
    "version": 3
   },
   "file_extension": ".py",
   "mimetype": "text/x-python",
   "name": "python",
   "nbconvert_exporter": "python",
   "pygments_lexer": "ipython3",
   "version": "3.8.5"
  },
  "toc": {
   "base_numbering": 1,
   "nav_menu": {},
   "number_sections": true,
   "sideBar": true,
   "skip_h1_title": false,
   "title_cell": "Table of Contents",
   "title_sidebar": "Contents",
   "toc_cell": false,
   "toc_position": {},
   "toc_section_display": true,
   "toc_window_display": false
  },
  "varInspector": {
   "cols": {
    "lenName": 16,
    "lenType": 16,
    "lenVar": 40
   },
   "kernels_config": {
    "python": {
     "delete_cmd_postfix": "",
     "delete_cmd_prefix": "del ",
     "library": "var_list.py",
     "varRefreshCmd": "print(var_dic_list())"
    },
    "r": {
     "delete_cmd_postfix": ") ",
     "delete_cmd_prefix": "rm(",
     "library": "var_list.r",
     "varRefreshCmd": "cat(var_dic_list()) "
    }
   },
   "types_to_exclude": [
    "module",
    "function",
    "builtin_function_or_method",
    "instance",
    "_Feature"
   ],
   "window_display": false
  }
 },
 "nbformat": 4,
 "nbformat_minor": 5
}
